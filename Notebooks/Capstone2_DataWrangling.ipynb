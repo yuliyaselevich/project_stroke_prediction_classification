{
 "cells": [
  {
   "cell_type": "markdown",
   "id": "e6c37f50",
   "metadata": {},
   "source": [
    "## Data Wrangling"
   ]
  },
  {
   "cell_type": "code",
   "execution_count": 1,
   "id": "530c3c04",
   "metadata": {
    "ExecuteTime": {
     "end_time": "2022-08-10T20:59:41.674875Z",
     "start_time": "2022-08-10T20:59:39.061861Z"
    }
   },
   "outputs": [],
   "source": [
    "import numpy as np \n",
    "import pandas as pd\n",
    "import matplotlib.pyplot as plt\n",
    "import seaborn as sns\n",
    "import os"
   ]
  },
  {
   "cell_type": "code",
   "execution_count": 2,
   "id": "ce788796",
   "metadata": {
    "ExecuteTime": {
     "end_time": "2022-08-10T20:59:41.710900Z",
     "start_time": "2022-08-10T20:59:41.676881Z"
    }
   },
   "outputs": [],
   "source": [
    "data = pd.read_csv('C:/Users/Julia/Documents/_DATA SCIENCE/_Capstones/Capstone 2/Data/healthcare-dataset-stroke-data.csv')"
   ]
  },
  {
   "cell_type": "code",
   "execution_count": 3,
   "id": "c937c2ff",
   "metadata": {
    "ExecuteTime": {
     "end_time": "2022-08-10T20:59:41.738919Z",
     "start_time": "2022-08-10T20:59:41.711899Z"
    },
    "scrolled": false
   },
   "outputs": [
    {
     "name": "stdout",
     "output_type": "stream",
     "text": [
      "<class 'pandas.core.frame.DataFrame'>\n",
      "RangeIndex: 5110 entries, 0 to 5109\n",
      "Data columns (total 12 columns):\n",
      " #   Column             Non-Null Count  Dtype  \n",
      "---  ------             --------------  -----  \n",
      " 0   id                 5110 non-null   int64  \n",
      " 1   gender             5110 non-null   object \n",
      " 2   age                5110 non-null   float64\n",
      " 3   hypertension       5110 non-null   int64  \n",
      " 4   heart_disease      5110 non-null   int64  \n",
      " 5   ever_married       5110 non-null   object \n",
      " 6   work_type          5110 non-null   object \n",
      " 7   Residence_type     5110 non-null   object \n",
      " 8   avg_glucose_level  5110 non-null   float64\n",
      " 9   bmi                4909 non-null   float64\n",
      " 10  smoking_status     5110 non-null   object \n",
      " 11  stroke             5110 non-null   int64  \n",
      "dtypes: float64(3), int64(4), object(5)\n",
      "memory usage: 479.2+ KB\n"
     ]
    }
   ],
   "source": [
    "data.info()"
   ]
  },
  {
   "cell_type": "markdown",
   "id": "63cad23a",
   "metadata": {},
   "source": [
    "### First I want to check if there are duplicate values in the id column to be sure that the information for the same patient isn't repeated twice."
   ]
  },
  {
   "cell_type": "code",
   "execution_count": 4,
   "id": "bde7dc03",
   "metadata": {
    "ExecuteTime": {
     "end_time": "2022-08-10T20:59:41.749927Z",
     "start_time": "2022-08-10T20:59:41.741922Z"
    }
   },
   "outputs": [
    {
     "data": {
      "text/plain": [
       "False"
      ]
     },
     "execution_count": 4,
     "metadata": {},
     "output_type": "execute_result"
    }
   ],
   "source": [
    "data['id'].duplicated().any()"
   ]
  },
  {
   "cell_type": "markdown",
   "id": "c8d96fb3",
   "metadata": {},
   "source": [
    "### There are no duplicate id numbers.\n",
    "### I think we can drop 'id' column as it is redundant."
   ]
  },
  {
   "cell_type": "code",
   "execution_count": 5,
   "id": "75c3a94a",
   "metadata": {
    "ExecuteTime": {
     "end_time": "2022-08-10T20:59:41.762943Z",
     "start_time": "2022-08-10T20:59:41.753929Z"
    }
   },
   "outputs": [],
   "source": [
    "data = data.drop(columns='id', axis=1)"
   ]
  },
  {
   "cell_type": "code",
   "execution_count": 6,
   "id": "f9232fdf",
   "metadata": {
    "ExecuteTime": {
     "end_time": "2022-08-10T20:59:41.794958Z",
     "start_time": "2022-08-10T20:59:41.766939Z"
    }
   },
   "outputs": [
    {
     "data": {
      "text/html": [
       "<div>\n",
       "<style scoped>\n",
       "    .dataframe tbody tr th:only-of-type {\n",
       "        vertical-align: middle;\n",
       "    }\n",
       "\n",
       "    .dataframe tbody tr th {\n",
       "        vertical-align: top;\n",
       "    }\n",
       "\n",
       "    .dataframe thead th {\n",
       "        text-align: right;\n",
       "    }\n",
       "</style>\n",
       "<table border=\"1\" class=\"dataframe\">\n",
       "  <thead>\n",
       "    <tr style=\"text-align: right;\">\n",
       "      <th></th>\n",
       "      <th>gender</th>\n",
       "      <th>age</th>\n",
       "      <th>hypertension</th>\n",
       "      <th>heart_disease</th>\n",
       "      <th>ever_married</th>\n",
       "      <th>work_type</th>\n",
       "      <th>Residence_type</th>\n",
       "      <th>avg_glucose_level</th>\n",
       "      <th>bmi</th>\n",
       "      <th>smoking_status</th>\n",
       "      <th>stroke</th>\n",
       "    </tr>\n",
       "  </thead>\n",
       "  <tbody>\n",
       "    <tr>\n",
       "      <th>0</th>\n",
       "      <td>Male</td>\n",
       "      <td>67.0</td>\n",
       "      <td>0</td>\n",
       "      <td>1</td>\n",
       "      <td>Yes</td>\n",
       "      <td>Private</td>\n",
       "      <td>Urban</td>\n",
       "      <td>228.69</td>\n",
       "      <td>36.6</td>\n",
       "      <td>formerly smoked</td>\n",
       "      <td>1</td>\n",
       "    </tr>\n",
       "    <tr>\n",
       "      <th>1</th>\n",
       "      <td>Female</td>\n",
       "      <td>61.0</td>\n",
       "      <td>0</td>\n",
       "      <td>0</td>\n",
       "      <td>Yes</td>\n",
       "      <td>Self-employed</td>\n",
       "      <td>Rural</td>\n",
       "      <td>202.21</td>\n",
       "      <td>NaN</td>\n",
       "      <td>never smoked</td>\n",
       "      <td>1</td>\n",
       "    </tr>\n",
       "    <tr>\n",
       "      <th>2</th>\n",
       "      <td>Male</td>\n",
       "      <td>80.0</td>\n",
       "      <td>0</td>\n",
       "      <td>1</td>\n",
       "      <td>Yes</td>\n",
       "      <td>Private</td>\n",
       "      <td>Rural</td>\n",
       "      <td>105.92</td>\n",
       "      <td>32.5</td>\n",
       "      <td>never smoked</td>\n",
       "      <td>1</td>\n",
       "    </tr>\n",
       "    <tr>\n",
       "      <th>3</th>\n",
       "      <td>Female</td>\n",
       "      <td>49.0</td>\n",
       "      <td>0</td>\n",
       "      <td>0</td>\n",
       "      <td>Yes</td>\n",
       "      <td>Private</td>\n",
       "      <td>Urban</td>\n",
       "      <td>171.23</td>\n",
       "      <td>34.4</td>\n",
       "      <td>smokes</td>\n",
       "      <td>1</td>\n",
       "    </tr>\n",
       "    <tr>\n",
       "      <th>4</th>\n",
       "      <td>Female</td>\n",
       "      <td>79.0</td>\n",
       "      <td>1</td>\n",
       "      <td>0</td>\n",
       "      <td>Yes</td>\n",
       "      <td>Self-employed</td>\n",
       "      <td>Rural</td>\n",
       "      <td>174.12</td>\n",
       "      <td>24.0</td>\n",
       "      <td>never smoked</td>\n",
       "      <td>1</td>\n",
       "    </tr>\n",
       "  </tbody>\n",
       "</table>\n",
       "</div>"
      ],
      "text/plain": [
       "   gender   age  hypertension  heart_disease ever_married      work_type  \\\n",
       "0    Male  67.0             0              1          Yes        Private   \n",
       "1  Female  61.0             0              0          Yes  Self-employed   \n",
       "2    Male  80.0             0              1          Yes        Private   \n",
       "3  Female  49.0             0              0          Yes        Private   \n",
       "4  Female  79.0             1              0          Yes  Self-employed   \n",
       "\n",
       "  Residence_type  avg_glucose_level   bmi   smoking_status  stroke  \n",
       "0          Urban             228.69  36.6  formerly smoked       1  \n",
       "1          Rural             202.21   NaN     never smoked       1  \n",
       "2          Rural             105.92  32.5     never smoked       1  \n",
       "3          Urban             171.23  34.4           smokes       1  \n",
       "4          Rural             174.12  24.0     never smoked       1  "
      ]
     },
     "execution_count": 6,
     "metadata": {},
     "output_type": "execute_result"
    }
   ],
   "source": [
    "data.head()"
   ]
  },
  {
   "cell_type": "markdown",
   "id": "ecfa7d2d",
   "metadata": {},
   "source": [
    "### Distribution of categorical variables"
   ]
  },
  {
   "cell_type": "code",
   "execution_count": 7,
   "id": "d124f05e",
   "metadata": {
    "ExecuteTime": {
     "end_time": "2022-08-10T20:59:42.299316Z",
     "start_time": "2022-08-10T20:59:41.796960Z"
    }
   },
   "outputs": [
    {
     "data": {
      "image/png": "[encoded data removed]",
      "text/plain": [
       "<Figure size 1296x720 with 5 Axes>"
      ]
     },
     "metadata": {
      "needs_background": "light"
     },
     "output_type": "display_data"
    }
   ],
   "source": [
    "fig, ax =plt.subplots(2,3)\n",
    "sns.countplot(data=data,x='gender',ax =ax[0,0])\n",
    "sns.countplot(data=data, x='ever_married',ax=ax[0,1])\n",
    "sns.countplot(data=data,x='work_type',ax=ax[0,2])\n",
    "sns.countplot(data=data,x='Residence_type',ax=ax[1,0])\n",
    "sns.countplot(data=data,x='smoking_status',ax=ax[1,1])\n",
    "fig.delaxes(ax=ax[1][2])\n",
    "fig.set_size_inches(18, 10)\n",
    "plt.show()"
   ]
  },
  {
   "cell_type": "markdown",
   "id": "a22dec68",
   "metadata": {},
   "source": [
    "### Distribution of numeric variables"
   ]
  },
  {
   "cell_type": "code",
   "execution_count": 8,
   "id": "2313ea76",
   "metadata": {
    "ExecuteTime": {
     "end_time": "2022-08-10T20:59:42.926032Z",
     "start_time": "2022-08-10T20:59:42.301318Z"
    }
   },
   "outputs": [
    {
     "data": {
      "image/png": "[encoded data removed]",
      "text/plain": [
       "<Figure size 1080x720 with 6 Axes>"
      ]
     },
     "metadata": {
      "needs_background": "light"
     },
     "output_type": "display_data"
    }
   ],
   "source": [
    "data.hist(figsize=(15,10))\n",
    "plt.subplots_adjust(hspace=0.5)"
   ]
  },
  {
   "cell_type": "markdown",
   "id": "7cce4756",
   "metadata": {},
   "source": [
    "### There are very low 'age' values, as well as 'children' category in a 'work_type' column, suggesting that there are data for children included in this dataset. "
   ]
  },
  {
   "cell_type": "markdown",
   "id": "8825ca4b",
   "metadata": {},
   "source": [
    "### Next I'm going to check which age values correspond to 'children' value to make sure that data is in fact on children. "
   ]
  },
  {
   "cell_type": "code",
   "execution_count": 9,
   "id": "5e9a07e7",
   "metadata": {
    "ExecuteTime": {
     "end_time": "2022-08-10T20:59:42.943049Z",
     "start_time": "2022-08-10T20:59:42.928035Z"
    }
   },
   "outputs": [
    {
     "data": {
      "text/plain": [
       "count    687.000000\n",
       "mean       6.841339\n",
       "std        4.533364\n",
       "min        0.080000\n",
       "25%        2.000000\n",
       "50%        6.000000\n",
       "75%       11.000000\n",
       "max       16.000000\n",
       "Name: age, dtype: float64"
      ]
     },
     "execution_count": 9,
     "metadata": {},
     "output_type": "execute_result"
    }
   ],
   "source": [
    "data.loc[data['work_type'] == 'children','age'].describe()"
   ]
  },
  {
   "cell_type": "markdown",
   "id": "459b3698",
   "metadata": {},
   "source": [
    "### Age range for 'children' category is 0.08-16\n",
    "### Even though it is possible for a child to have a stroke, it is very rare and normally caused by completely different reasons than those being studied in this project. Therefore I think it is appropriate to drop rows that contain data on children patients. "
   ]
  },
  {
   "cell_type": "code",
   "execution_count": 10,
   "id": "fed79181",
   "metadata": {
    "ExecuteTime": {
     "end_time": "2022-08-10T20:59:42.957054Z",
     "start_time": "2022-08-10T20:59:42.951071Z"
    }
   },
   "outputs": [],
   "source": [
    "data_adult = data[data.work_type != 'children']"
   ]
  },
  {
   "cell_type": "code",
   "execution_count": 11,
   "id": "ed4c2abd",
   "metadata": {
    "ExecuteTime": {
     "end_time": "2022-08-10T20:59:42.971078Z",
     "start_time": "2022-08-10T20:59:42.961059Z"
    }
   },
   "outputs": [
    {
     "data": {
      "text/plain": [
       "count    4423.000000\n",
       "mean       48.878137\n",
       "std        18.707171\n",
       "min         7.000000\n",
       "25%        34.000000\n",
       "50%        49.000000\n",
       "75%        63.000000\n",
       "max        82.000000\n",
       "Name: age, dtype: float64"
      ]
     },
     "execution_count": 11,
     "metadata": {},
     "output_type": "execute_result"
    }
   ],
   "source": [
    "data_adult['age'].describe().T"
   ]
  },
  {
   "cell_type": "markdown",
   "id": "cd7065d1",
   "metadata": {},
   "source": [
    "### Even though I dropped 'children' category, data above show that there are still low 'age' values, therefore I will use maximum age for 'children' category (16) as a threshold and will drop all rows with ages 16 and below"
   ]
  },
  {
   "cell_type": "code",
   "execution_count": 12,
   "id": "47e54e99",
   "metadata": {
    "ExecuteTime": {
     "end_time": "2022-08-10T20:59:42.984084Z",
     "start_time": "2022-08-10T20:59:42.974068Z"
    }
   },
   "outputs": [],
   "source": [
    "data_adult = data_adult[data_adult.age > 16]"
   ]
  },
  {
   "cell_type": "code",
   "execution_count": 13,
   "id": "b6d30c33",
   "metadata": {
    "ExecuteTime": {
     "end_time": "2022-08-10T20:59:43.000087Z",
     "start_time": "2022-08-10T20:59:42.987076Z"
    }
   },
   "outputs": [
    {
     "data": {
      "text/plain": [
       "count    4314.000000\n",
       "mean       49.740380\n",
       "std        18.126633\n",
       "min        17.000000\n",
       "25%        35.000000\n",
       "50%        50.000000\n",
       "75%        64.000000\n",
       "max        82.000000\n",
       "Name: age, dtype: float64"
      ]
     },
     "execution_count": 13,
     "metadata": {},
     "output_type": "execute_result"
    }
   ],
   "source": [
    "data_adult.age.describe().T"
   ]
  },
  {
   "cell_type": "code",
   "execution_count": 14,
   "id": "d160dfb2",
   "metadata": {
    "ExecuteTime": {
     "end_time": "2022-08-10T20:59:43.012093Z",
     "start_time": "2022-08-10T20:59:43.006096Z"
    }
   },
   "outputs": [],
   "source": [
    "data_adult.reset_index(drop=True,inplace=True)"
   ]
  },
  {
   "cell_type": "markdown",
   "id": "154d57a3",
   "metadata": {},
   "source": [
    "### There is an single value 'other' in the 'gender' column which can be dropped."
   ]
  },
  {
   "cell_type": "code",
   "execution_count": 15,
   "id": "a91cd189",
   "metadata": {
    "ExecuteTime": {
     "end_time": "2022-08-10T20:59:43.023102Z",
     "start_time": "2022-08-10T20:59:43.014096Z"
    }
   },
   "outputs": [],
   "source": [
    "data_adult = data_adult[data_adult.gender != 'Other']"
   ]
  },
  {
   "cell_type": "code",
   "execution_count": 16,
   "id": "a9000650",
   "metadata": {
    "ExecuteTime": {
     "end_time": "2022-08-10T20:59:43.040114Z",
     "start_time": "2022-08-10T20:59:43.026104Z"
    }
   },
   "outputs": [
    {
     "data": {
      "text/plain": [
       "gender               False\n",
       "age                  False\n",
       "hypertension         False\n",
       "heart_disease        False\n",
       "ever_married         False\n",
       "work_type            False\n",
       "Residence_type       False\n",
       "avg_glucose_level    False\n",
       "bmi                   True\n",
       "smoking_status       False\n",
       "stroke               False\n",
       "dtype: bool"
      ]
     },
     "execution_count": 16,
     "metadata": {},
     "output_type": "execute_result"
    }
   ],
   "source": [
    "data_adult.isna().any()"
   ]
  },
  {
   "cell_type": "code",
   "execution_count": 17,
   "id": "4805068d",
   "metadata": {
    "ExecuteTime": {
     "end_time": "2022-08-10T20:59:43.104188Z",
     "start_time": "2022-08-10T20:59:43.044117Z"
    }
   },
   "outputs": [],
   "source": [
    "data_adult.to_csv(r'C:/Users/Julia/Documents/_DATA SCIENCE/_Capstones/Capstone 2/Data/Data_adult.csv', \n",
    "                  index=True,header=True)"
   ]
  },
  {
   "cell_type": "markdown",
   "id": "8c39b22f",
   "metadata": {},
   "source": [
    "### Futher steps:\n",
    "1. Exploratory data analyis\n",
    "2. Dealing with missing values in 'bmi' column\n",
    "3. Dealing for skewed distribution of 'bmi' and 'avg_glucose_level' variables."
   ]
  }
 ],
 "metadata": {
  "kernelspec": {
   "display_name": "Python 3 (ipykernel)",
   "language": "python",
   "name": "python3"
  },
  "language_info": {
   "codemirror_mode": {
    "name": "ipython",
    "version": 3
   },
   "file_extension": ".py",
   "mimetype": "text/x-python",
   "name": "python",
   "nbconvert_exporter": "python",
   "pygments_lexer": "ipython3",
   "version": "3.9.12"
  }
 },
 "nbformat": 4,
 "nbformat_minor": 5
}
