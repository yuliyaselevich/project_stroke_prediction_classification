{
 "cells": [
  {
   "cell_type": "markdown",
   "id": "e6c37f50",
   "metadata": {},
   "source": [
    "## Data Wrangling"
   ]
  },
  {
   "cell_type": "code",
   "execution_count": 1,
   "id": "530c3c04",
   "metadata": {
    "ExecuteTime": {
     "end_time": "2023-03-29T16:36:30.035191Z",
     "start_time": "2023-03-29T16:36:24.936580Z"
    }
   },
   "outputs": [],
   "source": [
    "# Import necessary libraries\n",
    "import numpy as np \n",
    "import pandas as pd\n",
    "import matplotlib.pyplot as plt\n",
    "import seaborn as sns\n",
    "import os"
   ]
  },
  {
   "cell_type": "code",
   "execution_count": 2,
   "id": "ce788796",
   "metadata": {
    "ExecuteTime": {
     "end_time": "2023-03-29T16:36:30.057194Z",
     "start_time": "2023-03-29T16:36:30.037178Z"
    }
   },
   "outputs": [],
   "source": [
    "# Read a csv file\n",
    "data = pd.read_csv('C:/Users/Julia/Documents/_DATA SCIENCE/_Capstones/Capstone 2/Data/healthcare-dataset-stroke-data.csv')"
   ]
  },
  {
   "cell_type": "code",
   "execution_count": 3,
   "id": "c937c2ff",
   "metadata": {
    "ExecuteTime": {
     "end_time": "2023-03-29T16:36:30.082210Z",
     "start_time": "2023-03-29T16:36:30.063200Z"
    },
    "scrolled": false
   },
   "outputs": [
    {
     "name": "stdout",
     "output_type": "stream",
     "text": [
      "<class 'pandas.core.frame.DataFrame'>\n",
      "RangeIndex: 5110 entries, 0 to 5109\n",
      "Data columns (total 12 columns):\n",
      " #   Column             Non-Null Count  Dtype  \n",
      "---  ------             --------------  -----  \n",
      " 0   id                 5110 non-null   int64  \n",
      " 1   gender             5110 non-null   object \n",
      " 2   age                5110 non-null   float64\n",
      " 3   hypertension       5110 non-null   int64  \n",
      " 4   heart_disease      5110 non-null   int64  \n",
      " 5   ever_married       5110 non-null   object \n",
      " 6   work_type          5110 non-null   object \n",
      " 7   Residence_type     5110 non-null   object \n",
      " 8   avg_glucose_level  5110 non-null   float64\n",
      " 9   bmi                4909 non-null   float64\n",
      " 10  smoking_status     5110 non-null   object \n",
      " 11  stroke             5110 non-null   int64  \n",
      "dtypes: float64(3), int64(4), object(5)\n",
      "memory usage: 479.2+ KB\n"
     ]
    }
   ],
   "source": [
    "# Get csv file info\n",
    "data.info()"
   ]
  },
  {
   "cell_type": "code",
   "execution_count": 4,
   "id": "9865ba97",
   "metadata": {
    "ExecuteTime": {
     "end_time": "2023-03-29T16:36:30.119251Z",
     "start_time": "2023-03-29T16:36:30.086214Z"
    }
   },
   "outputs": [
    {
     "data": {
      "text/html": [
       "<div>\n",
       "<style scoped>\n",
       "    .dataframe tbody tr th:only-of-type {\n",
       "        vertical-align: middle;\n",
       "    }\n",
       "\n",
       "    .dataframe tbody tr th {\n",
       "        vertical-align: top;\n",
       "    }\n",
       "\n",
       "    .dataframe thead th {\n",
       "        text-align: right;\n",
       "    }\n",
       "</style>\n",
       "<table border=\"1\" class=\"dataframe\">\n",
       "  <thead>\n",
       "    <tr style=\"text-align: right;\">\n",
       "      <th></th>\n",
       "      <th>id</th>\n",
       "      <th>gender</th>\n",
       "      <th>age</th>\n",
       "      <th>hypertension</th>\n",
       "      <th>heart_disease</th>\n",
       "      <th>ever_married</th>\n",
       "      <th>work_type</th>\n",
       "      <th>Residence_type</th>\n",
       "      <th>avg_glucose_level</th>\n",
       "      <th>bmi</th>\n",
       "      <th>smoking_status</th>\n",
       "      <th>stroke</th>\n",
       "    </tr>\n",
       "  </thead>\n",
       "  <tbody>\n",
       "    <tr>\n",
       "      <th>0</th>\n",
       "      <td>9046</td>\n",
       "      <td>Male</td>\n",
       "      <td>67.0</td>\n",
       "      <td>0</td>\n",
       "      <td>1</td>\n",
       "      <td>Yes</td>\n",
       "      <td>Private</td>\n",
       "      <td>Urban</td>\n",
       "      <td>228.69</td>\n",
       "      <td>36.6</td>\n",
       "      <td>formerly smoked</td>\n",
       "      <td>1</td>\n",
       "    </tr>\n",
       "    <tr>\n",
       "      <th>1</th>\n",
       "      <td>51676</td>\n",
       "      <td>Female</td>\n",
       "      <td>61.0</td>\n",
       "      <td>0</td>\n",
       "      <td>0</td>\n",
       "      <td>Yes</td>\n",
       "      <td>Self-employed</td>\n",
       "      <td>Rural</td>\n",
       "      <td>202.21</td>\n",
       "      <td>NaN</td>\n",
       "      <td>never smoked</td>\n",
       "      <td>1</td>\n",
       "    </tr>\n",
       "    <tr>\n",
       "      <th>2</th>\n",
       "      <td>31112</td>\n",
       "      <td>Male</td>\n",
       "      <td>80.0</td>\n",
       "      <td>0</td>\n",
       "      <td>1</td>\n",
       "      <td>Yes</td>\n",
       "      <td>Private</td>\n",
       "      <td>Rural</td>\n",
       "      <td>105.92</td>\n",
       "      <td>32.5</td>\n",
       "      <td>never smoked</td>\n",
       "      <td>1</td>\n",
       "    </tr>\n",
       "    <tr>\n",
       "      <th>3</th>\n",
       "      <td>60182</td>\n",
       "      <td>Female</td>\n",
       "      <td>49.0</td>\n",
       "      <td>0</td>\n",
       "      <td>0</td>\n",
       "      <td>Yes</td>\n",
       "      <td>Private</td>\n",
       "      <td>Urban</td>\n",
       "      <td>171.23</td>\n",
       "      <td>34.4</td>\n",
       "      <td>smokes</td>\n",
       "      <td>1</td>\n",
       "    </tr>\n",
       "    <tr>\n",
       "      <th>4</th>\n",
       "      <td>1665</td>\n",
       "      <td>Female</td>\n",
       "      <td>79.0</td>\n",
       "      <td>1</td>\n",
       "      <td>0</td>\n",
       "      <td>Yes</td>\n",
       "      <td>Self-employed</td>\n",
       "      <td>Rural</td>\n",
       "      <td>174.12</td>\n",
       "      <td>24.0</td>\n",
       "      <td>never smoked</td>\n",
       "      <td>1</td>\n",
       "    </tr>\n",
       "    <tr>\n",
       "      <th>...</th>\n",
       "      <td>...</td>\n",
       "      <td>...</td>\n",
       "      <td>...</td>\n",
       "      <td>...</td>\n",
       "      <td>...</td>\n",
       "      <td>...</td>\n",
       "      <td>...</td>\n",
       "      <td>...</td>\n",
       "      <td>...</td>\n",
       "      <td>...</td>\n",
       "      <td>...</td>\n",
       "      <td>...</td>\n",
       "    </tr>\n",
       "    <tr>\n",
       "      <th>5105</th>\n",
       "      <td>18234</td>\n",
       "      <td>Female</td>\n",
       "      <td>80.0</td>\n",
       "      <td>1</td>\n",
       "      <td>0</td>\n",
       "      <td>Yes</td>\n",
       "      <td>Private</td>\n",
       "      <td>Urban</td>\n",
       "      <td>83.75</td>\n",
       "      <td>NaN</td>\n",
       "      <td>never smoked</td>\n",
       "      <td>0</td>\n",
       "    </tr>\n",
       "    <tr>\n",
       "      <th>5106</th>\n",
       "      <td>44873</td>\n",
       "      <td>Female</td>\n",
       "      <td>81.0</td>\n",
       "      <td>0</td>\n",
       "      <td>0</td>\n",
       "      <td>Yes</td>\n",
       "      <td>Self-employed</td>\n",
       "      <td>Urban</td>\n",
       "      <td>125.20</td>\n",
       "      <td>40.0</td>\n",
       "      <td>never smoked</td>\n",
       "      <td>0</td>\n",
       "    </tr>\n",
       "    <tr>\n",
       "      <th>5107</th>\n",
       "      <td>19723</td>\n",
       "      <td>Female</td>\n",
       "      <td>35.0</td>\n",
       "      <td>0</td>\n",
       "      <td>0</td>\n",
       "      <td>Yes</td>\n",
       "      <td>Self-employed</td>\n",
       "      <td>Rural</td>\n",
       "      <td>82.99</td>\n",
       "      <td>30.6</td>\n",
       "      <td>never smoked</td>\n",
       "      <td>0</td>\n",
       "    </tr>\n",
       "    <tr>\n",
       "      <th>5108</th>\n",
       "      <td>37544</td>\n",
       "      <td>Male</td>\n",
       "      <td>51.0</td>\n",
       "      <td>0</td>\n",
       "      <td>0</td>\n",
       "      <td>Yes</td>\n",
       "      <td>Private</td>\n",
       "      <td>Rural</td>\n",
       "      <td>166.29</td>\n",
       "      <td>25.6</td>\n",
       "      <td>formerly smoked</td>\n",
       "      <td>0</td>\n",
       "    </tr>\n",
       "    <tr>\n",
       "      <th>5109</th>\n",
       "      <td>44679</td>\n",
       "      <td>Female</td>\n",
       "      <td>44.0</td>\n",
       "      <td>0</td>\n",
       "      <td>0</td>\n",
       "      <td>Yes</td>\n",
       "      <td>Govt_job</td>\n",
       "      <td>Urban</td>\n",
       "      <td>85.28</td>\n",
       "      <td>26.2</td>\n",
       "      <td>Unknown</td>\n",
       "      <td>0</td>\n",
       "    </tr>\n",
       "  </tbody>\n",
       "</table>\n",
       "<p>5110 rows × 12 columns</p>\n",
       "</div>"
      ],
      "text/plain": [
       "         id  gender   age  hypertension  heart_disease ever_married  \\\n",
       "0      9046    Male  67.0             0              1          Yes   \n",
       "1     51676  Female  61.0             0              0          Yes   \n",
       "2     31112    Male  80.0             0              1          Yes   \n",
       "3     60182  Female  49.0             0              0          Yes   \n",
       "4      1665  Female  79.0             1              0          Yes   \n",
       "...     ...     ...   ...           ...            ...          ...   \n",
       "5105  18234  Female  80.0             1              0          Yes   \n",
       "5106  44873  Female  81.0             0              0          Yes   \n",
       "5107  19723  Female  35.0             0              0          Yes   \n",
       "5108  37544    Male  51.0             0              0          Yes   \n",
       "5109  44679  Female  44.0             0              0          Yes   \n",
       "\n",
       "          work_type Residence_type  avg_glucose_level   bmi   smoking_status  \\\n",
       "0           Private          Urban             228.69  36.6  formerly smoked   \n",
       "1     Self-employed          Rural             202.21   NaN     never smoked   \n",
       "2           Private          Rural             105.92  32.5     never smoked   \n",
       "3           Private          Urban             171.23  34.4           smokes   \n",
       "4     Self-employed          Rural             174.12  24.0     never smoked   \n",
       "...             ...            ...                ...   ...              ...   \n",
       "5105        Private          Urban              83.75   NaN     never smoked   \n",
       "5106  Self-employed          Urban             125.20  40.0     never smoked   \n",
       "5107  Self-employed          Rural              82.99  30.6     never smoked   \n",
       "5108        Private          Rural             166.29  25.6  formerly smoked   \n",
       "5109       Govt_job          Urban              85.28  26.2          Unknown   \n",
       "\n",
       "      stroke  \n",
       "0          1  \n",
       "1          1  \n",
       "2          1  \n",
       "3          1  \n",
       "4          1  \n",
       "...      ...  \n",
       "5105       0  \n",
       "5106       0  \n",
       "5107       0  \n",
       "5108       0  \n",
       "5109       0  \n",
       "\n",
       "[5110 rows x 12 columns]"
      ]
     },
     "execution_count": 4,
     "metadata": {},
     "output_type": "execute_result"
    }
   ],
   "source": [
    "# Print the dataframe\n",
    "data"
   ]
  },
  {
   "cell_type": "markdown",
   "id": "63cad23a",
   "metadata": {},
   "source": [
    "### First I want to check if there are duplicate values in the id column to be sure that the information for the same patient isn't repeated twice."
   ]
  },
  {
   "cell_type": "code",
   "execution_count": 5,
   "id": "bde7dc03",
   "metadata": {
    "ExecuteTime": {
     "end_time": "2023-03-29T16:36:30.131246Z",
     "start_time": "2023-03-29T16:36:30.125242Z"
    }
   },
   "outputs": [
    {
     "data": {
      "text/plain": [
       "False"
      ]
     },
     "execution_count": 5,
     "metadata": {},
     "output_type": "execute_result"
    }
   ],
   "source": [
    "# Check if there are any duplicate values in the 'id' column of the 'data' DataFrame\n",
    "data['id'].duplicated().any()"
   ]
  },
  {
   "cell_type": "markdown",
   "id": "c8d96fb3",
   "metadata": {},
   "source": [
    "### There are no duplicate id numbers.\n",
    "### I think we can drop 'id' column as it is redundant."
   ]
  },
  {
   "cell_type": "code",
   "execution_count": 6,
   "id": "75c3a94a",
   "metadata": {
    "ExecuteTime": {
     "end_time": "2023-03-29T16:36:30.142253Z",
     "start_time": "2023-03-29T16:36:30.136251Z"
    }
   },
   "outputs": [],
   "source": [
    "# Remove the 'id' column from the DataFrame\n",
    "data = data.drop(columns='id', axis=1)"
   ]
  },
  {
   "cell_type": "code",
   "execution_count": 7,
   "id": "f9232fdf",
   "metadata": {
    "ExecuteTime": {
     "end_time": "2023-03-29T16:36:30.162269Z",
     "start_time": "2023-03-29T16:36:30.145257Z"
    }
   },
   "outputs": [
    {
     "data": {
      "text/html": [
       "<div>\n",
       "<style scoped>\n",
       "    .dataframe tbody tr th:only-of-type {\n",
       "        vertical-align: middle;\n",
       "    }\n",
       "\n",
       "    .dataframe tbody tr th {\n",
       "        vertical-align: top;\n",
       "    }\n",
       "\n",
       "    .dataframe thead th {\n",
       "        text-align: right;\n",
       "    }\n",
       "</style>\n",
       "<table border=\"1\" class=\"dataframe\">\n",
       "  <thead>\n",
       "    <tr style=\"text-align: right;\">\n",
       "      <th></th>\n",
       "      <th>gender</th>\n",
       "      <th>age</th>\n",
       "      <th>hypertension</th>\n",
       "      <th>heart_disease</th>\n",
       "      <th>ever_married</th>\n",
       "      <th>work_type</th>\n",
       "      <th>Residence_type</th>\n",
       "      <th>avg_glucose_level</th>\n",
       "      <th>bmi</th>\n",
       "      <th>smoking_status</th>\n",
       "      <th>stroke</th>\n",
       "    </tr>\n",
       "  </thead>\n",
       "  <tbody>\n",
       "    <tr>\n",
       "      <th>0</th>\n",
       "      <td>Male</td>\n",
       "      <td>67.0</td>\n",
       "      <td>0</td>\n",
       "      <td>1</td>\n",
       "      <td>Yes</td>\n",
       "      <td>Private</td>\n",
       "      <td>Urban</td>\n",
       "      <td>228.69</td>\n",
       "      <td>36.6</td>\n",
       "      <td>formerly smoked</td>\n",
       "      <td>1</td>\n",
       "    </tr>\n",
       "    <tr>\n",
       "      <th>1</th>\n",
       "      <td>Female</td>\n",
       "      <td>61.0</td>\n",
       "      <td>0</td>\n",
       "      <td>0</td>\n",
       "      <td>Yes</td>\n",
       "      <td>Self-employed</td>\n",
       "      <td>Rural</td>\n",
       "      <td>202.21</td>\n",
       "      <td>NaN</td>\n",
       "      <td>never smoked</td>\n",
       "      <td>1</td>\n",
       "    </tr>\n",
       "    <tr>\n",
       "      <th>2</th>\n",
       "      <td>Male</td>\n",
       "      <td>80.0</td>\n",
       "      <td>0</td>\n",
       "      <td>1</td>\n",
       "      <td>Yes</td>\n",
       "      <td>Private</td>\n",
       "      <td>Rural</td>\n",
       "      <td>105.92</td>\n",
       "      <td>32.5</td>\n",
       "      <td>never smoked</td>\n",
       "      <td>1</td>\n",
       "    </tr>\n",
       "    <tr>\n",
       "      <th>3</th>\n",
       "      <td>Female</td>\n",
       "      <td>49.0</td>\n",
       "      <td>0</td>\n",
       "      <td>0</td>\n",
       "      <td>Yes</td>\n",
       "      <td>Private</td>\n",
       "      <td>Urban</td>\n",
       "      <td>171.23</td>\n",
       "      <td>34.4</td>\n",
       "      <td>smokes</td>\n",
       "      <td>1</td>\n",
       "    </tr>\n",
       "    <tr>\n",
       "      <th>4</th>\n",
       "      <td>Female</td>\n",
       "      <td>79.0</td>\n",
       "      <td>1</td>\n",
       "      <td>0</td>\n",
       "      <td>Yes</td>\n",
       "      <td>Self-employed</td>\n",
       "      <td>Rural</td>\n",
       "      <td>174.12</td>\n",
       "      <td>24.0</td>\n",
       "      <td>never smoked</td>\n",
       "      <td>1</td>\n",
       "    </tr>\n",
       "  </tbody>\n",
       "</table>\n",
       "</div>"
      ],
      "text/plain": [
       "   gender   age  hypertension  heart_disease ever_married      work_type  \\\n",
       "0    Male  67.0             0              1          Yes        Private   \n",
       "1  Female  61.0             0              0          Yes  Self-employed   \n",
       "2    Male  80.0             0              1          Yes        Private   \n",
       "3  Female  49.0             0              0          Yes        Private   \n",
       "4  Female  79.0             1              0          Yes  Self-employed   \n",
       "\n",
       "  Residence_type  avg_glucose_level   bmi   smoking_status  stroke  \n",
       "0          Urban             228.69  36.6  formerly smoked       1  \n",
       "1          Rural             202.21   NaN     never smoked       1  \n",
       "2          Rural             105.92  32.5     never smoked       1  \n",
       "3          Urban             171.23  34.4           smokes       1  \n",
       "4          Rural             174.12  24.0     never smoked       1  "
      ]
     },
     "execution_count": 7,
     "metadata": {},
     "output_type": "execute_result"
    }
   ],
   "source": [
    "# Print 5 first rows of the DataFrame\n",
    "data.head()"
   ]
  },
  {
   "cell_type": "markdown",
   "id": "ecfa7d2d",
   "metadata": {},
   "source": [
    "### Distribution of categorical variables"
   ]
  },
  {
   "cell_type": "code",
   "execution_count": 8,
   "id": "d124f05e",
   "metadata": {
    "ExecuteTime": {
     "end_time": "2023-03-29T16:36:31.138969Z",
     "start_time": "2023-03-29T16:36:30.169271Z"
    }
   },
   "outputs": [
    {
     "data": {
      "image/png": "[encoded data removed]",
      "text/plain": [
       "<Figure size 1800x1000 with 8 Axes>"
      ]
     },
     "metadata": {},
     "output_type": "display_data"
    }
   ],
   "source": [
    "# Create a 3x3 grid of subplots \n",
    "fig, ax = plt.subplots(3,3)\n",
    "# Display countplots of different categorical variables using seaborn\n",
    "sns.countplot(data=data,x='gender',ax =ax[0,0])\n",
    "sns.countplot(data=data, x='ever_married',ax=ax[0,1])\n",
    "sns.countplot(data=data,x='work_type',ax=ax[0,2])\n",
    "sns.countplot(data=data,x='Residence_type',ax=ax[1,0])\n",
    "sns.countplot(data=data,x='smoking_status',ax=ax[1,1])\n",
    "sns.countplot(data=data,x='hypertension',ax=ax[1,2])\n",
    "sns.countplot(data=data,x='heart_disease',ax=ax[2,0])\n",
    "sns.countplot(data=data,x='stroke',ax=ax[2,1])\n",
    "# Remove the last subplot since it's not needed\n",
    "fig.delaxes(ax=ax[2][2])\n",
    "# Set the figure size and title, then show the plot\n",
    "fig.set_size_inches(18, 10)\n",
    "fig.suptitle('Distribution of categorical variables',fontsize=20)\n",
    "plt.show()"
   ]
  },
  {
   "cell_type": "markdown",
   "id": "a22dec68",
   "metadata": {},
   "source": [
    "### Distribution of continuous variables"
   ]
  },
  {
   "cell_type": "code",
   "execution_count": 9,
   "id": "39a60cc4",
   "metadata": {
    "ExecuteTime": {
     "end_time": "2023-03-29T16:36:31.620296Z",
     "start_time": "2023-03-29T16:36:31.141959Z"
    }
   },
   "outputs": [
    {
     "data": {
      "image/png": "[encoded data removed]",
      "text/plain": [
       "<Figure size 1500x600 with 3 Axes>"
      ]
     },
     "metadata": {},
     "output_type": "display_data"
    }
   ],
   "source": [
    "# Create a histogram plot of three continuous variables using Pandas\n",
    "fig, ax = plt.subplots(figsize=(15, 6), ncols=3)\n",
    "data['age'].hist(ax=ax[0])\n",
    "data['avg_glucose_level'].hist(ax=ax[1])\n",
    "data['bmi'].hist(ax=ax[2])\n",
    "# Add x and y axis labels to each subplot\n",
    "for i in range(3):\n",
    "    ax[i].set_xlabel('Value')\n",
    "    ax[i].set_ylabel('Frequency')\n",
    "# Add a super-title to the plot\n",
    "fig.suptitle('Distribution of continuous variables', fontsize=20)\n",
    "# Show the plot\n",
    "plt.show()"
   ]
  },
  {
   "cell_type": "markdown",
   "id": "7cce4756",
   "metadata": {},
   "source": [
    "### There are very low 'age' values, as well as 'children' category in a 'work_type' column, suggesting that there are data for children included in this dataset. "
   ]
  },
  {
   "cell_type": "markdown",
   "id": "8825ca4b",
   "metadata": {},
   "source": [
    "### Next I'm going to check which age values correspond to 'children' value to make sure that data is in fact on children. "
   ]
  },
  {
   "cell_type": "code",
   "execution_count": 10,
   "id": "5e9a07e7",
   "metadata": {
    "ExecuteTime": {
     "end_time": "2023-03-29T16:36:31.633306Z",
     "start_time": "2023-03-29T16:36:31.622298Z"
    }
   },
   "outputs": [
    {
     "data": {
      "text/plain": [
       "count    687.000000\n",
       "mean       6.841339\n",
       "std        4.533364\n",
       "min        0.080000\n",
       "25%        2.000000\n",
       "50%        6.000000\n",
       "75%       11.000000\n",
       "max       16.000000\n",
       "Name: age, dtype: float64"
      ]
     },
     "execution_count": 10,
     "metadata": {},
     "output_type": "execute_result"
    }
   ],
   "source": [
    "# Compute the descriptive statistics for the 'age' column of the subset of data where 'work_type' is 'children'\n",
    "data.loc[data['work_type'] == 'children','age'].describe()"
   ]
  },
  {
   "cell_type": "markdown",
   "id": "459b3698",
   "metadata": {},
   "source": [
    "### Age range for 'children' category is 0.08-16\n",
    "### Even though it is possible for a child to have a stroke, it is very rare and normally caused by completely different reasons than those being studied in this project. Therefore I think it is appropriate to drop rows that contain data on children patients. "
   ]
  },
  {
   "cell_type": "code",
   "execution_count": 11,
   "id": "fed79181",
   "metadata": {
    "ExecuteTime": {
     "end_time": "2023-03-29T16:36:31.641311Z",
     "start_time": "2023-03-29T16:36:31.634308Z"
    }
   },
   "outputs": [],
   "source": [
    "# Create a new subset of the original data that excludes observations where 'work_type' is 'children'\n",
    "data_adult = data[data.work_type != 'children']"
   ]
  },
  {
   "cell_type": "code",
   "execution_count": 12,
   "id": "ed4c2abd",
   "metadata": {
    "ExecuteTime": {
     "end_time": "2023-03-29T16:36:31.661326Z",
     "start_time": "2023-03-29T16:36:31.645314Z"
    }
   },
   "outputs": [
    {
     "data": {
      "text/plain": [
       "count    4423.000000\n",
       "mean       48.878137\n",
       "std        18.707171\n",
       "min         7.000000\n",
       "25%        34.000000\n",
       "50%        49.000000\n",
       "75%        63.000000\n",
       "max        82.000000\n",
       "Name: age, dtype: float64"
      ]
     },
     "execution_count": 12,
     "metadata": {},
     "output_type": "execute_result"
    }
   ],
   "source": [
    "# Compute the descriptive statistics for the 'age' column\n",
    "data_adult['age'].describe()"
   ]
  },
  {
   "cell_type": "markdown",
   "id": "cd7065d1",
   "metadata": {},
   "source": [
    "### Even though I dropped 'children' category, data above show that there are still low 'age' values, therefore I will use maximum age for 'children' category (16) as a threshold and will drop all rows with ages 16 and below"
   ]
  },
  {
   "cell_type": "code",
   "execution_count": 13,
   "id": "47e54e99",
   "metadata": {
    "ExecuteTime": {
     "end_time": "2023-03-29T16:36:31.674336Z",
     "start_time": "2023-03-29T16:36:31.667332Z"
    }
   },
   "outputs": [],
   "source": [
    "# Create a new subset of the original data that only includes observations of individuals older than 16 years\n",
    "data_adult = data[data.age > 16]"
   ]
  },
  {
   "cell_type": "code",
   "execution_count": 14,
   "id": "b6d30c33",
   "metadata": {
    "ExecuteTime": {
     "end_time": "2023-03-29T16:36:31.693358Z",
     "start_time": "2023-03-29T16:36:31.678340Z"
    }
   },
   "outputs": [
    {
     "data": {
      "text/plain": [
       "count    4314.000000\n",
       "mean       49.740380\n",
       "std        18.126633\n",
       "min        17.000000\n",
       "25%        35.000000\n",
       "50%        50.000000\n",
       "75%        64.000000\n",
       "max        82.000000\n",
       "Name: age, dtype: float64"
      ]
     },
     "execution_count": 14,
     "metadata": {},
     "output_type": "execute_result"
    }
   ],
   "source": [
    "# Compute the descriptive statistics for the 'age' column\n",
    "data_adult.age.describe()"
   ]
  },
  {
   "cell_type": "code",
   "execution_count": 15,
   "id": "d160dfb2",
   "metadata": {
    "ExecuteTime": {
     "end_time": "2023-03-29T16:36:31.702358Z",
     "start_time": "2023-03-29T16:36:31.696350Z"
    }
   },
   "outputs": [],
   "source": [
    "# Reset the index of the 'data_adult' dataframe after removing observations\n",
    "# This drops the current index and replaces it with a new one, and modifies the 'data_adult' dataframe in place\n",
    "data_adult.reset_index(drop=True,inplace=True)"
   ]
  },
  {
   "cell_type": "markdown",
   "id": "154d57a3",
   "metadata": {},
   "source": [
    "### There is an single value 'other' in the 'gender' column that can be dropped."
   ]
  },
  {
   "cell_type": "code",
   "execution_count": 16,
   "id": "a91cd189",
   "metadata": {
    "ExecuteTime": {
     "end_time": "2023-03-29T16:36:31.714362Z",
     "start_time": "2023-03-29T16:36:31.706359Z"
    }
   },
   "outputs": [],
   "source": [
    "# Create a new subset of the 'data_adult' dataframe that excludes observations with gender labeled as 'Other'\n",
    "data_adult = data_adult[data_adult.gender != 'Other']"
   ]
  },
  {
   "cell_type": "code",
   "execution_count": 17,
   "id": "a9000650",
   "metadata": {
    "ExecuteTime": {
     "end_time": "2023-03-29T16:36:31.738381Z",
     "start_time": "2023-03-29T16:36:31.717365Z"
    }
   },
   "outputs": [
    {
     "data": {
      "text/plain": [
       "gender               False\n",
       "age                  False\n",
       "hypertension         False\n",
       "heart_disease        False\n",
       "ever_married         False\n",
       "work_type            False\n",
       "Residence_type       False\n",
       "avg_glucose_level    False\n",
       "bmi                   True\n",
       "smoking_status       False\n",
       "stroke               False\n",
       "dtype: bool"
      ]
     },
     "execution_count": 17,
     "metadata": {},
     "output_type": "execute_result"
    }
   ],
   "source": [
    "# Check for missing values in the 'data_adult' dataframe\n",
    "# The 'isna()' method returns a boolean dataframe where 'True' indicates the presence of a missing value\n",
    "# The 'any()' method then checks whether there is at least one missing value in each column\n",
    "data_adult.isna().any()"
   ]
  },
  {
   "cell_type": "code",
   "execution_count": 18,
   "id": "4805068d",
   "metadata": {
    "ExecuteTime": {
     "end_time": "2023-03-29T16:36:31.784416Z",
     "start_time": "2023-03-29T16:36:31.740381Z"
    }
   },
   "outputs": [],
   "source": [
    "# Save the 'data_adult' dataframe to a CSV file\n",
    "# The 'to_csv()' method writes the dataframe to a CSV file with the specified file path\n",
    "# 'index=True' includes the index column in the CSV file\n",
    "data_adult.to_csv(r'C:/Users/Julia/Documents/_DATA SCIENCE/_Capstones/Capstone 2/Data/Data_adult.csv', index=True)"
   ]
  },
  {
   "cell_type": "markdown",
   "id": "8c39b22f",
   "metadata": {},
   "source": [
    "### Futher steps:\n",
    "1. Exploratory data analyis\n",
    "2. Dealing with missing values in 'bmi' column\n",
    "3. Dealing for skewed distribution of 'bmi' and 'avg_glucose_level' variables."
   ]
  }
 ],
 "metadata": {
  "kernelspec": {
   "display_name": "Python 3 (ipykernel)",
   "language": "python",
   "name": "python3"
  },
  "language_info": {
   "codemirror_mode": {
    "name": "ipython",
    "version": 3
   },
   "file_extension": ".py",
   "mimetype": "text/x-python",
   "name": "python",
   "nbconvert_exporter": "python",
   "pygments_lexer": "ipython3",
   "version": "3.9.12"
  }
 },
 "nbformat": 4,
 "nbformat_minor": 5
}
