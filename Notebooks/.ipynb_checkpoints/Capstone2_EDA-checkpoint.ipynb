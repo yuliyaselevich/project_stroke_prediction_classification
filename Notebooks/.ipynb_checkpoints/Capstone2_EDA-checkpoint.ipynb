{
 "cells": [
  {
   "cell_type": "markdown",
   "id": "c1c37e6f",
   "metadata": {},
   "source": [
    "## Exploratory Data Analysis"
   ]
  },
  {
   "cell_type": "code",
   "execution_count": 1,
   "id": "46981ab8",
   "metadata": {
    "ExecuteTime": {
     "end_time": "2022-08-16T19:12:23.281026Z",
     "start_time": "2022-08-16T19:12:19.689986Z"
    }
   },
   "outputs": [],
   "source": [
    "import numpy as np \n",
    "import pandas as pd\n",
    "import matplotlib.pyplot as plt\n",
    "import seaborn as sns\n",
    "import os\n",
    "data_adult=pd.read_csv('C:/Users/Julia/Documents/_DATA SCIENCE/_Capstones/Capstone 2/Data/Data_adult.csv',index_col=0)\n",
    "sns.set(style='ticks')\n",
    "%matplotlib inline "
   ]
  },
  {
   "cell_type": "code",
   "execution_count": 2,
   "id": "1f8e4f8e",
   "metadata": {
    "ExecuteTime": {
     "end_time": "2022-08-16T19:12:23.289019Z",
     "start_time": "2022-08-16T19:12:23.283014Z"
    }
   },
   "outputs": [],
   "source": [
    "import warnings\n",
    "warnings.filterwarnings('ignore', category=UserWarning, append=True)\n",
    "warnings.filterwarnings('ignore', category=RuntimeWarning, append=True)\n",
    "warnings.filterwarnings('ignore', category=FutureWarning, append=True)\n",
    "warnings.filterwarnings('ignore',category=pd.io.pytables.PerformanceWarning)"
   ]
  },
  {
   "cell_type": "code",
   "execution_count": 3,
   "id": "b3807950",
   "metadata": {
    "ExecuteTime": {
     "end_time": "2022-08-16T19:12:23.333049Z",
     "start_time": "2022-08-16T19:12:23.293023Z"
    }
   },
   "outputs": [
    {
     "name": "stdout",
     "output_type": "stream",
     "text": [
      "<class 'pandas.core.frame.DataFrame'>\n",
      "Int64Index: 4313 entries, 0 to 4313\n",
      "Data columns (total 11 columns):\n",
      " #   Column             Non-Null Count  Dtype  \n",
      "---  ------             --------------  -----  \n",
      " 0   gender             4313 non-null   object \n",
      " 1   age                4313 non-null   float64\n",
      " 2   hypertension       4313 non-null   int64  \n",
      " 3   heart_disease      4313 non-null   int64  \n",
      " 4   ever_married       4313 non-null   object \n",
      " 5   work_type          4313 non-null   object \n",
      " 6   Residence_type     4313 non-null   object \n",
      " 7   avg_glucose_level  4313 non-null   float64\n",
      " 8   bmi                4130 non-null   float64\n",
      " 9   smoking_status     4313 non-null   object \n",
      " 10  stroke             4313 non-null   int64  \n",
      "dtypes: float64(3), int64(3), object(5)\n",
      "memory usage: 404.3+ KB\n"
     ]
    }
   ],
   "source": [
    "data_adult.info()"
   ]
  },
  {
   "cell_type": "markdown",
   "id": "41f46b98",
   "metadata": {},
   "source": [
    "## Target feature:\n",
    "### Since the goal of this project is to predict occurence of stroke, target feature is 'stroke'. It has 2 values: 1 - when a patient had a stroke, and 0  - when a patient did not have a stroke."
   ]
  },
  {
   "cell_type": "code",
   "execution_count": 4,
   "id": "cf5b2257",
   "metadata": {
    "ExecuteTime": {
     "end_time": "2022-08-16T19:12:23.349062Z",
     "start_time": "2022-08-16T19:12:23.336052Z"
    }
   },
   "outputs": [
    {
     "data": {
      "text/plain": [
       "0    94.273128\n",
       "1     5.726872\n",
       "Name: stroke, dtype: float64"
      ]
     },
     "execution_count": 4,
     "metadata": {},
     "output_type": "execute_result"
    }
   ],
   "source": [
    "data_adult['stroke'].value_counts(normalize=True)*100"
   ]
  },
  {
   "cell_type": "code",
   "execution_count": 5,
   "id": "29751985",
   "metadata": {
    "ExecuteTime": {
     "end_time": "2022-08-16T19:12:23.604241Z",
     "start_time": "2022-08-16T19:12:23.353065Z"
    }
   },
   "outputs": [
    {
     "data": {
      "image/png": "[encoded data removed]",
      "text/plain": [
       "<Figure size 432x288 with 1 Axes>"
      ]
     },
     "metadata": {
      "needs_background": "light"
     },
     "output_type": "display_data"
    }
   ],
   "source": [
    "sns.countplot(data_adult['stroke'])\n",
    "plt.title('Distribution of classes in target feature');"
   ]
  },
  {
   "cell_type": "markdown",
   "id": "1c43e86a",
   "metadata": {},
   "source": [
    "### It is obvious that target feature is highly imbalanced with only ~ 5.72 % of samples having a value of 1. This is a major issue and may require application of specialized feature engineering techniques as well as careful model selection and it may affect a perfomance of a selected model. "
   ]
  },
  {
   "cell_type": "code",
   "execution_count": 6,
   "id": "8aa7ba41",
   "metadata": {
    "ExecuteTime": {
     "end_time": "2022-08-16T19:12:23.619253Z",
     "start_time": "2022-08-16T19:12:23.606243Z"
    }
   },
   "outputs": [
    {
     "data": {
      "text/plain": [
       "gender               False\n",
       "age                  False\n",
       "hypertension         False\n",
       "heart_disease        False\n",
       "ever_married         False\n",
       "work_type            False\n",
       "Residence_type       False\n",
       "avg_glucose_level    False\n",
       "bmi                   True\n",
       "smoking_status       False\n",
       "stroke               False\n",
       "dtype: bool"
      ]
     },
     "execution_count": 6,
     "metadata": {},
     "output_type": "execute_result"
    }
   ],
   "source": [
    "data_adult.isna().any()"
   ]
  },
  {
   "cell_type": "markdown",
   "id": "b50045d0",
   "metadata": {},
   "source": [
    "### 'bmi' feature is the only one that has missing values"
   ]
  },
  {
   "cell_type": "code",
   "execution_count": 7,
   "id": "db9c590d",
   "metadata": {
    "ExecuteTime": {
     "end_time": "2022-08-16T19:12:23.637266Z",
     "start_time": "2022-08-16T19:12:23.622255Z"
    }
   },
   "outputs": [
    {
     "data": {
      "text/plain": [
       "183"
      ]
     },
     "execution_count": 7,
     "metadata": {},
     "output_type": "execute_result"
    }
   ],
   "source": [
    "data_adult['bmi'].isna().sum()"
   ]
  },
  {
   "cell_type": "code",
   "execution_count": 8,
   "id": "55332ca3",
   "metadata": {
    "ExecuteTime": {
     "end_time": "2022-08-16T19:12:23.649277Z",
     "start_time": "2022-08-16T19:12:23.641270Z"
    }
   },
   "outputs": [
    {
     "name": "stdout",
     "output_type": "stream",
     "text": [
      "Percentage of missing values in \"bmi\" feature: 4.24\n"
     ]
    }
   ],
   "source": [
    "percent_missing = data_adult['bmi'].isnull().sum() * 100 / len(data_adult)\n",
    "print('Percentage of missing values in \"bmi\" feature:', round(percent_missing,2))"
   ]
  },
  {
   "cell_type": "code",
   "execution_count": 9,
   "id": "458451e3",
   "metadata": {
    "ExecuteTime": {
     "end_time": "2022-08-16T19:12:23.676293Z",
     "start_time": "2022-08-16T19:12:23.658280Z"
    }
   },
   "outputs": [
    {
     "data": {
      "text/plain": [
       "0    94.96368\n",
       "1     5.03632\n",
       "Name: stroke, dtype: float64"
      ]
     },
     "execution_count": 9,
     "metadata": {},
     "output_type": "execute_result"
    }
   ],
   "source": [
    "no_na = data_adult.dropna(subset=\"bmi\")\n",
    "no_na['stroke'].value_counts(normalize=True)*100"
   ]
  },
  {
   "cell_type": "markdown",
   "id": "71a46daf",
   "metadata": {},
   "source": [
    "### Even though percentage of missing values in a dataset is relatively small, it is not a good idea to simply drop rows with missing values, as this will make target feature even more imbalanced."
   ]
  },
  {
   "cell_type": "code",
   "execution_count": 10,
   "id": "4a1936a0",
   "metadata": {
    "ExecuteTime": {
     "end_time": "2022-08-16T19:12:23.918468Z",
     "start_time": "2022-08-16T19:12:23.682299Z"
    }
   },
   "outputs": [
    {
     "data": {
      "image/png": "[encoded data removed]",
      "text/plain": [
       "<Figure size 432x288 with 1 Axes>"
      ]
     },
     "metadata": {
      "needs_background": "light"
     },
     "output_type": "display_data"
    }
   ],
   "source": [
    "data_adult['bmi'].hist()\n",
    "plt.title('Distribution of BMI values')\n",
    "plt.xlabel('BMI')\n",
    "plt.ylabel('Count');"
   ]
  },
  {
   "cell_type": "markdown",
   "id": "7b4bdf10",
   "metadata": {},
   "source": [
    "### Distribution of 'bmi' values is skewed, meaning that we cannot impute missing values with the mean."
   ]
  },
  {
   "cell_type": "code",
   "execution_count": 11,
   "id": "509399fe",
   "metadata": {
    "ExecuteTime": {
     "end_time": "2022-08-16T19:12:24.059564Z",
     "start_time": "2022-08-16T19:12:23.921469Z"
    }
   },
   "outputs": [
    {
     "data": {
      "image/png": "[encoded data removed]",
      "text/plain": [
       "<Figure size 432x288 with 1 Axes>"
      ]
     },
     "metadata": {
      "needs_background": "light"
     },
     "output_type": "display_data"
    }
   ],
   "source": [
    "sns.boxplot(x=\"stroke\", y=\"bmi\", data=data_adult)\n",
    "plt.title('Relationship of bmi and stroke');"
   ]
  },
  {
   "cell_type": "markdown",
   "id": "fdb52db5",
   "metadata": {},
   "source": [
    "### Since 'bmi' feature is scewed, the relationship between 'bmi' and target value is not clear. I think it would make sense to divide 'bmi' values into following categories:\n",
    "* below 18.5 – underweight\n",
    "* between 18.5 and 24.9 – healthy weight\n",
    "* between 25 and 29.9 – overweight\n",
    "* between 30 and 39.9 – obesity"
   ]
  },
  {
   "cell_type": "code",
   "execution_count": 12,
   "id": "d4ed74ab",
   "metadata": {
    "ExecuteTime": {
     "end_time": "2022-08-16T19:12:25.224728Z",
     "start_time": "2022-08-16T19:12:24.061567Z"
    }
   },
   "outputs": [],
   "source": [
    "for val in data_adult['bmi']:\n",
    "    if val < 18.5:\n",
    "        data_adult['bmi'].replace(to_replace=val, value='underweight', inplace=True)\n",
    "    elif val >= 18.5 and val <= 24.9:\n",
    "        data_adult['bmi'].replace(to_replace=val, value='normal', inplace=True)\n",
    "    elif val >= 25 and val <= 29.9:\n",
    "        data_adult['bmi'].replace(to_replace=val, value='overweight', inplace=True)\n",
    "    elif val >= 30:\n",
    "        data_adult['bmi'].replace(to_replace=val, value='obesity', inplace=True)"
   ]
  },
  {
   "cell_type": "code",
   "execution_count": 13,
   "id": "2ef04d1a",
   "metadata": {
    "ExecuteTime": {
     "end_time": "2022-08-16T19:12:25.233722Z",
     "start_time": "2022-08-16T19:12:25.226717Z"
    }
   },
   "outputs": [
    {
     "data": {
      "text/plain": [
       "array(['obesity', nan, 'normal', 'overweight', 'underweight'],\n",
       "      dtype=object)"
      ]
     },
     "execution_count": 13,
     "metadata": {},
     "output_type": "execute_result"
    }
   ],
   "source": [
    "data_adult['bmi'].unique()"
   ]
  },
  {
   "cell_type": "code",
   "execution_count": 14,
   "id": "17c6b1a0",
   "metadata": {
    "ExecuteTime": {
     "end_time": "2022-08-16T19:12:25.529933Z",
     "start_time": "2022-08-16T19:12:25.236725Z"
    }
   },
   "outputs": [
    {
     "data": {
      "image/png": "[encoded data removed]",
      "text/plain": [
       "<Figure size 432x288 with 1 Axes>"
      ]
     },
     "metadata": {
      "needs_background": "light"
     },
     "output_type": "display_data"
    }
   ],
   "source": [
    "sns.barplot(x='bmi',y='stroke',data=data_adult, order=[\"underweight\", \"normal\",\"overweight\",\"obesity\"])\n",
    "plt.title('Comparison of stroke occurence based on bmi category');"
   ]
  },
  {
   "cell_type": "markdown",
   "id": "e81462c5",
   "metadata": {},
   "source": [
    "### Plot above clearly shows that 'bmi' categories 'overweight' and 'obesity' have higher occurence of value 1 in the target feature."
   ]
  },
  {
   "cell_type": "markdown",
   "id": "8e03aa41",
   "metadata": {},
   "source": [
    "### Continuous variables"
   ]
  },
  {
   "cell_type": "code",
   "execution_count": 15,
   "id": "ac939ff7",
   "metadata": {
    "ExecuteTime": {
     "end_time": "2022-08-16T19:12:25.558953Z",
     "start_time": "2022-08-16T19:12:25.531932Z"
    }
   },
   "outputs": [
    {
     "data": {
      "text/html": [
       "<div>\n",
       "<style scoped>\n",
       "    .dataframe tbody tr th:only-of-type {\n",
       "        vertical-align: middle;\n",
       "    }\n",
       "\n",
       "    .dataframe tbody tr th {\n",
       "        vertical-align: top;\n",
       "    }\n",
       "\n",
       "    .dataframe thead th {\n",
       "        text-align: right;\n",
       "    }\n",
       "</style>\n",
       "<table border=\"1\" class=\"dataframe\">\n",
       "  <thead>\n",
       "    <tr style=\"text-align: right;\">\n",
       "      <th></th>\n",
       "      <th>age</th>\n",
       "      <th>avg_glucose_level</th>\n",
       "    </tr>\n",
       "  </thead>\n",
       "  <tbody>\n",
       "    <tr>\n",
       "      <th>count</th>\n",
       "      <td>4313.000000</td>\n",
       "      <td>4313.000000</td>\n",
       "    </tr>\n",
       "    <tr>\n",
       "      <th>mean</th>\n",
       "      <td>49.745885</td>\n",
       "      <td>108.226388</td>\n",
       "    </tr>\n",
       "    <tr>\n",
       "      <th>std</th>\n",
       "      <td>18.125129</td>\n",
       "      <td>47.568050</td>\n",
       "    </tr>\n",
       "    <tr>\n",
       "      <th>min</th>\n",
       "      <td>17.000000</td>\n",
       "      <td>55.120000</td>\n",
       "    </tr>\n",
       "    <tr>\n",
       "      <th>25%</th>\n",
       "      <td>35.000000</td>\n",
       "      <td>77.450000</td>\n",
       "    </tr>\n",
       "    <tr>\n",
       "      <th>50%</th>\n",
       "      <td>50.000000</td>\n",
       "      <td>92.270000</td>\n",
       "    </tr>\n",
       "    <tr>\n",
       "      <th>75%</th>\n",
       "      <td>64.000000</td>\n",
       "      <td>115.920000</td>\n",
       "    </tr>\n",
       "    <tr>\n",
       "      <th>max</th>\n",
       "      <td>82.000000</td>\n",
       "      <td>271.740000</td>\n",
       "    </tr>\n",
       "  </tbody>\n",
       "</table>\n",
       "</div>"
      ],
      "text/plain": [
       "               age  avg_glucose_level\n",
       "count  4313.000000        4313.000000\n",
       "mean     49.745885         108.226388\n",
       "std      18.125129          47.568050\n",
       "min      17.000000          55.120000\n",
       "25%      35.000000          77.450000\n",
       "50%      50.000000          92.270000\n",
       "75%      64.000000         115.920000\n",
       "max      82.000000         271.740000"
      ]
     },
     "execution_count": 15,
     "metadata": {},
     "output_type": "execute_result"
    }
   ],
   "source": [
    "data_adult.describe(include='float64')"
   ]
  },
  {
   "cell_type": "code",
   "execution_count": 16,
   "id": "f2337c23",
   "metadata": {
    "ExecuteTime": {
     "end_time": "2022-08-16T19:12:25.724068Z",
     "start_time": "2022-08-16T19:12:25.567961Z"
    }
   },
   "outputs": [
    {
     "data": {
      "image/png": "[encoded data removed]",
      "text/plain": [
       "<Figure size 360x360 with 1 Axes>"
      ]
     },
     "metadata": {
      "needs_background": "light"
     },
     "output_type": "display_data"
    }
   ],
   "source": [
    "data_adult['age'].hist(figsize=(5,5))\n",
    "plt.title('Distribution of age');"
   ]
  },
  {
   "cell_type": "code",
   "execution_count": 17,
   "id": "0206f9b6",
   "metadata": {
    "ExecuteTime": {
     "end_time": "2022-08-16T19:12:25.880190Z",
     "start_time": "2022-08-16T19:12:25.726083Z"
    }
   },
   "outputs": [
    {
     "data": {
      "image/png": "[encoded data removed]",
      "text/plain": [
       "<Figure size 432x288 with 1 Axes>"
      ]
     },
     "metadata": {
      "needs_background": "light"
     },
     "output_type": "display_data"
    }
   ],
   "source": [
    "count, bins_count = np.histogram(data_adult['age'], bins=10)\n",
    "pdf = count / sum(count)\n",
    "cdf = np.cumsum(pdf)\n",
    "plt.plot(bins_count[1:], pdf, color=\"red\", label=\"PDF\")\n",
    "plt.plot(bins_count[1:], cdf, label=\"CDF\")\n",
    "plt.legend();"
   ]
  },
  {
   "cell_type": "markdown",
   "id": "4694e209",
   "metadata": {},
   "source": [
    "### 'age' feature has uniform distribution."
   ]
  },
  {
   "cell_type": "code",
   "execution_count": 18,
   "id": "06f3717b",
   "metadata": {
    "ExecuteTime": {
     "end_time": "2022-08-16T19:12:26.017287Z",
     "start_time": "2022-08-16T19:12:25.883190Z"
    }
   },
   "outputs": [
    {
     "data": {
      "image/png": "[encoded data removed]",
      "text/plain": [
       "<Figure size 432x288 with 1 Axes>"
      ]
     },
     "metadata": {
      "needs_background": "light"
     },
     "output_type": "display_data"
    }
   ],
   "source": [
    "sns.boxplot(x='stroke', y='age', data=data_adult)\n",
    "plt.title('Relationship of age and stroke');"
   ]
  },
  {
   "cell_type": "code",
   "execution_count": 19,
   "id": "d3a68b36",
   "metadata": {
    "ExecuteTime": {
     "end_time": "2022-08-16T19:12:26.033296Z",
     "start_time": "2022-08-16T19:12:26.020286Z"
    }
   },
   "outputs": [],
   "source": [
    "data_adult['age_bin'] = pd.cut(data_adult['age'],\n",
    "                         [0, 18, 30, 45, 60, 80, 99])"
   ]
  },
  {
   "cell_type": "code",
   "execution_count": 20,
   "id": "d56ca6b2",
   "metadata": {
    "ExecuteTime": {
     "end_time": "2022-08-16T19:12:26.044303Z",
     "start_time": "2022-08-16T19:12:26.035297Z"
    }
   },
   "outputs": [],
   "source": [
    "data_adult = data_adult.drop(columns=['age'])"
   ]
  },
  {
   "cell_type": "code",
   "execution_count": 21,
   "id": "f35adfb4",
   "metadata": {
    "ExecuteTime": {
     "end_time": "2022-08-16T19:12:26.410563Z",
     "start_time": "2022-08-16T19:12:26.047305Z"
    }
   },
   "outputs": [
    {
     "data": {
      "image/png": "[encoded data removed]",
      "text/plain": [
       "<Figure size 432x288 with 1 Axes>"
      ]
     },
     "metadata": {
      "needs_background": "light"
     },
     "output_type": "display_data"
    }
   ],
   "source": [
    "sns.barplot(x='age_bin', y='stroke', data=data_adult)\n",
    "plt.title('Relationship of age category and stroke');"
   ]
  },
  {
   "cell_type": "markdown",
   "id": "d200ad9a",
   "metadata": {},
   "source": [
    "### The stroke occurs more often in people of higher age."
   ]
  },
  {
   "cell_type": "code",
   "execution_count": 22,
   "id": "2faf2367",
   "metadata": {
    "ExecuteTime": {
     "end_time": "2022-08-16T19:12:26.660741Z",
     "start_time": "2022-08-16T19:12:26.412577Z"
    }
   },
   "outputs": [
    {
     "data": {
      "image/png": "[encoded data removed]",
      "text/plain": [
       "<Figure size 360x360 with 1 Axes>"
      ]
     },
     "metadata": {
      "needs_background": "light"
     },
     "output_type": "display_data"
    }
   ],
   "source": [
    "data_adult['avg_glucose_level'].hist(figsize=(5,5))\n",
    "plt.title('Distribution of values of avg_glucose_level feature');"
   ]
  },
  {
   "cell_type": "code",
   "execution_count": 23,
   "id": "0ee549f9",
   "metadata": {
    "ExecuteTime": {
     "end_time": "2022-08-16T19:12:26.796835Z",
     "start_time": "2022-08-16T19:12:26.662741Z"
    }
   },
   "outputs": [
    {
     "data": {
      "image/png": "[encoded data removed]",
      "text/plain": [
       "<Figure size 432x288 with 1 Axes>"
      ]
     },
     "metadata": {
      "needs_background": "light"
     },
     "output_type": "display_data"
    }
   ],
   "source": [
    "sns.boxplot(x='stroke', y='avg_glucose_level', data=data_adult)\n",
    "plt.title('Relationship of avg_glucose_level and stroke');"
   ]
  },
  {
   "cell_type": "code",
   "execution_count": 24,
   "id": "30776a0e",
   "metadata": {
    "ExecuteTime": {
     "end_time": "2022-08-16T19:12:28.233854Z",
     "start_time": "2022-08-16T19:12:26.798836Z"
    }
   },
   "outputs": [],
   "source": [
    "for val in data_adult['avg_glucose_level']:\n",
    "    if val < 140:\n",
    "        data_adult['avg_glucose_level'].replace(to_replace=val, value='normal', inplace=True)\n",
    "    elif val >= 140 and val < 200:\n",
    "        data_adult['avg_glucose_level'].replace(to_replace=val, value='prediabetes', inplace=True)\n",
    "    elif val >= 200:\n",
    "        data_adult['avg_glucose_level'].replace(to_replace=val, value='diabetes', inplace=True)"
   ]
  },
  {
   "cell_type": "code",
   "execution_count": 25,
   "id": "7811fbc7",
   "metadata": {
    "ExecuteTime": {
     "end_time": "2022-08-16T19:12:28.241858Z",
     "start_time": "2022-08-16T19:12:28.235856Z"
    }
   },
   "outputs": [],
   "source": [
    "data_adult.rename(columns = {'avg_glucose_level':'glucose_levels'}, inplace=True)"
   ]
  },
  {
   "cell_type": "code",
   "execution_count": 26,
   "id": "77b7fec9",
   "metadata": {
    "ExecuteTime": {
     "end_time": "2022-08-16T19:12:28.503042Z",
     "start_time": "2022-08-16T19:12:28.244865Z"
    }
   },
   "outputs": [
    {
     "data": {
      "image/png": "[encoded data removed]",
      "text/plain": [
       "<Figure size 432x288 with 1 Axes>"
      ]
     },
     "metadata": {
      "needs_background": "light"
     },
     "output_type": "display_data"
    }
   ],
   "source": [
    "sns.barplot(x='glucose_levels',y='stroke',data=data_adult, order=[\"normal\", \"prediabetes\",\"diabetes\"])\n",
    "plt.title('Relationship of glucose_level categories and stroke');"
   ]
  },
  {
   "cell_type": "markdown",
   "id": "ae5d5194",
   "metadata": {},
   "source": [
    "### Demographic features: gender,age"
   ]
  },
  {
   "cell_type": "code",
   "execution_count": 27,
   "id": "36547791",
   "metadata": {
    "ExecuteTime": {
     "end_time": "2022-08-16T19:12:28.714203Z",
     "start_time": "2022-08-16T19:12:28.505044Z"
    }
   },
   "outputs": [
    {
     "data": {
      "image/png": "[encoded data removed]",
      "text/plain": [
       "<Figure size 432x288 with 1 Axes>"
      ]
     },
     "metadata": {
      "needs_background": "light"
     },
     "output_type": "display_data"
    }
   ],
   "source": [
    "#fig, axes = plt.subplots(1,2,figsize=(10, 7))\n",
    "sns.barplot(x='gender',y='stroke',data=data_adult)#ax=axes[0]\n",
    "plt.title('Relationship of gender and stroke');"
   ]
  },
  {
   "cell_type": "markdown",
   "id": "bfac841b",
   "metadata": {},
   "source": [
    "### Hypertension"
   ]
  },
  {
   "cell_type": "code",
   "execution_count": 28,
   "id": "f2298ce0",
   "metadata": {
    "ExecuteTime": {
     "end_time": "2022-08-16T19:12:29.133488Z",
     "start_time": "2022-08-16T19:12:28.720200Z"
    }
   },
   "outputs": [
    {
     "data": {
      "image/png": "[encoded data removed]",
      "text/plain": [
       "<Figure size 720x504 with 2 Axes>"
      ]
     },
     "metadata": {
      "needs_background": "light"
     },
     "output_type": "display_data"
    }
   ],
   "source": [
    "fig, axes = plt.subplots(1,2,figsize=(10, 7))\n",
    "sns.barplot(ax=axes[0], x='hypertension',y='stroke',data=data_adult);\n",
    "sns.barplot(ax=axes[1], x='heart_disease',y='stroke',data=data_adult);\n",
    "fig.suptitle('Relationship of heart_disease and hypertension and stroke');"
   ]
  },
  {
   "cell_type": "markdown",
   "id": "aaf5eab0",
   "metadata": {},
   "source": [
    "### Stress"
   ]
  },
  {
   "cell_type": "code",
   "execution_count": 29,
   "id": "904bb719",
   "metadata": {
    "ExecuteTime": {
     "end_time": "2022-08-16T19:12:29.838989Z",
     "start_time": "2022-08-16T19:12:29.135490Z"
    }
   },
   "outputs": [
    {
     "data": {
      "image/png": "[encoded data removed]",
      "text/plain": [
       "<Figure size 1080x504 with 3 Axes>"
      ]
     },
     "metadata": {
      "needs_background": "light"
     },
     "output_type": "display_data"
    }
   ],
   "source": [
    "fig, axes = plt.subplots(1,3,figsize=(15, 7))\n",
    "sns.barplot(ax=axes[0], x='ever_married',y='stroke',data=data_adult)\n",
    "sns.barplot(ax=axes[1], x='work_type',y='stroke',data=data_adult)\n",
    "sns.barplot(ax=axes[2], x='Residence_type',y='stroke',data=data_adult);"
   ]
  },
  {
   "cell_type": "code",
   "execution_count": 30,
   "id": "a23390c3",
   "metadata": {
    "ExecuteTime": {
     "end_time": "2022-08-16T19:12:30.100173Z",
     "start_time": "2022-08-16T19:12:29.840991Z"
    }
   },
   "outputs": [
    {
     "data": {
      "image/png": "[encoded data removed]",
      "text/plain": [
       "<Figure size 432x288 with 1 Axes>"
      ]
     },
     "metadata": {
      "needs_background": "light"
     },
     "output_type": "display_data"
    }
   ],
   "source": [
    "sns.barplot(x='ever_married',y='stroke',data=data_adult)\n",
    "plt.title('Relationship of marriage status and stroke');"
   ]
  },
  {
   "cell_type": "code",
   "execution_count": 31,
   "id": "f3bbfbf1",
   "metadata": {
    "ExecuteTime": {
     "end_time": "2022-08-16T19:12:30.388376Z",
     "start_time": "2022-08-16T19:12:30.102176Z"
    }
   },
   "outputs": [
    {
     "data": {
      "image/png": "[encoded data removed]",
      "text/plain": [
       "<Figure size 432x288 with 1 Axes>"
      ]
     },
     "metadata": {
      "needs_background": "light"
     },
     "output_type": "display_data"
    }
   ],
   "source": [
    "sns.barplot(x='work_type',y='stroke',data=data_adult)\n",
    "plt.title('Relationship of work type and stroke');"
   ]
  },
  {
   "cell_type": "code",
   "execution_count": 32,
   "id": "84f993d1",
   "metadata": {
    "ExecuteTime": {
     "end_time": "2022-08-16T19:12:30.619541Z",
     "start_time": "2022-08-16T19:12:30.391380Z"
    }
   },
   "outputs": [
    {
     "data": {
      "image/png": "[encoded data removed]",
      "text/plain": [
       "<Figure size 432x288 with 1 Axes>"
      ]
     },
     "metadata": {
      "needs_background": "light"
     },
     "output_type": "display_data"
    }
   ],
   "source": [
    "sns.barplot(x='Residence_type',y='stroke',data=data_adult)\n",
    "plt.title('Relationship of residence type and stroke');"
   ]
  },
  {
   "cell_type": "markdown",
   "id": "1465f147",
   "metadata": {},
   "source": [
    "### Smoking status"
   ]
  },
  {
   "cell_type": "code",
   "execution_count": 33,
   "id": "f5b3d8f4",
   "metadata": {
    "ExecuteTime": {
     "end_time": "2022-08-16T19:12:31.013820Z",
     "start_time": "2022-08-16T19:12:30.621542Z"
    }
   },
   "outputs": [
    {
     "data": {
      "image/png": "[encoded data removed]",
      "text/plain": [
       "<Figure size 432x288 with 1 Axes>"
      ]
     },
     "metadata": {
      "needs_background": "light"
     },
     "output_type": "display_data"
    }
   ],
   "source": [
    "sns.barplot(x='smoking_status',y='stroke',data=data_adult)\n",
    "plt.title('Relationship of smoking status and stroke');"
   ]
  },
  {
   "cell_type": "markdown",
   "id": "fdd57198",
   "metadata": {},
   "source": [
    "## Inferential statistics"
   ]
  },
  {
   "cell_type": "markdown",
   "id": "2f9d4986",
   "metadata": {},
   "source": [
    "### Cramer’s V can be used to calculate the correlation between nominal categorical variables."
   ]
  },
  {
   "cell_type": "code",
   "execution_count": 34,
   "id": "df456b61",
   "metadata": {
    "ExecuteTime": {
     "end_time": "2022-08-16T19:12:31.914457Z",
     "start_time": "2022-08-16T19:12:31.015821Z"
    }
   },
   "outputs": [],
   "source": [
    "# Import association_metrics  \n",
    "import association_metrics as am\n",
    "# Convert you str columns to Category columns\n",
    "df = data_adult.apply(\n",
    "        lambda x: x.astype(\"category\")) ##if x.dtype == \"O\" else x)\n",
    "#df['bmi'] = df['bmi'].astype('object')\n",
    "#df.bmi = df.bmi.fillna('unknown')\n",
    "# Initialize a CamresV object using you pandas.DataFrame\n",
    "cramersv = am.CramersV(df) \n",
    "# will return a pairwise matrix filled with Cramer's V, where columns and index are \n",
    "# the categorical variables of the passed pandas.DataFrame\n",
    "res = cramersv.fit()"
   ]
  },
  {
   "cell_type": "code",
   "execution_count": 35,
   "id": "93a9a66d",
   "metadata": {
    "ExecuteTime": {
     "end_time": "2022-08-16T19:12:31.935473Z",
     "start_time": "2022-08-16T19:12:31.916459Z"
    }
   },
   "outputs": [
    {
     "data": {
      "text/html": [
       "<div>\n",
       "<style scoped>\n",
       "    .dataframe tbody tr th:only-of-type {\n",
       "        vertical-align: middle;\n",
       "    }\n",
       "\n",
       "    .dataframe tbody tr th {\n",
       "        vertical-align: top;\n",
       "    }\n",
       "\n",
       "    .dataframe thead th {\n",
       "        text-align: right;\n",
       "    }\n",
       "</style>\n",
       "<table border=\"1\" class=\"dataframe\">\n",
       "  <thead>\n",
       "    <tr style=\"text-align: right;\">\n",
       "      <th></th>\n",
       "      <th>gender</th>\n",
       "      <th>hypertension</th>\n",
       "      <th>heart_disease</th>\n",
       "      <th>ever_married</th>\n",
       "      <th>work_type</th>\n",
       "      <th>Residence_type</th>\n",
       "      <th>glucose_levels</th>\n",
       "      <th>bmi</th>\n",
       "      <th>smoking_status</th>\n",
       "      <th>stroke</th>\n",
       "      <th>age_bin</th>\n",
       "    </tr>\n",
       "  </thead>\n",
       "  <tbody>\n",
       "    <tr>\n",
       "      <th>gender</th>\n",
       "      <td>1.000000</td>\n",
       "      <td>0.038170</td>\n",
       "      <td>0.104101</td>\n",
       "      <td>0.034664</td>\n",
       "      <td>0.012802</td>\n",
       "      <td>0.013253</td>\n",
       "      <td>0.070868</td>\n",
       "      <td>0.137143</td>\n",
       "      <td>0.097908</td>\n",
       "      <td>0.021733</td>\n",
       "      <td>0.081202</td>\n",
       "    </tr>\n",
       "    <tr>\n",
       "      <th>hypertension</th>\n",
       "      <td>0.038170</td>\n",
       "      <td>1.000000</td>\n",
       "      <td>0.095755</td>\n",
       "      <td>0.100888</td>\n",
       "      <td>0.096002</td>\n",
       "      <td>0.009689</td>\n",
       "      <td>0.169928</td>\n",
       "      <td>0.116282</td>\n",
       "      <td>0.092372</td>\n",
       "      <td>0.117027</td>\n",
       "      <td>0.242564</td>\n",
       "    </tr>\n",
       "    <tr>\n",
       "      <th>heart_disease</th>\n",
       "      <td>0.104101</td>\n",
       "      <td>0.095755</td>\n",
       "      <td>1.000000</td>\n",
       "      <td>0.068918</td>\n",
       "      <td>0.072161</td>\n",
       "      <td>0.001742</td>\n",
       "      <td>0.163332</td>\n",
       "      <td>0.055185</td>\n",
       "      <td>0.066124</td>\n",
       "      <td>0.127633</td>\n",
       "      <td>0.277365</td>\n",
       "    </tr>\n",
       "    <tr>\n",
       "      <th>ever_married</th>\n",
       "      <td>0.034664</td>\n",
       "      <td>0.100888</td>\n",
       "      <td>0.068918</td>\n",
       "      <td>1.000000</td>\n",
       "      <td>0.159862</td>\n",
       "      <td>0.003361</td>\n",
       "      <td>0.125550</td>\n",
       "      <td>0.162165</td>\n",
       "      <td>0.102945</td>\n",
       "      <td>0.067114</td>\n",
       "      <td>0.597063</td>\n",
       "    </tr>\n",
       "    <tr>\n",
       "      <th>work_type</th>\n",
       "      <td>0.012802</td>\n",
       "      <td>0.096002</td>\n",
       "      <td>0.072161</td>\n",
       "      <td>0.159862</td>\n",
       "      <td>1.000000</td>\n",
       "      <td>0.026453</td>\n",
       "      <td>0.041335</td>\n",
       "      <td>0.031152</td>\n",
       "      <td>0.049589</td>\n",
       "      <td>0.048857</td>\n",
       "      <td>0.223956</td>\n",
       "    </tr>\n",
       "    <tr>\n",
       "      <th>Residence_type</th>\n",
       "      <td>0.013253</td>\n",
       "      <td>0.009689</td>\n",
       "      <td>0.001742</td>\n",
       "      <td>0.003361</td>\n",
       "      <td>0.026453</td>\n",
       "      <td>1.000000</td>\n",
       "      <td>0.015179</td>\n",
       "      <td>0.031258</td>\n",
       "      <td>0.032552</td>\n",
       "      <td>0.016329</td>\n",
       "      <td>0.040583</td>\n",
       "    </tr>\n",
       "    <tr>\n",
       "      <th>glucose_levels</th>\n",
       "      <td>0.070868</td>\n",
       "      <td>0.169928</td>\n",
       "      <td>0.163332</td>\n",
       "      <td>0.125550</td>\n",
       "      <td>0.041335</td>\n",
       "      <td>0.015179</td>\n",
       "      <td>1.000000</td>\n",
       "      <td>0.116767</td>\n",
       "      <td>0.056774</td>\n",
       "      <td>0.128988</td>\n",
       "      <td>0.175598</td>\n",
       "    </tr>\n",
       "    <tr>\n",
       "      <th>bmi</th>\n",
       "      <td>0.137143</td>\n",
       "      <td>0.116282</td>\n",
       "      <td>0.055185</td>\n",
       "      <td>0.162165</td>\n",
       "      <td>0.031152</td>\n",
       "      <td>0.031258</td>\n",
       "      <td>0.116767</td>\n",
       "      <td>1.000000</td>\n",
       "      <td>0.042701</td>\n",
       "      <td>0.030518</td>\n",
       "      <td>0.147275</td>\n",
       "    </tr>\n",
       "    <tr>\n",
       "      <th>smoking_status</th>\n",
       "      <td>0.097908</td>\n",
       "      <td>0.092372</td>\n",
       "      <td>0.066124</td>\n",
       "      <td>0.102945</td>\n",
       "      <td>0.049589</td>\n",
       "      <td>0.032552</td>\n",
       "      <td>0.056774</td>\n",
       "      <td>0.042701</td>\n",
       "      <td>1.000000</td>\n",
       "      <td>0.051542</td>\n",
       "      <td>0.120257</td>\n",
       "    </tr>\n",
       "    <tr>\n",
       "      <th>stroke</th>\n",
       "      <td>0.021733</td>\n",
       "      <td>0.117027</td>\n",
       "      <td>0.127633</td>\n",
       "      <td>0.067114</td>\n",
       "      <td>0.048857</td>\n",
       "      <td>0.016329</td>\n",
       "      <td>0.128988</td>\n",
       "      <td>0.030518</td>\n",
       "      <td>0.051542</td>\n",
       "      <td>1.000000</td>\n",
       "      <td>0.240099</td>\n",
       "    </tr>\n",
       "    <tr>\n",
       "      <th>age_bin</th>\n",
       "      <td>0.081202</td>\n",
       "      <td>0.242564</td>\n",
       "      <td>0.277365</td>\n",
       "      <td>0.597063</td>\n",
       "      <td>0.223956</td>\n",
       "      <td>0.040583</td>\n",
       "      <td>0.175598</td>\n",
       "      <td>0.147275</td>\n",
       "      <td>0.120257</td>\n",
       "      <td>0.240099</td>\n",
       "      <td>1.000000</td>\n",
       "    </tr>\n",
       "  </tbody>\n",
       "</table>\n",
       "</div>"
      ],
      "text/plain": [
       "                  gender  hypertension  heart_disease  ever_married  \\\n",
       "gender          1.000000      0.038170       0.104101      0.034664   \n",
       "hypertension    0.038170      1.000000       0.095755      0.100888   \n",
       "heart_disease   0.104101      0.095755       1.000000      0.068918   \n",
       "ever_married    0.034664      0.100888       0.068918      1.000000   \n",
       "work_type       0.012802      0.096002       0.072161      0.159862   \n",
       "Residence_type  0.013253      0.009689       0.001742      0.003361   \n",
       "glucose_levels  0.070868      0.169928       0.163332      0.125550   \n",
       "bmi             0.137143      0.116282       0.055185      0.162165   \n",
       "smoking_status  0.097908      0.092372       0.066124      0.102945   \n",
       "stroke          0.021733      0.117027       0.127633      0.067114   \n",
       "age_bin         0.081202      0.242564       0.277365      0.597063   \n",
       "\n",
       "                work_type  Residence_type  glucose_levels       bmi  \\\n",
       "gender           0.012802        0.013253        0.070868  0.137143   \n",
       "hypertension     0.096002        0.009689        0.169928  0.116282   \n",
       "heart_disease    0.072161        0.001742        0.163332  0.055185   \n",
       "ever_married     0.159862        0.003361        0.125550  0.162165   \n",
       "work_type        1.000000        0.026453        0.041335  0.031152   \n",
       "Residence_type   0.026453        1.000000        0.015179  0.031258   \n",
       "glucose_levels   0.041335        0.015179        1.000000  0.116767   \n",
       "bmi              0.031152        0.031258        0.116767  1.000000   \n",
       "smoking_status   0.049589        0.032552        0.056774  0.042701   \n",
       "stroke           0.048857        0.016329        0.128988  0.030518   \n",
       "age_bin          0.223956        0.040583        0.175598  0.147275   \n",
       "\n",
       "                smoking_status    stroke   age_bin  \n",
       "gender                0.097908  0.021733  0.081202  \n",
       "hypertension          0.092372  0.117027  0.242564  \n",
       "heart_disease         0.066124  0.127633  0.277365  \n",
       "ever_married          0.102945  0.067114  0.597063  \n",
       "work_type             0.049589  0.048857  0.223956  \n",
       "Residence_type        0.032552  0.016329  0.040583  \n",
       "glucose_levels        0.056774  0.128988  0.175598  \n",
       "bmi                   0.042701  0.030518  0.147275  \n",
       "smoking_status        1.000000  0.051542  0.120257  \n",
       "stroke                0.051542  1.000000  0.240099  \n",
       "age_bin               0.120257  0.240099  1.000000  "
      ]
     },
     "execution_count": 35,
     "metadata": {},
     "output_type": "execute_result"
    }
   ],
   "source": [
    "res"
   ]
  },
  {
   "cell_type": "code",
   "execution_count": 36,
   "id": "4726dc73",
   "metadata": {
    "ExecuteTime": {
     "end_time": "2022-08-16T19:12:32.288722Z",
     "start_time": "2022-08-16T19:12:31.937484Z"
    }
   },
   "outputs": [
    {
     "data": {
      "image/png": "[encoded data removed]",
      "text/plain": [
       "<Figure size 432x288 with 2 Axes>"
      ]
     },
     "metadata": {
      "needs_background": "light"
     },
     "output_type": "display_data"
    }
   ],
   "source": [
    "sns.heatmap(res);"
   ]
  },
  {
   "cell_type": "markdown",
   "id": "e48dc7bb",
   "metadata": {},
   "source": [
    "## As we can see 'age_bin' and marriage_status show the strongest relationship with a score of ~ 0.6. "
   ]
  },
  {
   "cell_type": "markdown",
   "id": "bbfb38f3",
   "metadata": {},
   "source": [
    "### Feature selection"
   ]
  },
  {
   "cell_type": "code",
   "execution_count": 37,
   "id": "88d798ab",
   "metadata": {
    "ExecuteTime": {
     "end_time": "2022-08-16T19:12:32.937326Z",
     "start_time": "2022-08-16T19:12:32.292725Z"
    }
   },
   "outputs": [],
   "source": [
    "from sklearn.feature_selection import SelectKBest\n",
    "from sklearn.feature_selection import chi2\n",
    "from sklearn.feature_selection import f_classif\n",
    "from sklearn.feature_selection import mutual_info_classif\n",
    "from sklearn.linear_model import LogisticRegression\n",
    "from sklearn.model_selection import train_test_split\n",
    "from sklearn import metrics\n",
    "from sklearn.preprocessing import LabelEncoder\n",
    "from mlxtend.preprocessing import minmax_scaling\n",
    "import scipy.stats\n",
    "from sklearn.metrics import roc_auc_score"
   ]
  },
  {
   "cell_type": "markdown",
   "id": "0f730b40",
   "metadata": {},
   "source": [
    "## Chi square test\n",
    "### Null hypothesis: Predictor variable and target variable are independent\n",
    "### If chi square score is higher that a critical values, null hypothesis can be rejected."
   ]
  },
  {
   "cell_type": "code",
   "execution_count": 38,
   "id": "8807908b",
   "metadata": {
    "ExecuteTime": {
     "end_time": "2022-08-16T19:12:32.990368Z",
     "start_time": "2022-08-16T19:12:32.945318Z"
    }
   },
   "outputs": [],
   "source": [
    "data_copy = data_adult.copy()\n",
    "for col in data_copy.columns:\n",
    "    data_copy[col] = LabelEncoder().fit_transform(data_copy[col])"
   ]
  },
  {
   "cell_type": "code",
   "execution_count": 39,
   "id": "425d01bb",
   "metadata": {
    "ExecuteTime": {
     "end_time": "2022-08-16T19:12:33.012380Z",
     "start_time": "2022-08-16T19:12:32.994354Z"
    }
   },
   "outputs": [],
   "source": [
    "features = [col for col in data_copy.columns if col != 'stroke']\n",
    "X = data_copy[features]\n",
    "y = data_copy['stroke']"
   ]
  },
  {
   "cell_type": "code",
   "execution_count": 40,
   "id": "5a25abf0",
   "metadata": {
    "ExecuteTime": {
     "end_time": "2022-08-16T19:12:33.032380Z",
     "start_time": "2022-08-16T19:12:33.021373Z"
    }
   },
   "outputs": [],
   "source": [
    "X_train, X_test, y_train, y_test = train_test_split(X,y,test_size=0.3,random_state=246)"
   ]
  },
  {
   "cell_type": "code",
   "execution_count": 67,
   "id": "268a1628",
   "metadata": {
    "ExecuteTime": {
     "end_time": "2022-08-16T19:18:51.478272Z",
     "start_time": "2022-08-16T19:18:51.294147Z"
    }
   },
   "outputs": [
    {
     "ename": "ValueError",
     "evalue": "Data must be 1-dimensional",
     "output_type": "error",
     "traceback": [
      "\u001b[1;31m---------------------------------------------------------------------------\u001b[0m",
      "\u001b[1;31mValueError\u001b[0m                                Traceback (most recent call last)",
      "Input \u001b[1;32mIn [67]\u001b[0m, in \u001b[0;36m<cell line: 2>\u001b[1;34m()\u001b[0m\n\u001b[0;32m      2\u001b[0m \u001b[38;5;28;01mfor\u001b[39;00m col \u001b[38;5;129;01min\u001b[39;00m X_train\u001b[38;5;241m.\u001b[39mcolumns:\n\u001b[0;32m      3\u001b[0m     \u001b[38;5;28;01mif\u001b[39;00m col \u001b[38;5;241m!=\u001b[39m \u001b[38;5;124m'\u001b[39m\u001b[38;5;124mstroke\u001b[39m\u001b[38;5;124m'\u001b[39m:\n\u001b[1;32m----> 4\u001b[0m         crosstab \u001b[38;5;241m=\u001b[39m \u001b[43mpd\u001b[49m\u001b[38;5;241;43m.\u001b[39;49m\u001b[43mcrosstab\u001b[49m\u001b[43m(\u001b[49m\u001b[43my_train\u001b[49m\u001b[43m,\u001b[49m\u001b[43m \u001b[49m\u001b[43mX_train\u001b[49m\u001b[43m[\u001b[49m\u001b[43mcol\u001b[49m\u001b[43m]\u001b[49m\u001b[38;5;241;43m==\u001b[39;49m\u001b[38;5;124;43m\"\u001b[39;49m\u001b[38;5;124;43mnormal\u001b[39;49m\u001b[38;5;124;43m\"\u001b[39;49m\u001b[43m)\u001b[49m\n\u001b[0;32m      5\u001b[0m         df \u001b[38;5;241m=\u001b[39m (\u001b[38;5;28mlen\u001b[39m(crosstab\u001b[38;5;241m.\u001b[39mindex)\u001b[38;5;241m-\u001b[39m\u001b[38;5;241m1\u001b[39m)\u001b[38;5;241m*\u001b[39m(\u001b[38;5;28mlen\u001b[39m(crosstab\u001b[38;5;241m.\u001b[39mcolumns)\u001b[38;5;241m-\u001b[39m\u001b[38;5;241m1\u001b[39m) \u001b[38;5;66;03m#degrees of freedom\u001b[39;00m\n\u001b[0;32m      6\u001b[0m         crit_val \u001b[38;5;241m=\u001b[39m scipy\u001b[38;5;241m.\u001b[39mstats\u001b[38;5;241m.\u001b[39mchi2\u001b[38;5;241m.\u001b[39mppf(\u001b[38;5;241m0.95\u001b[39m, df\u001b[38;5;241m=\u001b[39mdf)\n",
      "File \u001b[1;32m~\\anaconda3\\lib\\site-packages\\pandas\\core\\reshape\\pivot.py:661\u001b[0m, in \u001b[0;36mcrosstab\u001b[1;34m(index, columns, values, rownames, colnames, aggfunc, margins, margins_name, dropna, normalize)\u001b[0m\n\u001b[0;32m    655\u001b[0m \u001b[38;5;28;01mfrom\u001b[39;00m \u001b[38;5;21;01mpandas\u001b[39;00m \u001b[38;5;28;01mimport\u001b[39;00m DataFrame\n\u001b[0;32m    657\u001b[0m data \u001b[38;5;241m=\u001b[39m {\n\u001b[0;32m    658\u001b[0m     \u001b[38;5;241m*\u001b[39m\u001b[38;5;241m*\u001b[39m\u001b[38;5;28mdict\u001b[39m(\u001b[38;5;28mzip\u001b[39m(unique_rownames, index)),\n\u001b[0;32m    659\u001b[0m     \u001b[38;5;241m*\u001b[39m\u001b[38;5;241m*\u001b[39m\u001b[38;5;28mdict\u001b[39m(\u001b[38;5;28mzip\u001b[39m(unique_colnames, columns)),\n\u001b[0;32m    660\u001b[0m }\n\u001b[1;32m--> 661\u001b[0m df \u001b[38;5;241m=\u001b[39m \u001b[43mDataFrame\u001b[49m\u001b[43m(\u001b[49m\u001b[43mdata\u001b[49m\u001b[43m,\u001b[49m\u001b[43m \u001b[49m\u001b[43mindex\u001b[49m\u001b[38;5;241;43m=\u001b[39;49m\u001b[43mcommon_idx\u001b[49m\u001b[43m)\u001b[49m\n\u001b[0;32m    663\u001b[0m \u001b[38;5;28;01mif\u001b[39;00m values \u001b[38;5;129;01mis\u001b[39;00m \u001b[38;5;28;01mNone\u001b[39;00m:\n\u001b[0;32m    664\u001b[0m     df[\u001b[38;5;124m\"\u001b[39m\u001b[38;5;124m__dummy__\u001b[39m\u001b[38;5;124m\"\u001b[39m] \u001b[38;5;241m=\u001b[39m \u001b[38;5;241m0\u001b[39m\n",
      "File \u001b[1;32m~\\anaconda3\\lib\\site-packages\\pandas\\core\\frame.py:636\u001b[0m, in \u001b[0;36mDataFrame.__init__\u001b[1;34m(self, data, index, columns, dtype, copy)\u001b[0m\n\u001b[0;32m    630\u001b[0m     mgr \u001b[38;5;241m=\u001b[39m \u001b[38;5;28mself\u001b[39m\u001b[38;5;241m.\u001b[39m_init_mgr(\n\u001b[0;32m    631\u001b[0m         data, axes\u001b[38;5;241m=\u001b[39m{\u001b[38;5;124m\"\u001b[39m\u001b[38;5;124mindex\u001b[39m\u001b[38;5;124m\"\u001b[39m: index, \u001b[38;5;124m\"\u001b[39m\u001b[38;5;124mcolumns\u001b[39m\u001b[38;5;124m\"\u001b[39m: columns}, dtype\u001b[38;5;241m=\u001b[39mdtype, copy\u001b[38;5;241m=\u001b[39mcopy\n\u001b[0;32m    632\u001b[0m     )\n\u001b[0;32m    634\u001b[0m \u001b[38;5;28;01melif\u001b[39;00m \u001b[38;5;28misinstance\u001b[39m(data, \u001b[38;5;28mdict\u001b[39m):\n\u001b[0;32m    635\u001b[0m     \u001b[38;5;66;03m# GH#38939 de facto copy defaults to False only in non-dict cases\u001b[39;00m\n\u001b[1;32m--> 636\u001b[0m     mgr \u001b[38;5;241m=\u001b[39m \u001b[43mdict_to_mgr\u001b[49m\u001b[43m(\u001b[49m\u001b[43mdata\u001b[49m\u001b[43m,\u001b[49m\u001b[43m \u001b[49m\u001b[43mindex\u001b[49m\u001b[43m,\u001b[49m\u001b[43m \u001b[49m\u001b[43mcolumns\u001b[49m\u001b[43m,\u001b[49m\u001b[43m \u001b[49m\u001b[43mdtype\u001b[49m\u001b[38;5;241;43m=\u001b[39;49m\u001b[43mdtype\u001b[49m\u001b[43m,\u001b[49m\u001b[43m \u001b[49m\u001b[43mcopy\u001b[49m\u001b[38;5;241;43m=\u001b[39;49m\u001b[43mcopy\u001b[49m\u001b[43m,\u001b[49m\u001b[43m \u001b[49m\u001b[43mtyp\u001b[49m\u001b[38;5;241;43m=\u001b[39;49m\u001b[43mmanager\u001b[49m\u001b[43m)\u001b[49m\n\u001b[0;32m    637\u001b[0m \u001b[38;5;28;01melif\u001b[39;00m \u001b[38;5;28misinstance\u001b[39m(data, ma\u001b[38;5;241m.\u001b[39mMaskedArray):\n\u001b[0;32m    638\u001b[0m     \u001b[38;5;28;01mimport\u001b[39;00m \u001b[38;5;21;01mnumpy\u001b[39;00m\u001b[38;5;21;01m.\u001b[39;00m\u001b[38;5;21;01mma\u001b[39;00m\u001b[38;5;21;01m.\u001b[39;00m\u001b[38;5;21;01mmrecords\u001b[39;00m \u001b[38;5;28;01mas\u001b[39;00m \u001b[38;5;21;01mmrecords\u001b[39;00m\n",
      "File \u001b[1;32m~\\anaconda3\\lib\\site-packages\\pandas\\core\\internals\\construction.py:502\u001b[0m, in \u001b[0;36mdict_to_mgr\u001b[1;34m(data, index, columns, dtype, typ, copy)\u001b[0m\n\u001b[0;32m    494\u001b[0m     arrays \u001b[38;5;241m=\u001b[39m [\n\u001b[0;32m    495\u001b[0m         x\n\u001b[0;32m    496\u001b[0m         \u001b[38;5;28;01mif\u001b[39;00m \u001b[38;5;129;01mnot\u001b[39;00m \u001b[38;5;28mhasattr\u001b[39m(x, \u001b[38;5;124m\"\u001b[39m\u001b[38;5;124mdtype\u001b[39m\u001b[38;5;124m\"\u001b[39m) \u001b[38;5;129;01mor\u001b[39;00m \u001b[38;5;129;01mnot\u001b[39;00m \u001b[38;5;28misinstance\u001b[39m(x\u001b[38;5;241m.\u001b[39mdtype, ExtensionDtype)\n\u001b[0;32m    497\u001b[0m         \u001b[38;5;28;01melse\u001b[39;00m x\u001b[38;5;241m.\u001b[39mcopy()\n\u001b[0;32m    498\u001b[0m         \u001b[38;5;28;01mfor\u001b[39;00m x \u001b[38;5;129;01min\u001b[39;00m arrays\n\u001b[0;32m    499\u001b[0m     ]\n\u001b[0;32m    500\u001b[0m     \u001b[38;5;66;03m# TODO: can we get rid of the dt64tz special case above?\u001b[39;00m\n\u001b[1;32m--> 502\u001b[0m \u001b[38;5;28;01mreturn\u001b[39;00m \u001b[43marrays_to_mgr\u001b[49m\u001b[43m(\u001b[49m\u001b[43marrays\u001b[49m\u001b[43m,\u001b[49m\u001b[43m \u001b[49m\u001b[43mcolumns\u001b[49m\u001b[43m,\u001b[49m\u001b[43m \u001b[49m\u001b[43mindex\u001b[49m\u001b[43m,\u001b[49m\u001b[43m \u001b[49m\u001b[43mdtype\u001b[49m\u001b[38;5;241;43m=\u001b[39;49m\u001b[43mdtype\u001b[49m\u001b[43m,\u001b[49m\u001b[43m \u001b[49m\u001b[43mtyp\u001b[49m\u001b[38;5;241;43m=\u001b[39;49m\u001b[43mtyp\u001b[49m\u001b[43m,\u001b[49m\u001b[43m \u001b[49m\u001b[43mconsolidate\u001b[49m\u001b[38;5;241;43m=\u001b[39;49m\u001b[43mcopy\u001b[49m\u001b[43m)\u001b[49m\n",
      "File \u001b[1;32m~\\anaconda3\\lib\\site-packages\\pandas\\core\\internals\\construction.py:125\u001b[0m, in \u001b[0;36marrays_to_mgr\u001b[1;34m(arrays, columns, index, dtype, verify_integrity, typ, consolidate)\u001b[0m\n\u001b[0;32m    122\u001b[0m         index \u001b[38;5;241m=\u001b[39m ensure_index(index)\n\u001b[0;32m    124\u001b[0m     \u001b[38;5;66;03m# don't force copy because getting jammed in an ndarray anyway\u001b[39;00m\n\u001b[1;32m--> 125\u001b[0m     arrays \u001b[38;5;241m=\u001b[39m \u001b[43m_homogenize\u001b[49m\u001b[43m(\u001b[49m\u001b[43marrays\u001b[49m\u001b[43m,\u001b[49m\u001b[43m \u001b[49m\u001b[43mindex\u001b[49m\u001b[43m,\u001b[49m\u001b[43m \u001b[49m\u001b[43mdtype\u001b[49m\u001b[43m)\u001b[49m\n\u001b[0;32m    126\u001b[0m     \u001b[38;5;66;03m# _homogenize ensures\u001b[39;00m\n\u001b[0;32m    127\u001b[0m     \u001b[38;5;66;03m#  - all(len(x) == len(index) for x in arrays)\u001b[39;00m\n\u001b[0;32m    128\u001b[0m     \u001b[38;5;66;03m#  - all(x.ndim == 1 for x in arrays)\u001b[39;00m\n\u001b[1;32m   (...)\u001b[0m\n\u001b[0;32m    131\u001b[0m \n\u001b[0;32m    132\u001b[0m \u001b[38;5;28;01melse\u001b[39;00m:\n\u001b[0;32m    133\u001b[0m     index \u001b[38;5;241m=\u001b[39m ensure_index(index)\n",
      "File \u001b[1;32m~\\anaconda3\\lib\\site-packages\\pandas\\core\\internals\\construction.py:625\u001b[0m, in \u001b[0;36m_homogenize\u001b[1;34m(data, index, dtype)\u001b[0m\n\u001b[0;32m    622\u001b[0m             val \u001b[38;5;241m=\u001b[39m \u001b[38;5;28mdict\u001b[39m(val)\n\u001b[0;32m    623\u001b[0m         val \u001b[38;5;241m=\u001b[39m lib\u001b[38;5;241m.\u001b[39mfast_multiget(val, oindex\u001b[38;5;241m.\u001b[39m_values, default\u001b[38;5;241m=\u001b[39mnp\u001b[38;5;241m.\u001b[39mnan)\n\u001b[1;32m--> 625\u001b[0m     val \u001b[38;5;241m=\u001b[39m \u001b[43msanitize_array\u001b[49m\u001b[43m(\u001b[49m\n\u001b[0;32m    626\u001b[0m \u001b[43m        \u001b[49m\u001b[43mval\u001b[49m\u001b[43m,\u001b[49m\u001b[43m \u001b[49m\u001b[43mindex\u001b[49m\u001b[43m,\u001b[49m\u001b[43m \u001b[49m\u001b[43mdtype\u001b[49m\u001b[38;5;241;43m=\u001b[39;49m\u001b[43mdtype\u001b[49m\u001b[43m,\u001b[49m\u001b[43m \u001b[49m\u001b[43mcopy\u001b[49m\u001b[38;5;241;43m=\u001b[39;49m\u001b[38;5;28;43;01mFalse\u001b[39;49;00m\u001b[43m,\u001b[49m\u001b[43m \u001b[49m\u001b[43mraise_cast_failure\u001b[49m\u001b[38;5;241;43m=\u001b[39;49m\u001b[38;5;28;43;01mFalse\u001b[39;49;00m\n\u001b[0;32m    627\u001b[0m \u001b[43m    \u001b[49m\u001b[43m)\u001b[49m\n\u001b[0;32m    628\u001b[0m     com\u001b[38;5;241m.\u001b[39mrequire_length_match(val, index)\n\u001b[0;32m    630\u001b[0m homogenized\u001b[38;5;241m.\u001b[39mappend(val)\n",
      "File \u001b[1;32m~\\anaconda3\\lib\\site-packages\\pandas\\core\\construction.py:601\u001b[0m, in \u001b[0;36msanitize_array\u001b[1;34m(data, index, dtype, copy, raise_cast_failure, allow_2d)\u001b[0m\n\u001b[0;32m    598\u001b[0m             subarr \u001b[38;5;241m=\u001b[39m cast(np\u001b[38;5;241m.\u001b[39mndarray, subarr)\n\u001b[0;32m    599\u001b[0m             subarr \u001b[38;5;241m=\u001b[39m maybe_infer_to_datetimelike(subarr)\n\u001b[1;32m--> 601\u001b[0m subarr \u001b[38;5;241m=\u001b[39m \u001b[43m_sanitize_ndim\u001b[49m\u001b[43m(\u001b[49m\u001b[43msubarr\u001b[49m\u001b[43m,\u001b[49m\u001b[43m \u001b[49m\u001b[43mdata\u001b[49m\u001b[43m,\u001b[49m\u001b[43m \u001b[49m\u001b[43mdtype\u001b[49m\u001b[43m,\u001b[49m\u001b[43m \u001b[49m\u001b[43mindex\u001b[49m\u001b[43m,\u001b[49m\u001b[43m \u001b[49m\u001b[43mallow_2d\u001b[49m\u001b[38;5;241;43m=\u001b[39;49m\u001b[43mallow_2d\u001b[49m\u001b[43m)\u001b[49m\n\u001b[0;32m    603\u001b[0m \u001b[38;5;28;01mif\u001b[39;00m \u001b[38;5;28misinstance\u001b[39m(subarr, np\u001b[38;5;241m.\u001b[39mndarray):\n\u001b[0;32m    604\u001b[0m     \u001b[38;5;66;03m# at this point we should have dtype be None or subarr.dtype == dtype\u001b[39;00m\n\u001b[0;32m    605\u001b[0m     dtype \u001b[38;5;241m=\u001b[39m cast(np\u001b[38;5;241m.\u001b[39mdtype, dtype)\n",
      "File \u001b[1;32m~\\anaconda3\\lib\\site-packages\\pandas\\core\\construction.py:652\u001b[0m, in \u001b[0;36m_sanitize_ndim\u001b[1;34m(result, data, dtype, index, allow_2d)\u001b[0m\n\u001b[0;32m    650\u001b[0m     \u001b[38;5;28;01mif\u001b[39;00m allow_2d:\n\u001b[0;32m    651\u001b[0m         \u001b[38;5;28;01mreturn\u001b[39;00m result\n\u001b[1;32m--> 652\u001b[0m     \u001b[38;5;28;01mraise\u001b[39;00m \u001b[38;5;167;01mValueError\u001b[39;00m(\u001b[38;5;124m\"\u001b[39m\u001b[38;5;124mData must be 1-dimensional\u001b[39m\u001b[38;5;124m\"\u001b[39m)\n\u001b[0;32m    653\u001b[0m \u001b[38;5;28;01mif\u001b[39;00m is_object_dtype(dtype) \u001b[38;5;129;01mand\u001b[39;00m \u001b[38;5;28misinstance\u001b[39m(dtype, ExtensionDtype):\n\u001b[0;32m    654\u001b[0m     \u001b[38;5;66;03m# i.e. PandasDtype(\"O\")\u001b[39;00m\n\u001b[0;32m    656\u001b[0m     result \u001b[38;5;241m=\u001b[39m com\u001b[38;5;241m.\u001b[39masarray_tuplesafe(data, dtype\u001b[38;5;241m=\u001b[39mnp\u001b[38;5;241m.\u001b[39mdtype(\u001b[38;5;124m\"\u001b[39m\u001b[38;5;124mobject\u001b[39m\u001b[38;5;124m\"\u001b[39m))\n",
      "\u001b[1;31mValueError\u001b[0m: Data must be 1-dimensional"
     ]
    }
   ],
   "source": [
    "critical_values = {}\n",
    "for col in X_train.columns:\n",
    "    if col != 'stroke':\n",
    "        crosstab = pd.crosstab(y_train, X_train[col])\n",
    "        df = (len(crosstab.index)-1)*(len(crosstab.columns)-1) #degrees of freedom\n",
    "        crit_val = scipy.stats.chi2.ppf(0.95, df=df)\n",
    "        critical_values[col] = crit_val"
   ]
  },
  {
   "cell_type": "code",
   "execution_count": 71,
   "id": "e8b7aef5",
   "metadata": {
    "ExecuteTime": {
     "end_time": "2022-08-16T19:21:27.484730Z",
     "start_time": "2022-08-16T19:21:27.463717Z"
    }
   },
   "outputs": [
    {
     "data": {
      "text/plain": [
       "3.841458820694124"
      ]
     },
     "execution_count": 71,
     "metadata": {},
     "output_type": "execute_result"
    }
   ],
   "source": [
    "crosstab = pd.crosstab(y_train.values.reshape(1,-1), X_train[\"glucose_levels\"].values == \"normal\")\n",
    "df = (len(crosstab.index)-1)*(len(crosstab.columns)-1) #degrees of freedom\n",
    "scipy.stats.chi2.ppf(0.95, df=df)\n"
   ]
  },
  {
   "cell_type": "code",
   "execution_count": 72,
   "id": "d2ce86ed",
   "metadata": {
    "ExecuteTime": {
     "end_time": "2022-08-16T19:22:05.185557Z",
     "start_time": "2022-08-16T19:22:05.172549Z"
    }
   },
   "outputs": [
    {
     "data": {
      "text/plain": [
       "4.2044030300980876e-11"
      ]
     },
     "execution_count": 72,
     "metadata": {},
     "output_type": "execute_result"
    }
   ],
   "source": [
    "_,p_val, _, _ = scipy.stats.chi2_contingency(crosstab)\n",
    "p_val"
   ]
  },
  {
   "cell_type": "code",
   "execution_count": 65,
   "id": "2de61dfc",
   "metadata": {
    "ExecuteTime": {
     "end_time": "2022-08-16T19:18:04.236139Z",
     "start_time": "2022-08-16T19:18:04.226131Z"
    }
   },
   "outputs": [
    {
     "data": {
      "text/plain": [
       "array([[0, 0, 0, ..., 0, 0, 0]], dtype=int64)"
      ]
     },
     "execution_count": 65,
     "metadata": {},
     "output_type": "execute_result"
    }
   ],
   "source": [
    "y_train.values.reshape(1,-1)"
   ]
  },
  {
   "cell_type": "code",
   "execution_count": null,
   "id": "a29e0fac",
   "metadata": {},
   "outputs": [],
   "source": []
  },
  {
   "cell_type": "code",
   "execution_count": 42,
   "id": "9a62639d",
   "metadata": {
    "ExecuteTime": {
     "end_time": "2022-08-16T19:12:33.163473Z",
     "start_time": "2022-08-16T19:12:33.157470Z"
    }
   },
   "outputs": [],
   "source": [
    "crit_values = pd.DataFrame.from_dict(critical_values,orient='index')"
   ]
  },
  {
   "cell_type": "code",
   "execution_count": 43,
   "id": "c9abd3cd",
   "metadata": {
    "ExecuteTime": {
     "end_time": "2022-08-16T19:12:33.187490Z",
     "start_time": "2022-08-16T19:12:33.166475Z"
    }
   },
   "outputs": [],
   "source": [
    "selection_model = SelectKBest(score_func=chi2, k=10).fit(X_train, y_train)\n",
    "feature_score = pd.DataFrame({'features': X_train.columns.values, 'scores':selection_model.scores_})"
   ]
  },
  {
   "cell_type": "code",
   "execution_count": 44,
   "id": "679085f7",
   "metadata": {
    "ExecuteTime": {
     "end_time": "2022-08-16T19:12:33.198498Z",
     "start_time": "2022-08-16T19:12:33.189491Z"
    }
   },
   "outputs": [],
   "source": [
    "df = pd.merge(crit_values,feature_score,left_index=True, right_on='features')"
   ]
  },
  {
   "cell_type": "code",
   "execution_count": 45,
   "id": "f8a13777",
   "metadata": {
    "ExecuteTime": {
     "end_time": "2022-08-16T19:12:33.208505Z",
     "start_time": "2022-08-16T19:12:33.201500Z"
    }
   },
   "outputs": [],
   "source": [
    "df = df.rename(columns={0:'critical value'})"
   ]
  },
  {
   "cell_type": "code",
   "execution_count": 46,
   "id": "6750b9f8",
   "metadata": {
    "ExecuteTime": {
     "end_time": "2022-08-16T19:12:33.228519Z",
     "start_time": "2022-08-16T19:12:33.211507Z"
    }
   },
   "outputs": [
    {
     "data": {
      "text/html": [
       "<div>\n",
       "<style scoped>\n",
       "    .dataframe tbody tr th:only-of-type {\n",
       "        vertical-align: middle;\n",
       "    }\n",
       "\n",
       "    .dataframe tbody tr th {\n",
       "        vertical-align: top;\n",
       "    }\n",
       "\n",
       "    .dataframe thead th {\n",
       "        text-align: right;\n",
       "    }\n",
       "</style>\n",
       "<table border=\"1\" class=\"dataframe\">\n",
       "  <thead>\n",
       "    <tr style=\"text-align: right;\">\n",
       "      <th></th>\n",
       "      <th>critical value</th>\n",
       "      <th>features</th>\n",
       "      <th>scores</th>\n",
       "    </tr>\n",
       "  </thead>\n",
       "  <tbody>\n",
       "    <tr>\n",
       "      <th>0</th>\n",
       "      <td>11.070498</td>\n",
       "      <td>age_bin</td>\n",
       "      <td>72.836975</td>\n",
       "    </tr>\n",
       "    <tr>\n",
       "      <th>1</th>\n",
       "      <td>3.841459</td>\n",
       "      <td>heart_disease</td>\n",
       "      <td>36.934998</td>\n",
       "    </tr>\n",
       "    <tr>\n",
       "      <th>2</th>\n",
       "      <td>3.841459</td>\n",
       "      <td>hypertension</td>\n",
       "      <td>22.000696</td>\n",
       "    </tr>\n",
       "    <tr>\n",
       "      <th>3</th>\n",
       "      <td>9.487729</td>\n",
       "      <td>bmi</td>\n",
       "      <td>18.912456</td>\n",
       "    </tr>\n",
       "    <tr>\n",
       "      <th>4</th>\n",
       "      <td>3.841459</td>\n",
       "      <td>ever_married</td>\n",
       "      <td>4.213840</td>\n",
       "    </tr>\n",
       "    <tr>\n",
       "      <th>5</th>\n",
       "      <td>5.991465</td>\n",
       "      <td>glucose_levels</td>\n",
       "      <td>1.648506</td>\n",
       "    </tr>\n",
       "    <tr>\n",
       "      <th>6</th>\n",
       "      <td>7.814728</td>\n",
       "      <td>work_type</td>\n",
       "      <td>0.444697</td>\n",
       "    </tr>\n",
       "    <tr>\n",
       "      <th>7</th>\n",
       "      <td>7.814728</td>\n",
       "      <td>smoking_status</td>\n",
       "      <td>0.067678</td>\n",
       "    </tr>\n",
       "    <tr>\n",
       "      <th>8</th>\n",
       "      <td>3.841459</td>\n",
       "      <td>Residence_type</td>\n",
       "      <td>0.030814</td>\n",
       "    </tr>\n",
       "    <tr>\n",
       "      <th>9</th>\n",
       "      <td>3.841459</td>\n",
       "      <td>gender</td>\n",
       "      <td>0.017946</td>\n",
       "    </tr>\n",
       "  </tbody>\n",
       "</table>\n",
       "</div>"
      ],
      "text/plain": [
       "   critical value        features     scores\n",
       "0       11.070498         age_bin  72.836975\n",
       "1        3.841459   heart_disease  36.934998\n",
       "2        3.841459    hypertension  22.000696\n",
       "3        9.487729             bmi  18.912456\n",
       "4        3.841459    ever_married   4.213840\n",
       "5        5.991465  glucose_levels   1.648506\n",
       "6        7.814728       work_type   0.444697\n",
       "7        7.814728  smoking_status   0.067678\n",
       "8        3.841459  Residence_type   0.030814\n",
       "9        3.841459          gender   0.017946"
      ]
     },
     "execution_count": 46,
     "metadata": {},
     "output_type": "execute_result"
    }
   ],
   "source": [
    "df.sort_values(by='scores',ascending=False).reset_index(drop=True)"
   ]
  },
  {
   "cell_type": "code",
   "execution_count": 47,
   "id": "3a01759c",
   "metadata": {
    "ExecuteTime": {
     "end_time": "2022-08-16T19:12:33.446672Z",
     "start_time": "2022-08-16T19:12:33.231522Z"
    }
   },
   "outputs": [
    {
     "data": {
      "image/png": "[encoded data removed]",
      "text/plain": [
       "<Figure size 432x288 with 1 Axes>"
      ]
     },
     "metadata": {
      "needs_background": "light"
     },
     "output_type": "display_data"
    }
   ],
   "source": [
    "feature_score.sort_values(by='scores',ascending=False).plot(x='features',kind='bar',title='Chi-squared scores');"
   ]
  },
  {
   "cell_type": "markdown",
   "id": "21144216",
   "metadata": {},
   "source": [
    "## As we can see, critical value is higher than chi square score for features 'work_type','smoking_status','Residence_type' and 'gender' indicating that these features and target feature are independent."
   ]
  },
  {
   "cell_type": "code",
   "execution_count": 48,
   "id": "8759f9dc",
   "metadata": {
    "ExecuteTime": {
     "end_time": "2022-08-16T19:12:33.462684Z",
     "start_time": "2022-08-16T19:12:33.448675Z"
    }
   },
   "outputs": [
    {
     "data": {
      "text/html": [
       "<div>\n",
       "<style scoped>\n",
       "    .dataframe tbody tr th:only-of-type {\n",
       "        vertical-align: middle;\n",
       "    }\n",
       "\n",
       "    .dataframe tbody tr th {\n",
       "        vertical-align: top;\n",
       "    }\n",
       "\n",
       "    .dataframe thead th {\n",
       "        text-align: right;\n",
       "    }\n",
       "</style>\n",
       "<table border=\"1\" class=\"dataframe\">\n",
       "  <thead>\n",
       "    <tr style=\"text-align: right;\">\n",
       "      <th></th>\n",
       "      <th>gender</th>\n",
       "      <th>hypertension</th>\n",
       "      <th>heart_disease</th>\n",
       "      <th>ever_married</th>\n",
       "      <th>work_type</th>\n",
       "      <th>Residence_type</th>\n",
       "      <th>glucose_levels</th>\n",
       "      <th>bmi</th>\n",
       "      <th>smoking_status</th>\n",
       "      <th>stroke</th>\n",
       "      <th>age_bin</th>\n",
       "    </tr>\n",
       "  </thead>\n",
       "  <tbody>\n",
       "    <tr>\n",
       "      <th>0</th>\n",
       "      <td>Male</td>\n",
       "      <td>0</td>\n",
       "      <td>1</td>\n",
       "      <td>Yes</td>\n",
       "      <td>Private</td>\n",
       "      <td>Urban</td>\n",
       "      <td>diabetes</td>\n",
       "      <td>obesity</td>\n",
       "      <td>formerly smoked</td>\n",
       "      <td>1</td>\n",
       "      <td>(60, 80]</td>\n",
       "    </tr>\n",
       "    <tr>\n",
       "      <th>1</th>\n",
       "      <td>Female</td>\n",
       "      <td>0</td>\n",
       "      <td>0</td>\n",
       "      <td>Yes</td>\n",
       "      <td>Self-employed</td>\n",
       "      <td>Rural</td>\n",
       "      <td>diabetes</td>\n",
       "      <td>NaN</td>\n",
       "      <td>never smoked</td>\n",
       "      <td>1</td>\n",
       "      <td>(60, 80]</td>\n",
       "    </tr>\n",
       "    <tr>\n",
       "      <th>2</th>\n",
       "      <td>Male</td>\n",
       "      <td>0</td>\n",
       "      <td>1</td>\n",
       "      <td>Yes</td>\n",
       "      <td>Private</td>\n",
       "      <td>Rural</td>\n",
       "      <td>normal</td>\n",
       "      <td>obesity</td>\n",
       "      <td>never smoked</td>\n",
       "      <td>1</td>\n",
       "      <td>(60, 80]</td>\n",
       "    </tr>\n",
       "    <tr>\n",
       "      <th>3</th>\n",
       "      <td>Female</td>\n",
       "      <td>0</td>\n",
       "      <td>0</td>\n",
       "      <td>Yes</td>\n",
       "      <td>Private</td>\n",
       "      <td>Urban</td>\n",
       "      <td>prediabetes</td>\n",
       "      <td>obesity</td>\n",
       "      <td>smokes</td>\n",
       "      <td>1</td>\n",
       "      <td>(45, 60]</td>\n",
       "    </tr>\n",
       "    <tr>\n",
       "      <th>4</th>\n",
       "      <td>Female</td>\n",
       "      <td>1</td>\n",
       "      <td>0</td>\n",
       "      <td>Yes</td>\n",
       "      <td>Self-employed</td>\n",
       "      <td>Rural</td>\n",
       "      <td>prediabetes</td>\n",
       "      <td>normal</td>\n",
       "      <td>never smoked</td>\n",
       "      <td>1</td>\n",
       "      <td>(60, 80]</td>\n",
       "    </tr>\n",
       "  </tbody>\n",
       "</table>\n",
       "</div>"
      ],
      "text/plain": [
       "   gender  hypertension  heart_disease ever_married      work_type  \\\n",
       "0    Male             0              1          Yes        Private   \n",
       "1  Female             0              0          Yes  Self-employed   \n",
       "2    Male             0              1          Yes        Private   \n",
       "3  Female             0              0          Yes        Private   \n",
       "4  Female             1              0          Yes  Self-employed   \n",
       "\n",
       "  Residence_type glucose_levels      bmi   smoking_status  stroke   age_bin  \n",
       "0          Urban       diabetes  obesity  formerly smoked       1  (60, 80]  \n",
       "1          Rural       diabetes      NaN     never smoked       1  (60, 80]  \n",
       "2          Rural         normal  obesity     never smoked       1  (60, 80]  \n",
       "3          Urban    prediabetes  obesity           smokes       1  (45, 60]  \n",
       "4          Rural    prediabetes   normal     never smoked       1  (60, 80]  "
      ]
     },
     "execution_count": 48,
     "metadata": {},
     "output_type": "execute_result"
    }
   ],
   "source": [
    "data_adult.head()"
   ]
  },
  {
   "cell_type": "markdown",
   "id": "1827c8fe",
   "metadata": {
    "ExecuteTime": {
     "end_time": "2022-07-08T16:49:18.466684Z",
     "start_time": "2022-07-08T16:49:18.444670Z"
    }
   },
   "source": [
    "## Building a model to get feature importance"
   ]
  },
  {
   "cell_type": "code",
   "execution_count": 49,
   "id": "642d1f12",
   "metadata": {
    "ExecuteTime": {
     "end_time": "2022-08-16T19:12:33.482699Z",
     "start_time": "2022-08-16T19:12:33.464685Z"
    }
   },
   "outputs": [],
   "source": [
    "features = [col for col in data_adult.columns if col != 'stroke']\n",
    "X = data_adult[features] \n",
    "y = data_adult[['stroke']] "
   ]
  },
  {
   "cell_type": "code",
   "execution_count": 50,
   "id": "7f67616d",
   "metadata": {
    "ExecuteTime": {
     "end_time": "2022-08-16T19:12:33.499710Z",
     "start_time": "2022-08-16T19:12:33.490712Z"
    }
   },
   "outputs": [],
   "source": [
    "X_train, X_test, y_train, y_test = train_test_split(X,y,test_size=0.3,random_state=246)"
   ]
  },
  {
   "cell_type": "code",
   "execution_count": 51,
   "id": "b95b009a",
   "metadata": {
    "ExecuteTime": {
     "end_time": "2022-08-16T19:12:33.554749Z",
     "start_time": "2022-08-16T19:12:33.502714Z"
    }
   },
   "outputs": [],
   "source": [
    "X_train_dummies = pd.get_dummies(X_train,drop_first=True)\n",
    "X_test_dummies = pd.get_dummies(X_test,drop_first=True)"
   ]
  },
  {
   "cell_type": "code",
   "execution_count": 52,
   "id": "b8a5631b",
   "metadata": {
    "ExecuteTime": {
     "end_time": "2022-08-16T19:12:33.687846Z",
     "start_time": "2022-08-16T19:12:33.565759Z"
    }
   },
   "outputs": [],
   "source": [
    "import xgboost as xgb\n",
    "xgb_clf = xgb.XGBClassifier(objective= 'binary:logistic', eta=0.01, n_estimators=200, \n",
    "                        max_depth=8, colsample_bytree=0.8, seed=47, use_label_encoder=False)"
   ]
  },
  {
   "cell_type": "code",
   "execution_count": 53,
   "id": "53899eae",
   "metadata": {
    "ExecuteTime": {
     "end_time": "2022-08-16T19:12:33.702856Z",
     "start_time": "2022-08-16T19:12:33.696851Z"
    }
   },
   "outputs": [],
   "source": [
    "def replace_char(df):\n",
    "    df.columns = df.columns.str.replace(\"_\", \"\")\n",
    "    df.columns = df.columns.str.replace(\",\", \"\")\n",
    "    df.columns = df.columns.str.replace(\"]\", \"\")\n",
    "    df.columns = df.columns.str.replace(\"[\", \"\")"
   ]
  },
  {
   "cell_type": "code",
   "execution_count": 54,
   "id": "1fd1e6e8",
   "metadata": {
    "ExecuteTime": {
     "end_time": "2022-08-16T19:12:33.730878Z",
     "start_time": "2022-08-16T19:12:33.705857Z"
    }
   },
   "outputs": [],
   "source": [
    "replace_char(X_train_dummies)\n",
    "replace_char(X_test_dummies)"
   ]
  },
  {
   "cell_type": "code",
   "execution_count": 55,
   "id": "f5e0c231",
   "metadata": {
    "ExecuteTime": {
     "end_time": "2022-08-16T19:12:34.177191Z",
     "start_time": "2022-08-16T19:12:33.742884Z"
    },
    "scrolled": true
   },
   "outputs": [
    {
     "name": "stdout",
     "output_type": "stream",
     "text": [
      "[15:12:33] WARNING: ..\\src\\learner.cc:1115: Starting in XGBoost 1.3.0, the default evaluation metric used with the objective 'binary:logistic' was changed from 'error' to 'logloss'. Explicitly set eval_metric if you'd like to restore the old behavior.\n"
     ]
    },
    {
     "data": {
      "text/html": [
       "<style>#sk-container-id-1 {color: black;background-color: white;}#sk-container-id-1 pre{padding: 0;}#sk-container-id-1 div.sk-toggleable {background-color: white;}#sk-container-id-1 label.sk-toggleable__label {cursor: pointer;display: block;width: 100%;margin-bottom: 0;padding: 0.3em;box-sizing: border-box;text-align: center;}#sk-container-id-1 label.sk-toggleable__label-arrow:before {content: \"▸\";float: left;margin-right: 0.25em;color: #696969;}#sk-container-id-1 label.sk-toggleable__label-arrow:hover:before {color: black;}#sk-container-id-1 div.sk-estimator:hover label.sk-toggleable__label-arrow:before {color: black;}#sk-container-id-1 div.sk-toggleable__content {max-height: 0;max-width: 0;overflow: hidden;text-align: left;background-color: #f0f8ff;}#sk-container-id-1 div.sk-toggleable__content pre {margin: 0.2em;color: black;border-radius: 0.25em;background-color: #f0f8ff;}#sk-container-id-1 input.sk-toggleable__control:checked~div.sk-toggleable__content {max-height: 200px;max-width: 100%;overflow: auto;}#sk-container-id-1 input.sk-toggleable__control:checked~label.sk-toggleable__label-arrow:before {content: \"▾\";}#sk-container-id-1 div.sk-estimator input.sk-toggleable__control:checked~label.sk-toggleable__label {background-color: #d4ebff;}#sk-container-id-1 div.sk-label input.sk-toggleable__control:checked~label.sk-toggleable__label {background-color: #d4ebff;}#sk-container-id-1 input.sk-hidden--visually {border: 0;clip: rect(1px 1px 1px 1px);clip: rect(1px, 1px, 1px, 1px);height: 1px;margin: -1px;overflow: hidden;padding: 0;position: absolute;width: 1px;}#sk-container-id-1 div.sk-estimator {font-family: monospace;background-color: #f0f8ff;border: 1px dotted black;border-radius: 0.25em;box-sizing: border-box;margin-bottom: 0.5em;}#sk-container-id-1 div.sk-estimator:hover {background-color: #d4ebff;}#sk-container-id-1 div.sk-parallel-item::after {content: \"\";width: 100%;border-bottom: 1px solid gray;flex-grow: 1;}#sk-container-id-1 div.sk-label:hover label.sk-toggleable__label {background-color: #d4ebff;}#sk-container-id-1 div.sk-serial::before {content: \"\";position: absolute;border-left: 1px solid gray;box-sizing: border-box;top: 0;bottom: 0;left: 50%;z-index: 0;}#sk-container-id-1 div.sk-serial {display: flex;flex-direction: column;align-items: center;background-color: white;padding-right: 0.2em;padding-left: 0.2em;position: relative;}#sk-container-id-1 div.sk-item {position: relative;z-index: 1;}#sk-container-id-1 div.sk-parallel {display: flex;align-items: stretch;justify-content: center;background-color: white;position: relative;}#sk-container-id-1 div.sk-item::before, #sk-container-id-1 div.sk-parallel-item::before {content: \"\";position: absolute;border-left: 1px solid gray;box-sizing: border-box;top: 0;bottom: 0;left: 50%;z-index: -1;}#sk-container-id-1 div.sk-parallel-item {display: flex;flex-direction: column;z-index: 1;position: relative;background-color: white;}#sk-container-id-1 div.sk-parallel-item:first-child::after {align-self: flex-end;width: 50%;}#sk-container-id-1 div.sk-parallel-item:last-child::after {align-self: flex-start;width: 50%;}#sk-container-id-1 div.sk-parallel-item:only-child::after {width: 0;}#sk-container-id-1 div.sk-dashed-wrapped {border: 1px dashed gray;margin: 0 0.4em 0.5em 0.4em;box-sizing: border-box;padding-bottom: 0.4em;background-color: white;}#sk-container-id-1 div.sk-label label {font-family: monospace;font-weight: bold;display: inline-block;line-height: 1.2em;}#sk-container-id-1 div.sk-label-container {text-align: center;}#sk-container-id-1 div.sk-container {/* jupyter's `normalize.less` sets `[hidden] { display: none; }` but bootstrap.min.css set `[hidden] { display: none !important; }` so we also need the `!important` here to be able to override the default hidden behavior on the sphinx rendered scikit-learn.org. See: https://github.com/scikit-learn/scikit-learn/issues/21755 */display: inline-block !important;position: relative;}#sk-container-id-1 div.sk-text-repr-fallback {display: none;}</style><div id=\"sk-container-id-1\" class=\"sk-top-container\"><div class=\"sk-text-repr-fallback\"><pre>XGBClassifier(base_score=0.5, booster=&#x27;gbtree&#x27;, colsample_bylevel=1,\n",
       "              colsample_bynode=1, colsample_bytree=0.8,\n",
       "              enable_categorical=False, eta=0.01, gamma=0, gpu_id=-1,\n",
       "              importance_type=None, interaction_constraints=&#x27;&#x27;,\n",
       "              learning_rate=0.00999999978, max_delta_step=0, max_depth=8,\n",
       "              min_child_weight=1, missing=nan, monotone_constraints=&#x27;()&#x27;,\n",
       "              n_estimators=200, n_jobs=8, num_parallel_tree=1, predictor=&#x27;auto&#x27;,\n",
       "              random_state=47, reg_alpha=0, reg_lambda=1, scale_pos_weight=1,\n",
       "              seed=47, subsample=1, tree_method=&#x27;exact&#x27;,\n",
       "              use_label_encoder=False, validate_parameters=1, ...)</pre><b>In a Jupyter environment, please rerun this cell to show the HTML representation or trust the notebook. <br />On GitHub, the HTML representation is unable to render, please try loading this page with nbviewer.org.</b></div><div class=\"sk-container\" hidden><div class=\"sk-item\"><div class=\"sk-estimator sk-toggleable\"><input class=\"sk-toggleable__control sk-hidden--visually\" id=\"sk-estimator-id-1\" type=\"checkbox\" checked><label for=\"sk-estimator-id-1\" class=\"sk-toggleable__label sk-toggleable__label-arrow\">XGBClassifier</label><div class=\"sk-toggleable__content\"><pre>XGBClassifier(base_score=0.5, booster=&#x27;gbtree&#x27;, colsample_bylevel=1,\n",
       "              colsample_bynode=1, colsample_bytree=0.8,\n",
       "              enable_categorical=False, eta=0.01, gamma=0, gpu_id=-1,\n",
       "              importance_type=None, interaction_constraints=&#x27;&#x27;,\n",
       "              learning_rate=0.00999999978, max_delta_step=0, max_depth=8,\n",
       "              min_child_weight=1, missing=nan, monotone_constraints=&#x27;()&#x27;,\n",
       "              n_estimators=200, n_jobs=8, num_parallel_tree=1, predictor=&#x27;auto&#x27;,\n",
       "              random_state=47, reg_alpha=0, reg_lambda=1, scale_pos_weight=1,\n",
       "              seed=47, subsample=1, tree_method=&#x27;exact&#x27;,\n",
       "              use_label_encoder=False, validate_parameters=1, ...)</pre></div></div></div></div></div>"
      ],
      "text/plain": [
       "XGBClassifier(base_score=0.5, booster='gbtree', colsample_bylevel=1,\n",
       "              colsample_bynode=1, colsample_bytree=0.8,\n",
       "              enable_categorical=False, eta=0.01, gamma=0, gpu_id=-1,\n",
       "              importance_type=None, interaction_constraints='',\n",
       "              learning_rate=0.00999999978, max_delta_step=0, max_depth=8,\n",
       "              min_child_weight=1, missing=nan, monotone_constraints='()',\n",
       "              n_estimators=200, n_jobs=8, num_parallel_tree=1, predictor='auto',\n",
       "              random_state=47, reg_alpha=0, reg_lambda=1, scale_pos_weight=1,\n",
       "              seed=47, subsample=1, tree_method='exact',\n",
       "              use_label_encoder=False, validate_parameters=1, ...)"
      ]
     },
     "execution_count": 55,
     "metadata": {},
     "output_type": "execute_result"
    }
   ],
   "source": [
    "xgb_clf.fit(X_train_dummies, y_train, verbose=True)"
   ]
  },
  {
   "cell_type": "code",
   "execution_count": 56,
   "id": "b486983c",
   "metadata": {
    "ExecuteTime": {
     "end_time": "2022-08-16T19:12:34.203208Z",
     "start_time": "2022-08-16T19:12:34.179193Z"
    }
   },
   "outputs": [
    {
     "data": {
      "text/plain": [
       "0.8708699262950275"
      ]
     },
     "execution_count": 56,
     "metadata": {},
     "output_type": "execute_result"
    }
   ],
   "source": [
    "y_pred_probs = xgb_clf.predict_proba(X_train_dummies)[:,1]\n",
    "roc_auc_score(y_train.values, y_pred_probs)"
   ]
  },
  {
   "cell_type": "code",
   "execution_count": 57,
   "id": "1341497b",
   "metadata": {
    "ExecuteTime": {
     "end_time": "2022-08-16T19:12:34.584478Z",
     "start_time": "2022-08-16T19:12:34.205209Z"
    }
   },
   "outputs": [
    {
     "data": {
      "image/png": "[encoded data removed]",
      "text/plain": [
       "<Figure size 576x864 with 1 Axes>"
      ]
     },
     "metadata": {
      "needs_background": "light"
     },
     "output_type": "display_data"
    }
   ],
   "source": [
    "df_feature_imp = pd.DataFrame(X_train_dummies.columns,columns=['feature'])\n",
    "df_feature_imp['importance'] = xgb_clf.feature_importances_\n",
    "df_feature_imp.sort_values(by='importance', ascending=False, inplace=True)\n",
    "df_featture_imp_top = df_feature_imp.head(20)\n",
    "\n",
    "fig, ax = plt.subplots(figsize=(8,12))\n",
    "sns.barplot(x ='importance', y='feature', data = df_featture_imp_top)\n",
    "plt.title('Feature Importance - Top 20')\n",
    "plt.show()"
   ]
  }
 ],
 "metadata": {
  "kernelspec": {
   "display_name": "Python 3 (ipykernel)",
   "language": "python",
   "name": "python3"
  },
  "language_info": {
   "codemirror_mode": {
    "name": "ipython",
    "version": 3
   },
   "file_extension": ".py",
   "mimetype": "text/x-python",
   "name": "python",
   "nbconvert_exporter": "python",
   "pygments_lexer": "ipython3",
   "version": "3.9.12"
  }
 },
 "nbformat": 4,
 "nbformat_minor": 5
}
