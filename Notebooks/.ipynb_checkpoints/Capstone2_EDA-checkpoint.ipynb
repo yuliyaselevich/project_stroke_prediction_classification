{
 "cells": [
  {
   "cell_type": "markdown",
   "id": "c1c37e6f",
   "metadata": {},
   "source": [
    "## Exploratory Data Analysis"
   ]
  },
  {
   "cell_type": "code",
   "execution_count": 1,
   "id": "46981ab8",
   "metadata": {
    "ExecuteTime": {
     "end_time": "2022-08-19T15:46:25.527730Z",
     "start_time": "2022-08-19T15:46:23.282796Z"
    }
   },
   "outputs": [],
   "source": [
    "import numpy as np \n",
    "import pandas as pd\n",
    "import matplotlib.pyplot as plt\n",
    "import seaborn as sns\n",
    "import os\n",
    "data_adult=pd.read_csv('C:/Users/Julia/Documents/_DATA SCIENCE/_Capstones/Capstone 2/Data/Data_adult.csv',index_col=0)\n",
    "sns.set(style='ticks')\n",
    "%matplotlib inline "
   ]
  },
  {
   "cell_type": "code",
   "execution_count": 2,
   "id": "1f8e4f8e",
   "metadata": {
    "ExecuteTime": {
     "end_time": "2022-08-19T15:46:25.535948Z",
     "start_time": "2022-08-19T15:46:25.527730Z"
    }
   },
   "outputs": [],
   "source": [
    "import warnings\n",
    "warnings.filterwarnings('ignore', category=UserWarning, append=True)\n",
    "warnings.filterwarnings('ignore', category=RuntimeWarning, append=True)\n",
    "warnings.filterwarnings('ignore', category=FutureWarning, append=True)\n",
    "warnings.filterwarnings('ignore',category=pd.io.pytables.PerformanceWarning)"
   ]
  },
  {
   "cell_type": "code",
   "execution_count": 3,
   "id": "b3807950",
   "metadata": {
    "ExecuteTime": {
     "end_time": "2022-08-19T15:46:25.568971Z",
     "start_time": "2022-08-19T15:46:25.538949Z"
    }
   },
   "outputs": [
    {
     "name": "stdout",
     "output_type": "stream",
     "text": [
      "<class 'pandas.core.frame.DataFrame'>\n",
      "Int64Index: 4313 entries, 0 to 4313\n",
      "Data columns (total 11 columns):\n",
      " #   Column             Non-Null Count  Dtype  \n",
      "---  ------             --------------  -----  \n",
      " 0   gender             4313 non-null   object \n",
      " 1   age                4313 non-null   float64\n",
      " 2   hypertension       4313 non-null   int64  \n",
      " 3   heart_disease      4313 non-null   int64  \n",
      " 4   ever_married       4313 non-null   object \n",
      " 5   work_type          4313 non-null   object \n",
      " 6   Residence_type     4313 non-null   object \n",
      " 7   avg_glucose_level  4313 non-null   float64\n",
      " 8   bmi                4130 non-null   float64\n",
      " 9   smoking_status     4313 non-null   object \n",
      " 10  stroke             4313 non-null   int64  \n",
      "dtypes: float64(3), int64(3), object(5)\n",
      "memory usage: 404.3+ KB\n"
     ]
    }
   ],
   "source": [
    "data_adult.info()"
   ]
  },
  {
   "cell_type": "markdown",
   "id": "41f46b98",
   "metadata": {},
   "source": [
    "## Target feature:\n",
    "### Since the goal of this project is to predict occurence of stroke, target feature is 'stroke'. It has 2 values: 1 - when a patient had a stroke, and 0  - when a patient did not have a stroke."
   ]
  },
  {
   "cell_type": "code",
   "execution_count": 4,
   "id": "cf5b2257",
   "metadata": {
    "ExecuteTime": {
     "end_time": "2022-08-19T15:46:25.581980Z",
     "start_time": "2022-08-19T15:46:25.570972Z"
    }
   },
   "outputs": [
    {
     "data": {
      "text/plain": [
       "0    94.273128\n",
       "1     5.726872\n",
       "Name: stroke, dtype: float64"
      ]
     },
     "execution_count": 4,
     "metadata": {},
     "output_type": "execute_result"
    }
   ],
   "source": [
    "data_adult['stroke'].value_counts(normalize=True)*100"
   ]
  },
  {
   "cell_type": "code",
   "execution_count": 5,
   "id": "29751985",
   "metadata": {
    "ExecuteTime": {
     "end_time": "2022-08-19T15:46:25.754101Z",
     "start_time": "2022-08-19T15:46:25.584981Z"
    }
   },
   "outputs": [
    {
     "data": {
      "image/png": "[encoded data removed]",
      "text/plain": [
       "<Figure size 432x288 with 1 Axes>"
      ]
     },
     "metadata": {
      "needs_background": "light"
     },
     "output_type": "display_data"
    }
   ],
   "source": [
    "sns.countplot(data_adult['stroke'])\n",
    "plt.title('Distribution of classes in target feature');"
   ]
  },
  {
   "cell_type": "markdown",
   "id": "1c43e86a",
   "metadata": {},
   "source": [
    "### It is obvious that target feature is highly imbalanced with only ~ 5.72 % of samples having a value of 1. This is a major issue and may require application of specialized feature engineering techniques as well as careful model selection and it may affect a perfomance of a selected model. "
   ]
  },
  {
   "cell_type": "code",
   "execution_count": 6,
   "id": "8aa7ba41",
   "metadata": {
    "ExecuteTime": {
     "end_time": "2022-08-19T15:46:25.769111Z",
     "start_time": "2022-08-19T15:46:25.756105Z"
    }
   },
   "outputs": [
    {
     "data": {
      "text/plain": [
       "gender               False\n",
       "age                  False\n",
       "hypertension         False\n",
       "heart_disease        False\n",
       "ever_married         False\n",
       "work_type            False\n",
       "Residence_type       False\n",
       "avg_glucose_level    False\n",
       "bmi                   True\n",
       "smoking_status       False\n",
       "stroke               False\n",
       "dtype: bool"
      ]
     },
     "execution_count": 6,
     "metadata": {},
     "output_type": "execute_result"
    }
   ],
   "source": [
    "data_adult.isna().any()"
   ]
  },
  {
   "cell_type": "markdown",
   "id": "b50045d0",
   "metadata": {},
   "source": [
    "### 'bmi' feature is the only one that has missing values"
   ]
  },
  {
   "cell_type": "code",
   "execution_count": 7,
   "id": "db9c590d",
   "metadata": {
    "ExecuteTime": {
     "end_time": "2022-08-19T15:46:25.782120Z",
     "start_time": "2022-08-19T15:46:25.771113Z"
    }
   },
   "outputs": [
    {
     "data": {
      "text/plain": [
       "183"
      ]
     },
     "execution_count": 7,
     "metadata": {},
     "output_type": "execute_result"
    }
   ],
   "source": [
    "data_adult['bmi'].isna().sum()"
   ]
  },
  {
   "cell_type": "code",
   "execution_count": 8,
   "id": "55332ca3",
   "metadata": {
    "ExecuteTime": {
     "end_time": "2022-08-19T15:46:25.792128Z",
     "start_time": "2022-08-19T15:46:25.785123Z"
    }
   },
   "outputs": [
    {
     "name": "stdout",
     "output_type": "stream",
     "text": [
      "Percentage of missing values in \"bmi\" feature: 4.24\n"
     ]
    }
   ],
   "source": [
    "percent_missing = data_adult['bmi'].isnull().sum() * 100 / len(data_adult)\n",
    "print('Percentage of missing values in \"bmi\" feature:', round(percent_missing,2))"
   ]
  },
  {
   "cell_type": "code",
   "execution_count": 9,
   "id": "458451e3",
   "metadata": {
    "ExecuteTime": {
     "end_time": "2022-08-19T15:46:25.816145Z",
     "start_time": "2022-08-19T15:46:25.795131Z"
    }
   },
   "outputs": [
    {
     "data": {
      "text/plain": [
       "0    94.96368\n",
       "1     5.03632\n",
       "Name: stroke, dtype: float64"
      ]
     },
     "execution_count": 9,
     "metadata": {},
     "output_type": "execute_result"
    }
   ],
   "source": [
    "no_na = data_adult.dropna(subset=\"bmi\")\n",
    "no_na['stroke'].value_counts(normalize=True)*100"
   ]
  },
  {
   "cell_type": "markdown",
   "id": "71a46daf",
   "metadata": {},
   "source": [
    "### Even though percentage of missing values in a dataset is relatively small, it is not a good idea to simply drop rows with missing values, as this will make target feature even more imbalanced."
   ]
  },
  {
   "cell_type": "code",
   "execution_count": 10,
   "id": "4a1936a0",
   "metadata": {
    "ExecuteTime": {
     "end_time": "2022-08-19T15:46:25.995273Z",
     "start_time": "2022-08-19T15:46:25.819147Z"
    }
   },
   "outputs": [
    {
     "data": {
      "image/png": "[encoded data removed]",
      "text/plain": [
       "<Figure size 432x288 with 1 Axes>"
      ]
     },
     "metadata": {
      "needs_background": "light"
     },
     "output_type": "display_data"
    }
   ],
   "source": [
    "data_adult['bmi'].hist()\n",
    "plt.title('Distribution of BMI values')\n",
    "plt.xlabel('BMI')\n",
    "plt.ylabel('Count');"
   ]
  },
  {
   "cell_type": "markdown",
   "id": "7b4bdf10",
   "metadata": {},
   "source": [
    "### Distribution of 'bmi' values is skewed, meaning that we cannot impute missing values with the mean."
   ]
  },
  {
   "cell_type": "code",
   "execution_count": 11,
   "id": "509399fe",
   "metadata": {
    "ExecuteTime": {
     "end_time": "2022-08-19T15:46:26.120360Z",
     "start_time": "2022-08-19T15:46:25.997275Z"
    }
   },
   "outputs": [
    {
     "data": {
      "image/png": "[encoded data removed]",
      "text/plain": [
       "<Figure size 432x288 with 1 Axes>"
      ]
     },
     "metadata": {
      "needs_background": "light"
     },
     "output_type": "display_data"
    }
   ],
   "source": [
    "sns.boxplot(x=\"stroke\", y=\"bmi\", data=data_adult)\n",
    "plt.title('Relationship of bmi and stroke');"
   ]
  },
  {
   "cell_type": "markdown",
   "id": "fdb52db5",
   "metadata": {},
   "source": [
    "### Since 'bmi' feature is scewed, the relationship between 'bmi' and target value is not clear. I think it would make sense to divide 'bmi' values into following categories:\n",
    "* below 18.5 – underweight\n",
    "* between 18.5 and 24.9 – healthy weight\n",
    "* between 25 and 29.9 – overweight\n",
    "* between 30 and 39.9 – obesity"
   ]
  },
  {
   "cell_type": "code",
   "execution_count": 12,
   "id": "d4ed74ab",
   "metadata": {
    "ExecuteTime": {
     "end_time": "2022-08-19T15:46:27.144350Z",
     "start_time": "2022-08-19T15:46:26.123363Z"
    }
   },
   "outputs": [],
   "source": [
    "for val in data_adult['bmi']:\n",
    "    if val < 18.5:\n",
    "        data_adult['bmi'].replace(to_replace=val, value='underweight', inplace=True)\n",
    "    elif val >= 18.5 and val <= 24.9:\n",
    "        data_adult['bmi'].replace(to_replace=val, value='normal', inplace=True)\n",
    "    elif val >= 25 and val <= 29.9:\n",
    "        data_adult['bmi'].replace(to_replace=val, value='overweight', inplace=True)\n",
    "    elif val >= 30:\n",
    "        data_adult['bmi'].replace(to_replace=val, value='obesity', inplace=True)"
   ]
  },
  {
   "cell_type": "code",
   "execution_count": 13,
   "id": "2ef04d1a",
   "metadata": {
    "ExecuteTime": {
     "end_time": "2022-08-19T15:46:27.153305Z",
     "start_time": "2022-08-19T15:46:27.147299Z"
    }
   },
   "outputs": [
    {
     "data": {
      "text/plain": [
       "array(['obesity', nan, 'normal', 'overweight', 'underweight'],\n",
       "      dtype=object)"
      ]
     },
     "execution_count": 13,
     "metadata": {},
     "output_type": "execute_result"
    }
   ],
   "source": [
    "data_adult['bmi'].unique()"
   ]
  },
  {
   "cell_type": "code",
   "execution_count": 14,
   "id": "17c6b1a0",
   "metadata": {
    "ExecuteTime": {
     "end_time": "2022-08-19T15:46:27.436504Z",
     "start_time": "2022-08-19T15:46:27.160309Z"
    }
   },
   "outputs": [
    {
     "data": {
      "image/png": "[encoded data removed]",
      "text/plain": [
       "<Figure size 432x288 with 1 Axes>"
      ]
     },
     "metadata": {
      "needs_background": "light"
     },
     "output_type": "display_data"
    }
   ],
   "source": [
    "sns.barplot(x='bmi',y='stroke',data=data_adult, order=[\"underweight\", \"normal\",\"overweight\",\"obesity\"])\n",
    "plt.title('Comparison of stroke occurence based on bmi category');"
   ]
  },
  {
   "cell_type": "markdown",
   "id": "e81462c5",
   "metadata": {},
   "source": [
    "### Plot above clearly shows that 'bmi' categories 'overweight' and 'obesity' have higher occurence of value 1 in the target feature."
   ]
  },
  {
   "cell_type": "markdown",
   "id": "8e03aa41",
   "metadata": {},
   "source": [
    "### Continuous variables"
   ]
  },
  {
   "cell_type": "code",
   "execution_count": 15,
   "id": "ac939ff7",
   "metadata": {
    "ExecuteTime": {
     "end_time": "2022-08-19T15:46:27.457518Z",
     "start_time": "2022-08-19T15:46:27.438506Z"
    }
   },
   "outputs": [
    {
     "data": {
      "text/html": [
       "<div>\n",
       "<style scoped>\n",
       "    .dataframe tbody tr th:only-of-type {\n",
       "        vertical-align: middle;\n",
       "    }\n",
       "\n",
       "    .dataframe tbody tr th {\n",
       "        vertical-align: top;\n",
       "    }\n",
       "\n",
       "    .dataframe thead th {\n",
       "        text-align: right;\n",
       "    }\n",
       "</style>\n",
       "<table border=\"1\" class=\"dataframe\">\n",
       "  <thead>\n",
       "    <tr style=\"text-align: right;\">\n",
       "      <th></th>\n",
       "      <th>age</th>\n",
       "      <th>avg_glucose_level</th>\n",
       "    </tr>\n",
       "  </thead>\n",
       "  <tbody>\n",
       "    <tr>\n",
       "      <th>count</th>\n",
       "      <td>4313.000000</td>\n",
       "      <td>4313.000000</td>\n",
       "    </tr>\n",
       "    <tr>\n",
       "      <th>mean</th>\n",
       "      <td>49.745885</td>\n",
       "      <td>108.226388</td>\n",
       "    </tr>\n",
       "    <tr>\n",
       "      <th>std</th>\n",
       "      <td>18.125129</td>\n",
       "      <td>47.568050</td>\n",
       "    </tr>\n",
       "    <tr>\n",
       "      <th>min</th>\n",
       "      <td>17.000000</td>\n",
       "      <td>55.120000</td>\n",
       "    </tr>\n",
       "    <tr>\n",
       "      <th>25%</th>\n",
       "      <td>35.000000</td>\n",
       "      <td>77.450000</td>\n",
       "    </tr>\n",
       "    <tr>\n",
       "      <th>50%</th>\n",
       "      <td>50.000000</td>\n",
       "      <td>92.270000</td>\n",
       "    </tr>\n",
       "    <tr>\n",
       "      <th>75%</th>\n",
       "      <td>64.000000</td>\n",
       "      <td>115.920000</td>\n",
       "    </tr>\n",
       "    <tr>\n",
       "      <th>max</th>\n",
       "      <td>82.000000</td>\n",
       "      <td>271.740000</td>\n",
       "    </tr>\n",
       "  </tbody>\n",
       "</table>\n",
       "</div>"
      ],
      "text/plain": [
       "               age  avg_glucose_level\n",
       "count  4313.000000        4313.000000\n",
       "mean     49.745885         108.226388\n",
       "std      18.125129          47.568050\n",
       "min      17.000000          55.120000\n",
       "25%      35.000000          77.450000\n",
       "50%      50.000000          92.270000\n",
       "75%      64.000000         115.920000\n",
       "max      82.000000         271.740000"
      ]
     },
     "execution_count": 15,
     "metadata": {},
     "output_type": "execute_result"
    }
   ],
   "source": [
    "data_adult.describe(include='float64')"
   ]
  },
  {
   "cell_type": "code",
   "execution_count": 16,
   "id": "f2337c23",
   "metadata": {
    "ExecuteTime": {
     "end_time": "2022-08-19T15:46:27.605644Z",
     "start_time": "2022-08-19T15:46:27.459519Z"
    }
   },
   "outputs": [
    {
     "data": {
      "image/png": "[encoded data removed]",
      "text/plain": [
       "<Figure size 360x360 with 1 Axes>"
      ]
     },
     "metadata": {
      "needs_background": "light"
     },
     "output_type": "display_data"
    }
   ],
   "source": [
    "data_adult['age'].hist(figsize=(5,5))\n",
    "plt.title('Distribution of age');"
   ]
  },
  {
   "cell_type": "code",
   "execution_count": 17,
   "id": "0206f9b6",
   "metadata": {
    "ExecuteTime": {
     "end_time": "2022-08-19T15:46:27.741720Z",
     "start_time": "2022-08-19T15:46:27.607626Z"
    }
   },
   "outputs": [
    {
     "data": {
      "image/png": "[encoded data removed]",
      "text/plain": [
       "<Figure size 432x288 with 1 Axes>"
      ]
     },
     "metadata": {
      "needs_background": "light"
     },
     "output_type": "display_data"
    }
   ],
   "source": [
    "count, bins_count = np.histogram(data_adult['age'], bins=10)\n",
    "pdf = count / sum(count)\n",
    "cdf = np.cumsum(pdf)\n",
    "plt.plot(bins_count[1:], pdf, color=\"red\", label=\"PDF\")\n",
    "plt.plot(bins_count[1:], cdf, label=\"CDF\")\n",
    "plt.legend();"
   ]
  },
  {
   "cell_type": "markdown",
   "id": "4694e209",
   "metadata": {},
   "source": [
    "### 'age' feature has uniform distribution."
   ]
  },
  {
   "cell_type": "code",
   "execution_count": 18,
   "id": "06f3717b",
   "metadata": {
    "ExecuteTime": {
     "end_time": "2022-08-19T15:46:27.863805Z",
     "start_time": "2022-08-19T15:46:27.743721Z"
    }
   },
   "outputs": [
    {
     "data": {
      "image/png": "[encoded data removed]",
      "text/plain": [
       "<Figure size 432x288 with 1 Axes>"
      ]
     },
     "metadata": {
      "needs_background": "light"
     },
     "output_type": "display_data"
    }
   ],
   "source": [
    "sns.boxplot(x='stroke', y='age', data=data_adult)\n",
    "plt.title('Relationship of age and stroke');"
   ]
  },
  {
   "cell_type": "code",
   "execution_count": 19,
   "id": "d3a68b36",
   "metadata": {
    "ExecuteTime": {
     "end_time": "2022-08-19T15:46:27.872812Z",
     "start_time": "2022-08-19T15:46:27.865809Z"
    }
   },
   "outputs": [],
   "source": [
    "data_adult['age_bin'] = pd.cut(data_adult['age'],\n",
    "                         [0, 18, 30, 45, 60, 80, 99])"
   ]
  },
  {
   "cell_type": "code",
   "execution_count": 20,
   "id": "d56ca6b2",
   "metadata": {
    "ExecuteTime": {
     "end_time": "2022-08-19T15:46:27.883821Z",
     "start_time": "2022-08-19T15:46:27.874814Z"
    }
   },
   "outputs": [],
   "source": [
    "data_adult = data_adult.drop(columns=['age'])"
   ]
  },
  {
   "cell_type": "code",
   "execution_count": 21,
   "id": "f35adfb4",
   "metadata": {
    "ExecuteTime": {
     "end_time": "2022-08-19T15:46:28.223072Z",
     "start_time": "2022-08-19T15:46:27.886822Z"
    }
   },
   "outputs": [
    {
     "data": {
      "image/png": "[encoded data removed]",
      "text/plain": [
       "<Figure size 432x288 with 1 Axes>"
      ]
     },
     "metadata": {
      "needs_background": "light"
     },
     "output_type": "display_data"
    }
   ],
   "source": [
    "sns.barplot(x='age_bin', y='stroke', data=data_adult)\n",
    "plt.title('Relationship of age category and stroke');"
   ]
  },
  {
   "cell_type": "markdown",
   "id": "d200ad9a",
   "metadata": {},
   "source": [
    "### The stroke occurs more often in people of higher age."
   ]
  },
  {
   "cell_type": "code",
   "execution_count": 22,
   "id": "2faf2367",
   "metadata": {
    "ExecuteTime": {
     "end_time": "2022-08-19T15:46:28.440214Z",
     "start_time": "2022-08-19T15:46:28.225062Z"
    }
   },
   "outputs": [
    {
     "data": {
      "image/png": "[encoded data removed]",
      "text/plain": [
       "<Figure size 360x360 with 1 Axes>"
      ]
     },
     "metadata": {
      "needs_background": "light"
     },
     "output_type": "display_data"
    }
   ],
   "source": [
    "data_adult['avg_glucose_level'].hist(figsize=(5,5))\n",
    "plt.title('Distribution of values of avg_glucose_level feature');"
   ]
  },
  {
   "cell_type": "code",
   "execution_count": 23,
   "id": "0ee549f9",
   "metadata": {
    "ExecuteTime": {
     "end_time": "2022-08-19T15:46:28.552292Z",
     "start_time": "2022-08-19T15:46:28.442217Z"
    }
   },
   "outputs": [
    {
     "data": {
      "image/png": "[encoded data removed]",
      "text/plain": [
       "<Figure size 432x288 with 1 Axes>"
      ]
     },
     "metadata": {
      "needs_background": "light"
     },
     "output_type": "display_data"
    }
   ],
   "source": [
    "sns.boxplot(x='stroke', y='avg_glucose_level', data=data_adult)\n",
    "plt.title('Relationship of avg_glucose_level and stroke');"
   ]
  },
  {
   "cell_type": "code",
   "execution_count": 24,
   "id": "30776a0e",
   "metadata": {
    "ExecuteTime": {
     "end_time": "2022-08-19T15:46:29.973539Z",
     "start_time": "2022-08-19T15:46:28.554294Z"
    }
   },
   "outputs": [],
   "source": [
    "for val in data_adult['avg_glucose_level']:\n",
    "    if val < 140:\n",
    "        data_adult['avg_glucose_level'].replace(to_replace=val, value='normal', inplace=True)\n",
    "    elif val >= 140 and val < 200:\n",
    "        data_adult['avg_glucose_level'].replace(to_replace=val, value='prediabetes', inplace=True)\n",
    "    elif val >= 200:\n",
    "        data_adult['avg_glucose_level'].replace(to_replace=val, value='diabetes', inplace=True)"
   ]
  },
  {
   "cell_type": "code",
   "execution_count": 25,
   "id": "7811fbc7",
   "metadata": {
    "ExecuteTime": {
     "end_time": "2022-08-19T15:46:29.979541Z",
     "start_time": "2022-08-19T15:46:29.975536Z"
    }
   },
   "outputs": [],
   "source": [
    "data_adult.rename(columns = {'avg_glucose_level':'glucose_levels'}, inplace=True)"
   ]
  },
  {
   "cell_type": "code",
   "execution_count": 26,
   "id": "77b7fec9",
   "metadata": {
    "ExecuteTime": {
     "end_time": "2022-08-19T15:46:30.306772Z",
     "start_time": "2022-08-19T15:46:29.982543Z"
    }
   },
   "outputs": [
    {
     "data": {
      "image/png": "[encoded data removed]",
      "text/plain": [
       "<Figure size 432x288 with 1 Axes>"
      ]
     },
     "metadata": {
      "needs_background": "light"
     },
     "output_type": "display_data"
    }
   ],
   "source": [
    "sns.barplot(x='glucose_levels',y='stroke',data=data_adult, order=[\"normal\", \"prediabetes\",\"diabetes\"])\n",
    "plt.title('Relationship of glucose_level categories and stroke');"
   ]
  },
  {
   "cell_type": "markdown",
   "id": "ae5d5194",
   "metadata": {},
   "source": [
    "### Demographic features: gender,age"
   ]
  },
  {
   "cell_type": "code",
   "execution_count": 27,
   "id": "36547791",
   "metadata": {
    "ExecuteTime": {
     "end_time": "2022-08-19T15:46:30.531932Z",
     "start_time": "2022-08-19T15:46:30.309774Z"
    }
   },
   "outputs": [
    {
     "data": {
      "image/png": "[encoded data removed]",
      "text/plain": [
       "<Figure size 432x288 with 1 Axes>"
      ]
     },
     "metadata": {
      "needs_background": "light"
     },
     "output_type": "display_data"
    }
   ],
   "source": [
    "#fig, axes = plt.subplots(1,2,figsize=(10, 7))\n",
    "sns.barplot(x='gender',y='stroke',data=data_adult)#ax=axes[0]\n",
    "plt.title('Relationship of gender and stroke');"
   ]
  },
  {
   "cell_type": "markdown",
   "id": "bfac841b",
   "metadata": {},
   "source": [
    "### Hypertension"
   ]
  },
  {
   "cell_type": "code",
   "execution_count": 28,
   "id": "f2298ce0",
   "metadata": {
    "ExecuteTime": {
     "end_time": "2022-08-19T15:46:30.962235Z",
     "start_time": "2022-08-19T15:46:30.533933Z"
    }
   },
   "outputs": [
    {
     "data": {
      "image/png": "[encoded data removed]",
      "text/plain": [
       "<Figure size 720x504 with 2 Axes>"
      ]
     },
     "metadata": {
      "needs_background": "light"
     },
     "output_type": "display_data"
    }
   ],
   "source": [
    "fig, axes = plt.subplots(1,2,figsize=(10, 7))\n",
    "sns.barplot(ax=axes[0], x='hypertension',y='stroke',data=data_adult);\n",
    "sns.barplot(ax=axes[1], x='heart_disease',y='stroke',data=data_adult);\n",
    "fig.suptitle('Relationship of heart_disease and hypertension and stroke');"
   ]
  },
  {
   "cell_type": "markdown",
   "id": "aaf5eab0",
   "metadata": {},
   "source": [
    "### Stress"
   ]
  },
  {
   "cell_type": "code",
   "execution_count": 29,
   "id": "904bb719",
   "metadata": {
    "ExecuteTime": {
     "end_time": "2022-08-19T15:46:31.663973Z",
     "start_time": "2022-08-19T15:46:30.964238Z"
    }
   },
   "outputs": [
    {
     "data": {
      "image/png": "[encoded data removed]",
      "text/plain": [
       "<Figure size 1080x504 with 3 Axes>"
      ]
     },
     "metadata": {
      "needs_background": "light"
     },
     "output_type": "display_data"
    }
   ],
   "source": [
    "fig, axes = plt.subplots(1,3,figsize=(15, 7))\n",
    "sns.barplot(ax=axes[0], x='ever_married',y='stroke',data=data_adult)\n",
    "sns.barplot(ax=axes[1], x='work_type',y='stroke',data=data_adult)\n",
    "sns.barplot(ax=axes[2], x='Residence_type',y='stroke',data=data_adult);"
   ]
  },
  {
   "cell_type": "code",
   "execution_count": 30,
   "id": "a23390c3",
   "metadata": {
    "ExecuteTime": {
     "end_time": "2022-08-19T15:46:31.945105Z",
     "start_time": "2022-08-19T15:46:31.666979Z"
    }
   },
   "outputs": [
    {
     "data": {
      "image/png": "[encoded data removed]",
      "text/plain": [
       "<Figure size 432x288 with 1 Axes>"
      ]
     },
     "metadata": {
      "needs_background": "light"
     },
     "output_type": "display_data"
    }
   ],
   "source": [
    "sns.barplot(x='ever_married',y='stroke',data=data_adult)\n",
    "plt.title('Relationship of marriage status and stroke');"
   ]
  },
  {
   "cell_type": "code",
   "execution_count": 31,
   "id": "f3bbfbf1",
   "metadata": {
    "ExecuteTime": {
     "end_time": "2022-08-19T15:46:32.256311Z",
     "start_time": "2022-08-19T15:46:31.951096Z"
    }
   },
   "outputs": [
    {
     "data": {
      "image/png": "[encoded data removed]",
      "text/plain": [
       "<Figure size 432x288 with 1 Axes>"
      ]
     },
     "metadata": {
      "needs_background": "light"
     },
     "output_type": "display_data"
    }
   ],
   "source": [
    "sns.barplot(x='work_type',y='stroke',data=data_adult)\n",
    "plt.title('Relationship of work type and stroke');"
   ]
  },
  {
   "cell_type": "code",
   "execution_count": 32,
   "id": "84f993d1",
   "metadata": {
    "ExecuteTime": {
     "end_time": "2022-08-19T15:46:32.464463Z",
     "start_time": "2022-08-19T15:46:32.258313Z"
    }
   },
   "outputs": [
    {
     "data": {
      "image/png": "[encoded data removed]",
      "text/plain": [
       "<Figure size 432x288 with 1 Axes>"
      ]
     },
     "metadata": {
      "needs_background": "light"
     },
     "output_type": "display_data"
    }
   ],
   "source": [
    "sns.barplot(x='Residence_type',y='stroke',data=data_adult)\n",
    "plt.title('Relationship of residence type and stroke');"
   ]
  },
  {
   "cell_type": "markdown",
   "id": "1465f147",
   "metadata": {},
   "source": [
    "### Smoking status"
   ]
  },
  {
   "cell_type": "code",
   "execution_count": 33,
   "id": "f5b3d8f4",
   "metadata": {
    "ExecuteTime": {
     "end_time": "2022-08-19T15:46:32.759669Z",
     "start_time": "2022-08-19T15:46:32.470465Z"
    }
   },
   "outputs": [
    {
     "data": {
      "image/png": "[encoded data removed]",
      "text/plain": [
       "<Figure size 432x288 with 1 Axes>"
      ]
     },
     "metadata": {
      "needs_background": "light"
     },
     "output_type": "display_data"
    }
   ],
   "source": [
    "sns.barplot(x='smoking_status',y='stroke',data=data_adult)\n",
    "plt.title('Relationship of smoking status and stroke');"
   ]
  },
  {
   "cell_type": "markdown",
   "id": "fdd57198",
   "metadata": {},
   "source": [
    "## Inferential statistics"
   ]
  },
  {
   "cell_type": "markdown",
   "id": "2f9d4986",
   "metadata": {},
   "source": [
    "### Cramer’s V can be used to calculate the correlation between nominal categorical variables."
   ]
  },
  {
   "cell_type": "code",
   "execution_count": 34,
   "id": "df456b61",
   "metadata": {
    "ExecuteTime": {
     "end_time": "2022-08-19T15:46:33.425004Z",
     "start_time": "2022-08-19T15:46:32.761671Z"
    }
   },
   "outputs": [],
   "source": [
    "# Import association_metrics  \n",
    "import association_metrics as am\n",
    "# Convert you str columns to Category columns\n",
    "df = data_adult.apply(\n",
    "        lambda x: x.astype(\"category\")) ##if x.dtype == \"O\" else x)\n",
    "#df['bmi'] = df['bmi'].astype('object')\n",
    "#df.bmi = df.bmi.fillna('unknown')\n",
    "# Initialize a CamresV object using you pandas.DataFrame\n",
    "cramersv = am.CramersV(df) \n",
    "# will return a pairwise matrix filled with Cramer's V, where columns and index are \n",
    "# the categorical variables of the passed pandas.DataFrame\n",
    "res = cramersv.fit()"
   ]
  },
  {
   "cell_type": "code",
   "execution_count": 35,
   "id": "93a9a66d",
   "metadata": {
    "ExecuteTime": {
     "end_time": "2022-08-19T15:46:33.444268Z",
     "start_time": "2022-08-19T15:46:33.425004Z"
    }
   },
   "outputs": [
    {
     "data": {
      "text/html": [
       "<div>\n",
       "<style scoped>\n",
       "    .dataframe tbody tr th:only-of-type {\n",
       "        vertical-align: middle;\n",
       "    }\n",
       "\n",
       "    .dataframe tbody tr th {\n",
       "        vertical-align: top;\n",
       "    }\n",
       "\n",
       "    .dataframe thead th {\n",
       "        text-align: right;\n",
       "    }\n",
       "</style>\n",
       "<table border=\"1\" class=\"dataframe\">\n",
       "  <thead>\n",
       "    <tr style=\"text-align: right;\">\n",
       "      <th></th>\n",
       "      <th>gender</th>\n",
       "      <th>hypertension</th>\n",
       "      <th>heart_disease</th>\n",
       "      <th>ever_married</th>\n",
       "      <th>work_type</th>\n",
       "      <th>Residence_type</th>\n",
       "      <th>glucose_levels</th>\n",
       "      <th>bmi</th>\n",
       "      <th>smoking_status</th>\n",
       "      <th>stroke</th>\n",
       "      <th>age_bin</th>\n",
       "    </tr>\n",
       "  </thead>\n",
       "  <tbody>\n",
       "    <tr>\n",
       "      <th>gender</th>\n",
       "      <td>1.000000</td>\n",
       "      <td>0.038170</td>\n",
       "      <td>0.104101</td>\n",
       "      <td>0.034664</td>\n",
       "      <td>0.012802</td>\n",
       "      <td>0.013253</td>\n",
       "      <td>0.070868</td>\n",
       "      <td>0.137143</td>\n",
       "      <td>0.097908</td>\n",
       "      <td>0.021733</td>\n",
       "      <td>0.081202</td>\n",
       "    </tr>\n",
       "    <tr>\n",
       "      <th>hypertension</th>\n",
       "      <td>0.038170</td>\n",
       "      <td>1.000000</td>\n",
       "      <td>0.095755</td>\n",
       "      <td>0.100888</td>\n",
       "      <td>0.096002</td>\n",
       "      <td>0.009689</td>\n",
       "      <td>0.169928</td>\n",
       "      <td>0.116282</td>\n",
       "      <td>0.092372</td>\n",
       "      <td>0.117027</td>\n",
       "      <td>0.242564</td>\n",
       "    </tr>\n",
       "    <tr>\n",
       "      <th>heart_disease</th>\n",
       "      <td>0.104101</td>\n",
       "      <td>0.095755</td>\n",
       "      <td>1.000000</td>\n",
       "      <td>0.068918</td>\n",
       "      <td>0.072161</td>\n",
       "      <td>0.001742</td>\n",
       "      <td>0.163332</td>\n",
       "      <td>0.055185</td>\n",
       "      <td>0.066124</td>\n",
       "      <td>0.127633</td>\n",
       "      <td>0.277365</td>\n",
       "    </tr>\n",
       "    <tr>\n",
       "      <th>ever_married</th>\n",
       "      <td>0.034664</td>\n",
       "      <td>0.100888</td>\n",
       "      <td>0.068918</td>\n",
       "      <td>1.000000</td>\n",
       "      <td>0.159862</td>\n",
       "      <td>0.003361</td>\n",
       "      <td>0.125550</td>\n",
       "      <td>0.162165</td>\n",
       "      <td>0.102945</td>\n",
       "      <td>0.067114</td>\n",
       "      <td>0.597063</td>\n",
       "    </tr>\n",
       "    <tr>\n",
       "      <th>work_type</th>\n",
       "      <td>0.012802</td>\n",
       "      <td>0.096002</td>\n",
       "      <td>0.072161</td>\n",
       "      <td>0.159862</td>\n",
       "      <td>1.000000</td>\n",
       "      <td>0.026453</td>\n",
       "      <td>0.041335</td>\n",
       "      <td>0.031152</td>\n",
       "      <td>0.049589</td>\n",
       "      <td>0.048857</td>\n",
       "      <td>0.223956</td>\n",
       "    </tr>\n",
       "    <tr>\n",
       "      <th>Residence_type</th>\n",
       "      <td>0.013253</td>\n",
       "      <td>0.009689</td>\n",
       "      <td>0.001742</td>\n",
       "      <td>0.003361</td>\n",
       "      <td>0.026453</td>\n",
       "      <td>1.000000</td>\n",
       "      <td>0.015179</td>\n",
       "      <td>0.031258</td>\n",
       "      <td>0.032552</td>\n",
       "      <td>0.016329</td>\n",
       "      <td>0.040583</td>\n",
       "    </tr>\n",
       "    <tr>\n",
       "      <th>glucose_levels</th>\n",
       "      <td>0.070868</td>\n",
       "      <td>0.169928</td>\n",
       "      <td>0.163332</td>\n",
       "      <td>0.125550</td>\n",
       "      <td>0.041335</td>\n",
       "      <td>0.015179</td>\n",
       "      <td>1.000000</td>\n",
       "      <td>0.116767</td>\n",
       "      <td>0.056774</td>\n",
       "      <td>0.128988</td>\n",
       "      <td>0.175598</td>\n",
       "    </tr>\n",
       "    <tr>\n",
       "      <th>bmi</th>\n",
       "      <td>0.137143</td>\n",
       "      <td>0.116282</td>\n",
       "      <td>0.055185</td>\n",
       "      <td>0.162165</td>\n",
       "      <td>0.031152</td>\n",
       "      <td>0.031258</td>\n",
       "      <td>0.116767</td>\n",
       "      <td>1.000000</td>\n",
       "      <td>0.042701</td>\n",
       "      <td>0.030518</td>\n",
       "      <td>0.147275</td>\n",
       "    </tr>\n",
       "    <tr>\n",
       "      <th>smoking_status</th>\n",
       "      <td>0.097908</td>\n",
       "      <td>0.092372</td>\n",
       "      <td>0.066124</td>\n",
       "      <td>0.102945</td>\n",
       "      <td>0.049589</td>\n",
       "      <td>0.032552</td>\n",
       "      <td>0.056774</td>\n",
       "      <td>0.042701</td>\n",
       "      <td>1.000000</td>\n",
       "      <td>0.051542</td>\n",
       "      <td>0.120257</td>\n",
       "    </tr>\n",
       "    <tr>\n",
       "      <th>stroke</th>\n",
       "      <td>0.021733</td>\n",
       "      <td>0.117027</td>\n",
       "      <td>0.127633</td>\n",
       "      <td>0.067114</td>\n",
       "      <td>0.048857</td>\n",
       "      <td>0.016329</td>\n",
       "      <td>0.128988</td>\n",
       "      <td>0.030518</td>\n",
       "      <td>0.051542</td>\n",
       "      <td>1.000000</td>\n",
       "      <td>0.240099</td>\n",
       "    </tr>\n",
       "    <tr>\n",
       "      <th>age_bin</th>\n",
       "      <td>0.081202</td>\n",
       "      <td>0.242564</td>\n",
       "      <td>0.277365</td>\n",
       "      <td>0.597063</td>\n",
       "      <td>0.223956</td>\n",
       "      <td>0.040583</td>\n",
       "      <td>0.175598</td>\n",
       "      <td>0.147275</td>\n",
       "      <td>0.120257</td>\n",
       "      <td>0.240099</td>\n",
       "      <td>1.000000</td>\n",
       "    </tr>\n",
       "  </tbody>\n",
       "</table>\n",
       "</div>"
      ],
      "text/plain": [
       "                  gender  hypertension  heart_disease  ever_married  \\\n",
       "gender          1.000000      0.038170       0.104101      0.034664   \n",
       "hypertension    0.038170      1.000000       0.095755      0.100888   \n",
       "heart_disease   0.104101      0.095755       1.000000      0.068918   \n",
       "ever_married    0.034664      0.100888       0.068918      1.000000   \n",
       "work_type       0.012802      0.096002       0.072161      0.159862   \n",
       "Residence_type  0.013253      0.009689       0.001742      0.003361   \n",
       "glucose_levels  0.070868      0.169928       0.163332      0.125550   \n",
       "bmi             0.137143      0.116282       0.055185      0.162165   \n",
       "smoking_status  0.097908      0.092372       0.066124      0.102945   \n",
       "stroke          0.021733      0.117027       0.127633      0.067114   \n",
       "age_bin         0.081202      0.242564       0.277365      0.597063   \n",
       "\n",
       "                work_type  Residence_type  glucose_levels       bmi  \\\n",
       "gender           0.012802        0.013253        0.070868  0.137143   \n",
       "hypertension     0.096002        0.009689        0.169928  0.116282   \n",
       "heart_disease    0.072161        0.001742        0.163332  0.055185   \n",
       "ever_married     0.159862        0.003361        0.125550  0.162165   \n",
       "work_type        1.000000        0.026453        0.041335  0.031152   \n",
       "Residence_type   0.026453        1.000000        0.015179  0.031258   \n",
       "glucose_levels   0.041335        0.015179        1.000000  0.116767   \n",
       "bmi              0.031152        0.031258        0.116767  1.000000   \n",
       "smoking_status   0.049589        0.032552        0.056774  0.042701   \n",
       "stroke           0.048857        0.016329        0.128988  0.030518   \n",
       "age_bin          0.223956        0.040583        0.175598  0.147275   \n",
       "\n",
       "                smoking_status    stroke   age_bin  \n",
       "gender                0.097908  0.021733  0.081202  \n",
       "hypertension          0.092372  0.117027  0.242564  \n",
       "heart_disease         0.066124  0.127633  0.277365  \n",
       "ever_married          0.102945  0.067114  0.597063  \n",
       "work_type             0.049589  0.048857  0.223956  \n",
       "Residence_type        0.032552  0.016329  0.040583  \n",
       "glucose_levels        0.056774  0.128988  0.175598  \n",
       "bmi                   0.042701  0.030518  0.147275  \n",
       "smoking_status        1.000000  0.051542  0.120257  \n",
       "stroke                0.051542  1.000000  0.240099  \n",
       "age_bin               0.120257  0.240099  1.000000  "
      ]
     },
     "execution_count": 35,
     "metadata": {},
     "output_type": "execute_result"
    }
   ],
   "source": [
    "res"
   ]
  },
  {
   "cell_type": "code",
   "execution_count": 36,
   "id": "4726dc73",
   "metadata": {
    "ExecuteTime": {
     "end_time": "2022-08-19T15:46:33.713472Z",
     "start_time": "2022-08-19T15:46:33.446270Z"
    }
   },
   "outputs": [
    {
     "data": {
      "image/png": "[encoded data removed]",
      "text/plain": [
       "<Figure size 432x288 with 2 Axes>"
      ]
     },
     "metadata": {
      "needs_background": "light"
     },
     "output_type": "display_data"
    }
   ],
   "source": [
    "sns.heatmap(res);"
   ]
  },
  {
   "cell_type": "markdown",
   "id": "e48dc7bb",
   "metadata": {},
   "source": [
    "## As we can see 'age_bin' and marriage_status show the strongest relationship with a score of ~ 0.6. "
   ]
  },
  {
   "cell_type": "markdown",
   "id": "bbfb38f3",
   "metadata": {},
   "source": [
    "### Feature selection"
   ]
  },
  {
   "cell_type": "code",
   "execution_count": 37,
   "id": "88d798ab",
   "metadata": {
    "ExecuteTime": {
     "end_time": "2022-08-19T15:46:34.046728Z",
     "start_time": "2022-08-19T15:46:33.715460Z"
    }
   },
   "outputs": [],
   "source": [
    "from sklearn.feature_selection import SelectKBest\n",
    "from sklearn.feature_selection import chi2\n",
    "from sklearn.feature_selection import f_classif\n",
    "from sklearn.feature_selection import mutual_info_classif\n",
    "from sklearn.linear_model import LogisticRegression\n",
    "from sklearn.model_selection import train_test_split\n",
    "from sklearn import metrics\n",
    "from sklearn.preprocessing import LabelEncoder\n",
    "from mlxtend.preprocessing import minmax_scaling\n",
    "import scipy.stats\n",
    "from sklearn.metrics import roc_auc_score"
   ]
  },
  {
   "cell_type": "markdown",
   "id": "0f730b40",
   "metadata": {},
   "source": [
    "## Chi square test\n",
    "### Null hypothesis: Predictor variable and target variable are independent\n",
    "### If chi square score is higher that a critical values, null hypothesis can be rejected."
   ]
  },
  {
   "cell_type": "code",
   "execution_count": 38,
   "id": "8807908b",
   "metadata": {
    "ExecuteTime": {
     "end_time": "2022-08-19T15:46:34.079753Z",
     "start_time": "2022-08-19T15:46:34.048716Z"
    }
   },
   "outputs": [],
   "source": [
    "data_copy = data_adult.copy()\n",
    "for col in data_copy.columns:\n",
    "    data_copy[col] = LabelEncoder().fit_transform(data_copy[col])"
   ]
  },
  {
   "cell_type": "code",
   "execution_count": 39,
   "id": "425d01bb",
   "metadata": {
    "ExecuteTime": {
     "end_time": "2022-08-19T15:46:34.088746Z",
     "start_time": "2022-08-19T15:46:34.081740Z"
    }
   },
   "outputs": [],
   "source": [
    "features = [col for col in data_copy.columns if col != 'stroke']\n",
    "X = data_copy[features]\n",
    "y = data_copy['stroke']"
   ]
  },
  {
   "cell_type": "code",
   "execution_count": 40,
   "id": "5a25abf0",
   "metadata": {
    "ExecuteTime": {
     "end_time": "2022-08-19T15:46:34.100756Z",
     "start_time": "2022-08-19T15:46:34.091748Z"
    }
   },
   "outputs": [],
   "source": [
    "X_train, X_test, y_train, y_test = train_test_split(X,y,test_size=0.3,random_state=246)"
   ]
  },
  {
   "cell_type": "code",
   "execution_count": 42,
   "id": "c5146c8d",
   "metadata": {
    "ExecuteTime": {
     "end_time": "2022-08-19T15:47:36.033562Z",
     "start_time": "2022-08-19T15:47:35.945463Z"
    }
   },
   "outputs": [],
   "source": [
    "p_values = {}\n",
    "for col in X_train.columns:\n",
    "    if col != 'stroke':\n",
    "        crosstab = pd.crosstab(y_train, X_train[col])\n",
    "        res = scipy.stats.chi2_contingency(crosstab)\n",
    "        p_val = res[1]\n",
    "        chi_2 = res[0]\n",
    "        p_values[col] = [p_val,chi_2]"
   ]
  },
  {
   "cell_type": "code",
   "execution_count": 59,
   "id": "6f488cfe",
   "metadata": {
    "ExecuteTime": {
     "end_time": "2022-08-19T17:14:25.284493Z",
     "start_time": "2022-08-19T17:14:25.273487Z"
    }
   },
   "outputs": [
    {
     "data": {
      "text/plain": [
       "{'gender': [0.9279702373240513, 0.008171959634210546],\n",
       " 'hypertension': [1.2031743711884602e-06, 23.572133053780075],\n",
       " 'heart_disease': [9.554083022962726e-10, 37.41385840297273],\n",
       " 'ever_married': [2.204363438788821e-05, 18.004042650798958],\n",
       " 'work_type': [0.26625367184455145, 3.956009367393447],\n",
       " 'Residence_type': [0.8646629998881807, 0.02905027779167716],\n",
       " 'glucose_levels': [1.6006542848839677e-11, 49.71604709844915],\n",
       " 'bmi': [7.805404988251196e-09, 43.58998035766836],\n",
       " 'smoking_status': [0.48048202806381346, 2.471399428085015],\n",
       " 'age_bin': [4.991757233218283e-33, 161.394853836603]}"
      ]
     },
     "execution_count": 59,
     "metadata": {},
     "output_type": "execute_result"
    }
   ],
   "source": [
    "p_values"
   ]
  },
  {
   "cell_type": "code",
   "execution_count": 46,
   "id": "67e0d83b",
   "metadata": {
    "ExecuteTime": {
     "end_time": "2022-08-19T15:49:14.112655Z",
     "start_time": "2022-08-19T15:49:14.105649Z"
    }
   },
   "outputs": [],
   "source": [
    "res = pd.DataFrame(p_values).T.reset_index(level=0)"
   ]
  },
  {
   "cell_type": "code",
   "execution_count": 49,
   "id": "ec67c0f3",
   "metadata": {
    "ExecuteTime": {
     "end_time": "2022-08-19T15:50:03.493836Z",
     "start_time": "2022-08-19T15:50:03.488832Z"
    }
   },
   "outputs": [],
   "source": [
    "res = res.rename(columns={'index':'feature',0:'p_value',1:'chi_2'})"
   ]
  },
  {
   "cell_type": "code",
   "execution_count": 53,
   "id": "60463e5c",
   "metadata": {
    "ExecuteTime": {
     "end_time": "2022-08-19T15:51:13.613029Z",
     "start_time": "2022-08-19T15:51:13.608029Z"
    }
   },
   "outputs": [],
   "source": [
    "res = res.sort_values(by='p_value',ascending=True).reset_index(drop=True)"
   ]
  },
  {
   "cell_type": "code",
   "execution_count": 55,
   "id": "eaef0994",
   "metadata": {
    "ExecuteTime": {
     "end_time": "2022-08-19T15:51:38.556222Z",
     "start_time": "2022-08-19T15:51:38.544227Z"
    },
    "scrolled": true
   },
   "outputs": [
    {
     "data": {
      "text/html": [
       "<div>\n",
       "<style scoped>\n",
       "    .dataframe tbody tr th:only-of-type {\n",
       "        vertical-align: middle;\n",
       "    }\n",
       "\n",
       "    .dataframe tbody tr th {\n",
       "        vertical-align: top;\n",
       "    }\n",
       "\n",
       "    .dataframe thead th {\n",
       "        text-align: right;\n",
       "    }\n",
       "</style>\n",
       "<table border=\"1\" class=\"dataframe\">\n",
       "  <thead>\n",
       "    <tr style=\"text-align: right;\">\n",
       "      <th></th>\n",
       "      <th>feature</th>\n",
       "      <th>p_value</th>\n",
       "      <th>chi_2</th>\n",
       "    </tr>\n",
       "  </thead>\n",
       "  <tbody>\n",
       "    <tr>\n",
       "      <th>0</th>\n",
       "      <td>age_bin</td>\n",
       "      <td>4.991757e-33</td>\n",
       "      <td>161.394854</td>\n",
       "    </tr>\n",
       "    <tr>\n",
       "      <th>1</th>\n",
       "      <td>glucose_levels</td>\n",
       "      <td>1.600654e-11</td>\n",
       "      <td>49.716047</td>\n",
       "    </tr>\n",
       "    <tr>\n",
       "      <th>2</th>\n",
       "      <td>heart_disease</td>\n",
       "      <td>9.554083e-10</td>\n",
       "      <td>37.413858</td>\n",
       "    </tr>\n",
       "    <tr>\n",
       "      <th>3</th>\n",
       "      <td>bmi</td>\n",
       "      <td>7.805405e-09</td>\n",
       "      <td>43.589980</td>\n",
       "    </tr>\n",
       "    <tr>\n",
       "      <th>4</th>\n",
       "      <td>hypertension</td>\n",
       "      <td>1.203174e-06</td>\n",
       "      <td>23.572133</td>\n",
       "    </tr>\n",
       "    <tr>\n",
       "      <th>5</th>\n",
       "      <td>ever_married</td>\n",
       "      <td>2.204363e-05</td>\n",
       "      <td>18.004043</td>\n",
       "    </tr>\n",
       "  </tbody>\n",
       "</table>\n",
       "</div>"
      ],
      "text/plain": [
       "          feature       p_value       chi_2\n",
       "0         age_bin  4.991757e-33  161.394854\n",
       "1  glucose_levels  1.600654e-11   49.716047\n",
       "2   heart_disease  9.554083e-10   37.413858\n",
       "3             bmi  7.805405e-09   43.589980\n",
       "4    hypertension  1.203174e-06   23.572133\n",
       "5    ever_married  2.204363e-05   18.004043"
      ]
     },
     "execution_count": 55,
     "metadata": {},
     "output_type": "execute_result"
    }
   ],
   "source": [
    "res[res['p_value'] <= 0.05]"
   ]
  },
  {
   "cell_type": "code",
   "execution_count": 57,
   "id": "a69c6774",
   "metadata": {
    "ExecuteTime": {
     "end_time": "2022-08-19T15:57:18.598000Z",
     "start_time": "2022-08-19T15:57:18.584002Z"
    }
   },
   "outputs": [
    {
     "data": {
      "text/html": [
       "<div>\n",
       "<style scoped>\n",
       "    .dataframe tbody tr th:only-of-type {\n",
       "        vertical-align: middle;\n",
       "    }\n",
       "\n",
       "    .dataframe tbody tr th {\n",
       "        vertical-align: top;\n",
       "    }\n",
       "\n",
       "    .dataframe thead th {\n",
       "        text-align: right;\n",
       "    }\n",
       "</style>\n",
       "<table border=\"1\" class=\"dataframe\">\n",
       "  <thead>\n",
       "    <tr style=\"text-align: right;\">\n",
       "      <th></th>\n",
       "      <th>feature</th>\n",
       "      <th>p_value</th>\n",
       "      <th>chi_2</th>\n",
       "    </tr>\n",
       "  </thead>\n",
       "  <tbody>\n",
       "    <tr>\n",
       "      <th>0</th>\n",
       "      <td>age_bin</td>\n",
       "      <td>4.991757e-33</td>\n",
       "      <td>161.394854</td>\n",
       "    </tr>\n",
       "    <tr>\n",
       "      <th>1</th>\n",
       "      <td>glucose_levels</td>\n",
       "      <td>1.600654e-11</td>\n",
       "      <td>49.716047</td>\n",
       "    </tr>\n",
       "    <tr>\n",
       "      <th>2</th>\n",
       "      <td>heart_disease</td>\n",
       "      <td>9.554083e-10</td>\n",
       "      <td>37.413858</td>\n",
       "    </tr>\n",
       "    <tr>\n",
       "      <th>3</th>\n",
       "      <td>bmi</td>\n",
       "      <td>7.805405e-09</td>\n",
       "      <td>43.589980</td>\n",
       "    </tr>\n",
       "    <tr>\n",
       "      <th>4</th>\n",
       "      <td>hypertension</td>\n",
       "      <td>1.203174e-06</td>\n",
       "      <td>23.572133</td>\n",
       "    </tr>\n",
       "    <tr>\n",
       "      <th>5</th>\n",
       "      <td>ever_married</td>\n",
       "      <td>2.204363e-05</td>\n",
       "      <td>18.004043</td>\n",
       "    </tr>\n",
       "    <tr>\n",
       "      <th>6</th>\n",
       "      <td>work_type</td>\n",
       "      <td>2.662537e-01</td>\n",
       "      <td>3.956009</td>\n",
       "    </tr>\n",
       "    <tr>\n",
       "      <th>7</th>\n",
       "      <td>smoking_status</td>\n",
       "      <td>4.804820e-01</td>\n",
       "      <td>2.471399</td>\n",
       "    </tr>\n",
       "    <tr>\n",
       "      <th>8</th>\n",
       "      <td>Residence_type</td>\n",
       "      <td>8.646630e-01</td>\n",
       "      <td>0.029050</td>\n",
       "    </tr>\n",
       "    <tr>\n",
       "      <th>9</th>\n",
       "      <td>gender</td>\n",
       "      <td>9.279702e-01</td>\n",
       "      <td>0.008172</td>\n",
       "    </tr>\n",
       "  </tbody>\n",
       "</table>\n",
       "</div>"
      ],
      "text/plain": [
       "          feature       p_value       chi_2\n",
       "0         age_bin  4.991757e-33  161.394854\n",
       "1  glucose_levels  1.600654e-11   49.716047\n",
       "2   heart_disease  9.554083e-10   37.413858\n",
       "3             bmi  7.805405e-09   43.589980\n",
       "4    hypertension  1.203174e-06   23.572133\n",
       "5    ever_married  2.204363e-05   18.004043\n",
       "6       work_type  2.662537e-01    3.956009\n",
       "7  smoking_status  4.804820e-01    2.471399\n",
       "8  Residence_type  8.646630e-01    0.029050\n",
       "9          gender  9.279702e-01    0.008172"
      ]
     },
     "execution_count": 57,
     "metadata": {},
     "output_type": "execute_result"
    }
   ],
   "source": [
    "res"
   ]
  },
  {
   "cell_type": "code",
   "execution_count": null,
   "id": "268a1628",
   "metadata": {
    "ExecuteTime": {
     "end_time": "2022-08-19T15:46:34.806253Z",
     "start_time": "2022-08-19T15:46:34.806253Z"
    }
   },
   "outputs": [],
   "source": [
    "critical_values = {}\n",
    "for col in X_train.columns:\n",
    "    if col != 'stroke':\n",
    "        crosstab = pd.crosstab(y_train, X_train[col])\n",
    "        df = (len(crosstab.index)-1)*(len(crosstab.columns)-1) #degrees of freedom\n",
    "        crit_val = scipy.stats.chi2.ppf(0.95, df=df)\n",
    "        critical_values[col] = crit_val"
   ]
  },
  {
   "cell_type": "code",
   "execution_count": 111,
   "id": "9f9929a7",
   "metadata": {
    "ExecuteTime": {
     "end_time": "2022-08-19T17:31:38.063088Z",
     "start_time": "2022-08-19T17:31:38.046063Z"
    }
   },
   "outputs": [],
   "source": [
    "crosstab = pd.crosstab(y_train, X_train[\"glucose_levels\"].values == 1)\n",
    "res = scipy.stats.chi2_contingency(crosstab)"
   ]
  },
  {
   "cell_type": "code",
   "execution_count": 94,
   "id": "f84c7173",
   "metadata": {
    "ExecuteTime": {
     "end_time": "2022-08-19T17:29:51.721899Z",
     "start_time": "2022-08-19T17:29:51.710903Z"
    }
   },
   "outputs": [
    {
     "data": {
      "text/plain": [
       "normal         3542\n",
       "diabetes        427\n",
       "prediabetes     344\n",
       "Name: glucose_levels, dtype: int64"
      ]
     },
     "execution_count": 94,
     "metadata": {},
     "output_type": "execute_result"
    }
   ],
   "source": [
    "data_adult.glucose_levels.value_counts()"
   ]
  },
  {
   "cell_type": "code",
   "execution_count": 93,
   "id": "97829b53",
   "metadata": {
    "ExecuteTime": {
     "end_time": "2022-08-19T17:29:34.872365Z",
     "start_time": "2022-08-19T17:29:34.855365Z"
    }
   },
   "outputs": [
    {
     "data": {
      "text/plain": [
       "1    2462\n",
       "0     314\n",
       "2     243\n",
       "Name: glucose_levels, dtype: int64"
      ]
     },
     "execution_count": 93,
     "metadata": {},
     "output_type": "execute_result"
    }
   ],
   "source": [
    "X_train.glucose_levels.value_counts()"
   ]
  },
  {
   "cell_type": "code",
   "execution_count": 65,
   "id": "d5ab5ef0",
   "metadata": {
    "ExecuteTime": {
     "end_time": "2022-08-19T17:16:31.965925Z",
     "start_time": "2022-08-19T17:16:31.939920Z"
    }
   },
   "outputs": [
    {
     "data": {
      "text/html": [
       "<div>\n",
       "<style scoped>\n",
       "    .dataframe tbody tr th:only-of-type {\n",
       "        vertical-align: middle;\n",
       "    }\n",
       "\n",
       "    .dataframe tbody tr th {\n",
       "        vertical-align: top;\n",
       "    }\n",
       "\n",
       "    .dataframe thead th {\n",
       "        text-align: right;\n",
       "    }\n",
       "</style>\n",
       "<table border=\"1\" class=\"dataframe\">\n",
       "  <thead>\n",
       "    <tr style=\"text-align: right;\">\n",
       "      <th></th>\n",
       "      <th>gender</th>\n",
       "      <th>hypertension</th>\n",
       "      <th>heart_disease</th>\n",
       "      <th>ever_married</th>\n",
       "      <th>work_type</th>\n",
       "      <th>Residence_type</th>\n",
       "      <th>glucose_levels</th>\n",
       "      <th>bmi</th>\n",
       "      <th>smoking_status</th>\n",
       "      <th>age_bin</th>\n",
       "    </tr>\n",
       "  </thead>\n",
       "  <tbody>\n",
       "    <tr>\n",
       "      <th>2613</th>\n",
       "      <td>0</td>\n",
       "      <td>0</td>\n",
       "      <td>1</td>\n",
       "      <td>0</td>\n",
       "      <td>0</td>\n",
       "      <td>1</td>\n",
       "      <td>0</td>\n",
       "      <td>1</td>\n",
       "      <td>0</td>\n",
       "      <td>4</td>\n",
       "    </tr>\n",
       "    <tr>\n",
       "      <th>1870</th>\n",
       "      <td>1</td>\n",
       "      <td>0</td>\n",
       "      <td>0</td>\n",
       "      <td>1</td>\n",
       "      <td>2</td>\n",
       "      <td>1</td>\n",
       "      <td>0</td>\n",
       "      <td>1</td>\n",
       "      <td>1</td>\n",
       "      <td>3</td>\n",
       "    </tr>\n",
       "    <tr>\n",
       "      <th>4281</th>\n",
       "      <td>0</td>\n",
       "      <td>0</td>\n",
       "      <td>0</td>\n",
       "      <td>0</td>\n",
       "      <td>2</td>\n",
       "      <td>1</td>\n",
       "      <td>1</td>\n",
       "      <td>2</td>\n",
       "      <td>2</td>\n",
       "      <td>1</td>\n",
       "    </tr>\n",
       "    <tr>\n",
       "      <th>2190</th>\n",
       "      <td>0</td>\n",
       "      <td>0</td>\n",
       "      <td>0</td>\n",
       "      <td>1</td>\n",
       "      <td>2</td>\n",
       "      <td>0</td>\n",
       "      <td>1</td>\n",
       "      <td>0</td>\n",
       "      <td>3</td>\n",
       "      <td>1</td>\n",
       "    </tr>\n",
       "    <tr>\n",
       "      <th>1599</th>\n",
       "      <td>0</td>\n",
       "      <td>0</td>\n",
       "      <td>0</td>\n",
       "      <td>0</td>\n",
       "      <td>2</td>\n",
       "      <td>0</td>\n",
       "      <td>1</td>\n",
       "      <td>1</td>\n",
       "      <td>0</td>\n",
       "      <td>1</td>\n",
       "    </tr>\n",
       "    <tr>\n",
       "      <th>...</th>\n",
       "      <td>...</td>\n",
       "      <td>...</td>\n",
       "      <td>...</td>\n",
       "      <td>...</td>\n",
       "      <td>...</td>\n",
       "      <td>...</td>\n",
       "      <td>...</td>\n",
       "      <td>...</td>\n",
       "      <td>...</td>\n",
       "      <td>...</td>\n",
       "    </tr>\n",
       "    <tr>\n",
       "      <th>3363</th>\n",
       "      <td>0</td>\n",
       "      <td>0</td>\n",
       "      <td>0</td>\n",
       "      <td>1</td>\n",
       "      <td>3</td>\n",
       "      <td>1</td>\n",
       "      <td>0</td>\n",
       "      <td>2</td>\n",
       "      <td>2</td>\n",
       "      <td>4</td>\n",
       "    </tr>\n",
       "    <tr>\n",
       "      <th>2606</th>\n",
       "      <td>0</td>\n",
       "      <td>0</td>\n",
       "      <td>0</td>\n",
       "      <td>1</td>\n",
       "      <td>3</td>\n",
       "      <td>0</td>\n",
       "      <td>1</td>\n",
       "      <td>1</td>\n",
       "      <td>1</td>\n",
       "      <td>3</td>\n",
       "    </tr>\n",
       "    <tr>\n",
       "      <th>2112</th>\n",
       "      <td>0</td>\n",
       "      <td>0</td>\n",
       "      <td>0</td>\n",
       "      <td>0</td>\n",
       "      <td>0</td>\n",
       "      <td>0</td>\n",
       "      <td>0</td>\n",
       "      <td>2</td>\n",
       "      <td>2</td>\n",
       "      <td>3</td>\n",
       "    </tr>\n",
       "    <tr>\n",
       "      <th>1668</th>\n",
       "      <td>0</td>\n",
       "      <td>0</td>\n",
       "      <td>0</td>\n",
       "      <td>1</td>\n",
       "      <td>3</td>\n",
       "      <td>0</td>\n",
       "      <td>1</td>\n",
       "      <td>1</td>\n",
       "      <td>0</td>\n",
       "      <td>3</td>\n",
       "    </tr>\n",
       "    <tr>\n",
       "      <th>2981</th>\n",
       "      <td>0</td>\n",
       "      <td>0</td>\n",
       "      <td>0</td>\n",
       "      <td>1</td>\n",
       "      <td>2</td>\n",
       "      <td>0</td>\n",
       "      <td>1</td>\n",
       "      <td>1</td>\n",
       "      <td>0</td>\n",
       "      <td>2</td>\n",
       "    </tr>\n",
       "  </tbody>\n",
       "</table>\n",
       "<p>3019 rows × 10 columns</p>\n",
       "</div>"
      ],
      "text/plain": [
       "      gender  hypertension  heart_disease  ever_married  work_type  \\\n",
       "2613       0             0              1             0          0   \n",
       "1870       1             0              0             1          2   \n",
       "4281       0             0              0             0          2   \n",
       "2190       0             0              0             1          2   \n",
       "1599       0             0              0             0          2   \n",
       "...      ...           ...            ...           ...        ...   \n",
       "3363       0             0              0             1          3   \n",
       "2606       0             0              0             1          3   \n",
       "2112       0             0              0             0          0   \n",
       "1668       0             0              0             1          3   \n",
       "2981       0             0              0             1          2   \n",
       "\n",
       "      Residence_type  glucose_levels  bmi  smoking_status  age_bin  \n",
       "2613               1               0    1               0        4  \n",
       "1870               1               0    1               1        3  \n",
       "4281               1               1    2               2        1  \n",
       "2190               0               1    0               3        1  \n",
       "1599               0               1    1               0        1  \n",
       "...              ...             ...  ...             ...      ...  \n",
       "3363               1               0    2               2        4  \n",
       "2606               0               1    1               1        3  \n",
       "2112               0               0    2               2        3  \n",
       "1668               0               1    1               0        3  \n",
       "2981               0               1    1               0        2  \n",
       "\n",
       "[3019 rows x 10 columns]"
      ]
     },
     "execution_count": 65,
     "metadata": {},
     "output_type": "execute_result"
    }
   ],
   "source": [
    "X_train"
   ]
  },
  {
   "cell_type": "code",
   "execution_count": 64,
   "id": "8302d023",
   "metadata": {
    "ExecuteTime": {
     "end_time": "2022-08-19T17:16:19.299121Z",
     "start_time": "2022-08-19T17:16:19.276118Z"
    }
   },
   "outputs": [
    {
     "data": {
      "text/plain": [
       "(0.0,\n",
       " 1.0,\n",
       " 0,\n",
       " array([[2850.],\n",
       "        [ 169.]]))"
      ]
     },
     "execution_count": 64,
     "metadata": {},
     "output_type": "execute_result"
    }
   ],
   "source": [
    "res"
   ]
  },
  {
   "cell_type": "code",
   "execution_count": null,
   "id": "9a62639d",
   "metadata": {
    "ExecuteTime": {
     "end_time": "2022-08-19T15:46:34.816260Z",
     "start_time": "2022-08-19T15:46:34.816260Z"
    }
   },
   "outputs": [],
   "source": [
    "crit_values = pd.DataFrame.from_dict(critical_values,orient='index')"
   ]
  },
  {
   "cell_type": "code",
   "execution_count": null,
   "id": "c9abd3cd",
   "metadata": {
    "ExecuteTime": {
     "end_time": "2022-08-19T15:46:34.818262Z",
     "start_time": "2022-08-19T15:46:34.818262Z"
    }
   },
   "outputs": [],
   "source": [
    "selection_model = SelectKBest(score_func=chi2, k=10).fit(X_train, y_train)\n",
    "feature_score = pd.DataFrame({'features': X_train.columns.values, 'scores':selection_model.scores_})"
   ]
  },
  {
   "cell_type": "code",
   "execution_count": null,
   "id": "679085f7",
   "metadata": {
    "ExecuteTime": {
     "end_time": "2022-08-19T15:46:34.819262Z",
     "start_time": "2022-08-19T15:46:34.819262Z"
    }
   },
   "outputs": [],
   "source": [
    "df = pd.merge(crit_values,feature_score,left_index=True, right_on='features')"
   ]
  },
  {
   "cell_type": "code",
   "execution_count": null,
   "id": "f8a13777",
   "metadata": {
    "ExecuteTime": {
     "end_time": "2022-08-19T15:46:34.821264Z",
     "start_time": "2022-08-19T15:46:34.821264Z"
    }
   },
   "outputs": [],
   "source": [
    "df = df.rename(columns={0:'critical value'})"
   ]
  },
  {
   "cell_type": "code",
   "execution_count": null,
   "id": "6750b9f8",
   "metadata": {
    "ExecuteTime": {
     "end_time": "2022-08-19T15:46:34.824267Z",
     "start_time": "2022-08-19T15:46:34.824267Z"
    }
   },
   "outputs": [],
   "source": [
    "df.sort_values(by='scores',ascending=False).reset_index(drop=True)"
   ]
  },
  {
   "cell_type": "code",
   "execution_count": null,
   "id": "3a01759c",
   "metadata": {
    "ExecuteTime": {
     "end_time": "2022-08-19T15:46:34.828273Z",
     "start_time": "2022-08-19T15:46:34.828273Z"
    }
   },
   "outputs": [],
   "source": [
    "feature_score.sort_values(by='scores',ascending=False).plot(x='features',kind='bar',title='Chi-squared scores');"
   ]
  },
  {
   "cell_type": "markdown",
   "id": "21144216",
   "metadata": {},
   "source": [
    "## As we can see, critical value is higher than chi square score for features 'work_type','smoking_status','Residence_type' and 'gender' indicating that these features and target feature are independent."
   ]
  },
  {
   "cell_type": "code",
   "execution_count": null,
   "id": "8759f9dc",
   "metadata": {
    "ExecuteTime": {
     "end_time": "2022-08-19T15:46:34.831271Z",
     "start_time": "2022-08-19T15:46:34.831271Z"
    }
   },
   "outputs": [],
   "source": [
    "data_adult.head()"
   ]
  },
  {
   "cell_type": "markdown",
   "id": "1827c8fe",
   "metadata": {
    "ExecuteTime": {
     "end_time": "2022-07-08T16:49:18.466684Z",
     "start_time": "2022-07-08T16:49:18.444670Z"
    }
   },
   "source": [
    "## Building a model to get feature importance"
   ]
  },
  {
   "cell_type": "code",
   "execution_count": null,
   "id": "642d1f12",
   "metadata": {
    "ExecuteTime": {
     "end_time": "2022-08-19T15:46:34.833271Z",
     "start_time": "2022-08-19T15:46:34.833271Z"
    }
   },
   "outputs": [],
   "source": [
    "features = [col for col in data_adult.columns if col != 'stroke']\n",
    "X = data_adult[features] \n",
    "y = data_adult[['stroke']] "
   ]
  },
  {
   "cell_type": "code",
   "execution_count": null,
   "id": "7f67616d",
   "metadata": {
    "ExecuteTime": {
     "end_time": "2022-08-19T15:46:34.835274Z",
     "start_time": "2022-08-19T15:46:34.835274Z"
    }
   },
   "outputs": [],
   "source": [
    "X_train, X_test, y_train, y_test = train_test_split(X,y,test_size=0.3,random_state=246)"
   ]
  },
  {
   "cell_type": "code",
   "execution_count": null,
   "id": "b95b009a",
   "metadata": {
    "ExecuteTime": {
     "end_time": "2022-08-19T15:46:34.836273Z",
     "start_time": "2022-08-19T15:46:34.836273Z"
    }
   },
   "outputs": [],
   "source": [
    "X_train_dummies = pd.get_dummies(X_train,drop_first=True)\n",
    "X_test_dummies = pd.get_dummies(X_test,drop_first=True)"
   ]
  },
  {
   "cell_type": "code",
   "execution_count": null,
   "id": "b8a5631b",
   "metadata": {
    "ExecuteTime": {
     "end_time": "2022-08-19T15:46:34.839287Z",
     "start_time": "2022-08-19T15:46:34.839287Z"
    }
   },
   "outputs": [],
   "source": [
    "import xgboost as xgb\n",
    "xgb_clf = xgb.XGBClassifier(objective= 'binary:logistic', eta=0.01, n_estimators=200, \n",
    "                        max_depth=8, colsample_bytree=0.8, seed=47, use_label_encoder=False)"
   ]
  },
  {
   "cell_type": "code",
   "execution_count": null,
   "id": "53899eae",
   "metadata": {
    "ExecuteTime": {
     "end_time": "2022-08-19T15:46:34.842279Z",
     "start_time": "2022-08-19T15:46:34.842279Z"
    }
   },
   "outputs": [],
   "source": [
    "def replace_char(df):\n",
    "    df.columns = df.columns.str.replace(\"_\", \"\")\n",
    "    df.columns = df.columns.str.replace(\",\", \"\")\n",
    "    df.columns = df.columns.str.replace(\"]\", \"\")\n",
    "    df.columns = df.columns.str.replace(\"[\", \"\")"
   ]
  },
  {
   "cell_type": "code",
   "execution_count": null,
   "id": "1fd1e6e8",
   "metadata": {
    "ExecuteTime": {
     "end_time": "2022-08-19T15:46:34.845281Z",
     "start_time": "2022-08-19T15:46:34.845281Z"
    }
   },
   "outputs": [],
   "source": [
    "replace_char(X_train_dummies)\n",
    "replace_char(X_test_dummies)"
   ]
  },
  {
   "cell_type": "code",
   "execution_count": null,
   "id": "f5e0c231",
   "metadata": {
    "ExecuteTime": {
     "end_time": "2022-08-19T15:46:34.847282Z",
     "start_time": "2022-08-19T15:46:34.847282Z"
    },
    "scrolled": true
   },
   "outputs": [],
   "source": [
    "xgb_clf.fit(X_train_dummies, y_train, verbose=True)"
   ]
  },
  {
   "cell_type": "code",
   "execution_count": null,
   "id": "b486983c",
   "metadata": {
    "ExecuteTime": {
     "end_time": "2022-08-19T15:46:34.849283Z",
     "start_time": "2022-08-19T15:46:34.848282Z"
    }
   },
   "outputs": [],
   "source": [
    "y_pred_probs = xgb_clf.predict_proba(X_train_dummies)[:,1]\n",
    "roc_auc_score(y_train.values, y_pred_probs)"
   ]
  },
  {
   "cell_type": "code",
   "execution_count": null,
   "id": "1341497b",
   "metadata": {
    "ExecuteTime": {
     "end_time": "2022-08-19T15:46:34.850284Z",
     "start_time": "2022-08-19T15:46:34.850284Z"
    }
   },
   "outputs": [],
   "source": [
    "df_feature_imp = pd.DataFrame(X_train_dummies.columns,columns=['feature'])\n",
    "df_feature_imp['importance'] = xgb_clf.feature_importances_\n",
    "df_feature_imp.sort_values(by='importance', ascending=False, inplace=True)\n",
    "df_featture_imp_top = df_feature_imp.head(20)\n",
    "\n",
    "fig, ax = plt.subplots(figsize=(8,12))\n",
    "sns.barplot(x ='importance', y='feature', data = df_featture_imp_top)\n",
    "plt.title('Feature Importance - Top 20')\n",
    "plt.show()"
   ]
  }
 ],
 "metadata": {
  "kernelspec": {
   "display_name": "Python 3 (ipykernel)",
   "language": "python",
   "name": "python3"
  },
  "language_info": {
   "codemirror_mode": {
    "name": "ipython",
    "version": 3
   },
   "file_extension": ".py",
   "mimetype": "text/x-python",
   "name": "python",
   "nbconvert_exporter": "python",
   "pygments_lexer": "ipython3",
   "version": "3.9.12"
  }
 },
 "nbformat": 4,
 "nbformat_minor": 5
}
