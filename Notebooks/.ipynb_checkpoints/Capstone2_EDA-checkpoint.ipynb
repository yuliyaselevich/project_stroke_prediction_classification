{
 "cells": [
  {
   "cell_type": "markdown",
   "id": "c1c37e6f",
   "metadata": {},
   "source": [
    "## Exploratory Data Analysis"
   ]
  },
  {
   "cell_type": "code",
   "execution_count": 1,
   "id": "46981ab8",
   "metadata": {
    "ExecuteTime": {
     "end_time": "2022-08-25T20:04:32.205227Z",
     "start_time": "2022-08-25T20:04:28.847776Z"
    }
   },
   "outputs": [],
   "source": [
    "import numpy as np \n",
    "import pandas as pd\n",
    "import matplotlib.pyplot as plt\n",
    "import seaborn as sns\n",
    "import os\n",
    "data_adult=pd.read_csv('C:/Users/Julia/Documents/_DATA SCIENCE/_Capstones/Capstone 2/Data/Data_adult.csv',index_col=0)\n",
    "sns.set(style='ticks')\n",
    "%matplotlib inline "
   ]
  },
  {
   "cell_type": "code",
   "execution_count": 2,
   "id": "1f8e4f8e",
   "metadata": {
    "ExecuteTime": {
     "end_time": "2022-08-25T20:04:32.220238Z",
     "start_time": "2022-08-25T20:04:32.211232Z"
    }
   },
   "outputs": [],
   "source": [
    "import warnings\n",
    "warnings.filterwarnings('ignore', category=UserWarning, append=True)\n",
    "warnings.filterwarnings('ignore', category=RuntimeWarning, append=True)\n",
    "warnings.filterwarnings('ignore', category=FutureWarning, append=True)\n",
    "warnings.filterwarnings('ignore',category=pd.io.pytables.PerformanceWarning)"
   ]
  },
  {
   "cell_type": "code",
   "execution_count": 3,
   "id": "b3807950",
   "metadata": {
    "ExecuteTime": {
     "end_time": "2022-08-25T20:04:32.319324Z",
     "start_time": "2022-08-25T20:04:32.224240Z"
    }
   },
   "outputs": [
    {
     "name": "stdout",
     "output_type": "stream",
     "text": [
      "<class 'pandas.core.frame.DataFrame'>\n",
      "Int64Index: 4313 entries, 0 to 4313\n",
      "Data columns (total 11 columns):\n",
      " #   Column             Non-Null Count  Dtype  \n",
      "---  ------             --------------  -----  \n",
      " 0   gender             4313 non-null   object \n",
      " 1   age                4313 non-null   float64\n",
      " 2   hypertension       4313 non-null   int64  \n",
      " 3   heart_disease      4313 non-null   int64  \n",
      " 4   ever_married       4313 non-null   object \n",
      " 5   work_type          4313 non-null   object \n",
      " 6   Residence_type     4313 non-null   object \n",
      " 7   avg_glucose_level  4313 non-null   float64\n",
      " 8   bmi                4130 non-null   float64\n",
      " 9   smoking_status     4313 non-null   object \n",
      " 10  stroke             4313 non-null   int64  \n",
      "dtypes: float64(3), int64(3), object(5)\n",
      "memory usage: 404.3+ KB\n"
     ]
    }
   ],
   "source": [
    "data_adult.info()"
   ]
  },
  {
   "cell_type": "markdown",
   "id": "41f46b98",
   "metadata": {},
   "source": [
    "## Target feature:\n",
    "### Since the goal of this project is to predict occurence of stroke, target feature is 'stroke'. It has 2 values: 1 - when a patient had a stroke, and 0  - when a patient did not have a stroke."
   ]
  },
  {
   "cell_type": "code",
   "execution_count": 4,
   "id": "cf5b2257",
   "metadata": {
    "ExecuteTime": {
     "end_time": "2022-08-25T20:04:32.366360Z",
     "start_time": "2022-08-25T20:04:32.332343Z"
    }
   },
   "outputs": [
    {
     "data": {
      "text/plain": [
       "0    94.273128\n",
       "1     5.726872\n",
       "Name: stroke, dtype: float64"
      ]
     },
     "execution_count": 4,
     "metadata": {},
     "output_type": "execute_result"
    }
   ],
   "source": [
    "data_adult['stroke'].value_counts(normalize=True)*100"
   ]
  },
  {
   "cell_type": "code",
   "execution_count": 5,
   "id": "cf39edb4",
   "metadata": {
    "ExecuteTime": {
     "end_time": "2022-08-25T20:04:32.395385Z",
     "start_time": "2022-08-25T20:04:32.370362Z"
    }
   },
   "outputs": [
    {
     "data": {
      "text/plain": [
       "0    4066\n",
       "1     247\n",
       "Name: stroke, dtype: int64"
      ]
     },
     "execution_count": 5,
     "metadata": {},
     "output_type": "execute_result"
    }
   ],
   "source": [
    "data_adult['stroke'].value_counts()"
   ]
  },
  {
   "cell_type": "code",
   "execution_count": 6,
   "id": "29751985",
   "metadata": {
    "ExecuteTime": {
     "end_time": "2022-08-25T20:04:32.765645Z",
     "start_time": "2022-08-25T20:04:32.400382Z"
    }
   },
   "outputs": [
    {
     "data": {
      "image/png": "[encoded data removed]",
      "text/plain": [
       "<Figure size 432x288 with 1 Axes>"
      ]
     },
     "metadata": {
      "needs_background": "light"
     },
     "output_type": "display_data"
    }
   ],
   "source": [
    "sns.countplot(data_adult['stroke'])\n",
    "plt.title('Distribution of classes in the target feature',fontsize=15)\n",
    "plt.xlabel('Stroke', fontsize=15)\n",
    "plt.ylabel('Count', fontsize=15)\n",
    "plt.xticks(fontsize=15)\n",
    "plt.yticks(fontsize=15);"
   ]
  },
  {
   "cell_type": "markdown",
   "id": "1c43e86a",
   "metadata": {},
   "source": [
    "### It is obvious that target feature is highly imbalanced with only ~ 5.72 % of samples having a value of 1. This is a major issue and may require application of specialized feature engineering techniques as well as careful model selection and it may affect a perfomance of a selected model. "
   ]
  },
  {
   "cell_type": "code",
   "execution_count": 7,
   "id": "8aa7ba41",
   "metadata": {
    "ExecuteTime": {
     "end_time": "2022-08-25T20:04:32.783654Z",
     "start_time": "2022-08-25T20:04:32.767644Z"
    }
   },
   "outputs": [
    {
     "data": {
      "text/plain": [
       "gender               False\n",
       "age                  False\n",
       "hypertension         False\n",
       "heart_disease        False\n",
       "ever_married         False\n",
       "work_type            False\n",
       "Residence_type       False\n",
       "avg_glucose_level    False\n",
       "bmi                   True\n",
       "smoking_status       False\n",
       "stroke               False\n",
       "dtype: bool"
      ]
     },
     "execution_count": 7,
     "metadata": {},
     "output_type": "execute_result"
    }
   ],
   "source": [
    "data_adult.isna().any()"
   ]
  },
  {
   "cell_type": "markdown",
   "id": "b50045d0",
   "metadata": {},
   "source": [
    "### 'bmi' feature is the only one that has missing values"
   ]
  },
  {
   "cell_type": "code",
   "execution_count": 8,
   "id": "db9c590d",
   "metadata": {
    "ExecuteTime": {
     "end_time": "2022-08-25T20:04:32.795662Z",
     "start_time": "2022-08-25T20:04:32.786655Z"
    }
   },
   "outputs": [
    {
     "data": {
      "text/plain": [
       "183"
      ]
     },
     "execution_count": 8,
     "metadata": {},
     "output_type": "execute_result"
    }
   ],
   "source": [
    "data_adult['bmi'].isna().sum()"
   ]
  },
  {
   "cell_type": "code",
   "execution_count": 9,
   "id": "55332ca3",
   "metadata": {
    "ExecuteTime": {
     "end_time": "2022-08-25T20:04:32.808672Z",
     "start_time": "2022-08-25T20:04:32.798664Z"
    }
   },
   "outputs": [
    {
     "name": "stdout",
     "output_type": "stream",
     "text": [
      "Percentage of missing values in \"bmi\" feature: 4.24\n"
     ]
    }
   ],
   "source": [
    "percent_missing = data_adult['bmi'].isnull().sum() * 100 / len(data_adult)\n",
    "print('Percentage of missing values in \"bmi\" feature:', round(percent_missing,2))"
   ]
  },
  {
   "cell_type": "code",
   "execution_count": 10,
   "id": "458451e3",
   "metadata": {
    "ExecuteTime": {
     "end_time": "2022-08-25T20:04:32.828685Z",
     "start_time": "2022-08-25T20:04:32.814677Z"
    }
   },
   "outputs": [
    {
     "data": {
      "text/plain": [
       "0    94.96368\n",
       "1     5.03632\n",
       "Name: stroke, dtype: float64"
      ]
     },
     "execution_count": 10,
     "metadata": {},
     "output_type": "execute_result"
    }
   ],
   "source": [
    "no_na = data_adult.dropna(subset=\"bmi\")\n",
    "no_na['stroke'].value_counts(normalize=True)*100"
   ]
  },
  {
   "cell_type": "markdown",
   "id": "71a46daf",
   "metadata": {},
   "source": [
    "### Even though percentage of missing values in a dataset is relatively small, it is not a good idea to simply drop rows with missing values, as this will make target feature even more imbalanced."
   ]
  },
  {
   "cell_type": "code",
   "execution_count": 11,
   "id": "4a1936a0",
   "metadata": {
    "ExecuteTime": {
     "end_time": "2022-08-25T20:04:33.044839Z",
     "start_time": "2022-08-25T20:04:32.830687Z"
    }
   },
   "outputs": [
    {
     "data": {
      "image/png": "[encoded data removed]",
      "text/plain": [
       "<Figure size 432x288 with 1 Axes>"
      ]
     },
     "metadata": {
      "needs_background": "light"
     },
     "output_type": "display_data"
    }
   ],
   "source": [
    "data_adult['bmi'].hist()\n",
    "plt.title('Distribution of BMI values')\n",
    "plt.xlabel('BMI')\n",
    "plt.ylabel('Count');"
   ]
  },
  {
   "cell_type": "markdown",
   "id": "7b4bdf10",
   "metadata": {},
   "source": [
    "### Distribution of 'bmi' values is skewed, meaning that we cannot impute missing values with the mean."
   ]
  },
  {
   "cell_type": "code",
   "execution_count": 12,
   "id": "509399fe",
   "metadata": {
    "ExecuteTime": {
     "end_time": "2022-08-25T20:04:33.175932Z",
     "start_time": "2022-08-25T20:04:33.046839Z"
    }
   },
   "outputs": [
    {
     "data": {
      "image/png": "[encoded data removed]",
      "text/plain": [
       "<Figure size 432x288 with 1 Axes>"
      ]
     },
     "metadata": {
      "needs_background": "light"
     },
     "output_type": "display_data"
    }
   ],
   "source": [
    "sns.boxplot(x=\"stroke\", y=\"bmi\", data=data_adult)\n",
    "plt.title('Relationship of bmi and stroke');"
   ]
  },
  {
   "cell_type": "markdown",
   "id": "fdb52db5",
   "metadata": {},
   "source": [
    "### Since 'bmi' feature is scewed, the relationship between 'bmi' and target value is not clear. I think it would make sense to divide 'bmi' values into following categories:\n",
    "* below 18.5 – underweight\n",
    "* between 18.5 and 24.9 – healthy weight\n",
    "* between 25 and 29.9 – overweight\n",
    "* between 30 and 39.9 – obesity"
   ]
  },
  {
   "cell_type": "code",
   "execution_count": 13,
   "id": "d4ed74ab",
   "metadata": {
    "ExecuteTime": {
     "end_time": "2022-08-25T20:04:34.614949Z",
     "start_time": "2022-08-25T20:04:33.179934Z"
    }
   },
   "outputs": [],
   "source": [
    "for val in data_adult['bmi']:\n",
    "    if val < 18.5:\n",
    "        data_adult['bmi'].replace(to_replace=val, value='underweight', inplace=True)\n",
    "    elif val >= 18.5 and val <= 24.9:\n",
    "        data_adult['bmi'].replace(to_replace=val, value='normal', inplace=True)\n",
    "    elif val >= 25 and val <= 29.9:\n",
    "        data_adult['bmi'].replace(to_replace=val, value='overweight', inplace=True)\n",
    "    elif val >= 30:\n",
    "        data_adult['bmi'].replace(to_replace=val, value='obesity', inplace=True)"
   ]
  },
  {
   "cell_type": "code",
   "execution_count": 14,
   "id": "2ef04d1a",
   "metadata": {
    "ExecuteTime": {
     "end_time": "2022-08-25T20:04:34.624957Z",
     "start_time": "2022-08-25T20:04:34.616951Z"
    }
   },
   "outputs": [
    {
     "data": {
      "text/plain": [
       "array(['obesity', nan, 'normal', 'overweight', 'underweight'],\n",
       "      dtype=object)"
      ]
     },
     "execution_count": 14,
     "metadata": {},
     "output_type": "execute_result"
    }
   ],
   "source": [
    "data_adult['bmi'].unique()"
   ]
  },
  {
   "cell_type": "code",
   "execution_count": 15,
   "id": "17c6b1a0",
   "metadata": {
    "ExecuteTime": {
     "end_time": "2022-08-25T20:04:35.001229Z",
     "start_time": "2022-08-25T20:04:34.629960Z"
    }
   },
   "outputs": [
    {
     "data": {
      "image/png": "[encoded data removed]",
      "text/plain": [
       "<Figure size 432x288 with 1 Axes>"
      ]
     },
     "metadata": {
      "needs_background": "light"
     },
     "output_type": "display_data"
    }
   ],
   "source": [
    "sns.barplot(x='bmi',y='stroke',data=data_adult, order=[\"underweight\", \"normal\",\"overweight\",\"obesity\"])\n",
    "plt.title('Comparison of stroke occurence based on bmi category');"
   ]
  },
  {
   "cell_type": "markdown",
   "id": "e81462c5",
   "metadata": {},
   "source": [
    "### Plot above clearly shows that 'bmi' categories 'overweight' and 'obesity' have higher occurence of value 1 in the target feature."
   ]
  },
  {
   "cell_type": "markdown",
   "id": "8e03aa41",
   "metadata": {},
   "source": [
    "### Continuous variables"
   ]
  },
  {
   "cell_type": "code",
   "execution_count": 16,
   "id": "ac939ff7",
   "metadata": {
    "ExecuteTime": {
     "end_time": "2022-08-25T20:04:35.040251Z",
     "start_time": "2022-08-25T20:04:35.006226Z"
    }
   },
   "outputs": [
    {
     "data": {
      "text/html": [
       "<div>\n",
       "<style scoped>\n",
       "    .dataframe tbody tr th:only-of-type {\n",
       "        vertical-align: middle;\n",
       "    }\n",
       "\n",
       "    .dataframe tbody tr th {\n",
       "        vertical-align: top;\n",
       "    }\n",
       "\n",
       "    .dataframe thead th {\n",
       "        text-align: right;\n",
       "    }\n",
       "</style>\n",
       "<table border=\"1\" class=\"dataframe\">\n",
       "  <thead>\n",
       "    <tr style=\"text-align: right;\">\n",
       "      <th></th>\n",
       "      <th>age</th>\n",
       "      <th>avg_glucose_level</th>\n",
       "    </tr>\n",
       "  </thead>\n",
       "  <tbody>\n",
       "    <tr>\n",
       "      <th>count</th>\n",
       "      <td>4313.000000</td>\n",
       "      <td>4313.000000</td>\n",
       "    </tr>\n",
       "    <tr>\n",
       "      <th>mean</th>\n",
       "      <td>49.745885</td>\n",
       "      <td>108.226388</td>\n",
       "    </tr>\n",
       "    <tr>\n",
       "      <th>std</th>\n",
       "      <td>18.125129</td>\n",
       "      <td>47.568050</td>\n",
       "    </tr>\n",
       "    <tr>\n",
       "      <th>min</th>\n",
       "      <td>17.000000</td>\n",
       "      <td>55.120000</td>\n",
       "    </tr>\n",
       "    <tr>\n",
       "      <th>25%</th>\n",
       "      <td>35.000000</td>\n",
       "      <td>77.450000</td>\n",
       "    </tr>\n",
       "    <tr>\n",
       "      <th>50%</th>\n",
       "      <td>50.000000</td>\n",
       "      <td>92.270000</td>\n",
       "    </tr>\n",
       "    <tr>\n",
       "      <th>75%</th>\n",
       "      <td>64.000000</td>\n",
       "      <td>115.920000</td>\n",
       "    </tr>\n",
       "    <tr>\n",
       "      <th>max</th>\n",
       "      <td>82.000000</td>\n",
       "      <td>271.740000</td>\n",
       "    </tr>\n",
       "  </tbody>\n",
       "</table>\n",
       "</div>"
      ],
      "text/plain": [
       "               age  avg_glucose_level\n",
       "count  4313.000000        4313.000000\n",
       "mean     49.745885         108.226388\n",
       "std      18.125129          47.568050\n",
       "min      17.000000          55.120000\n",
       "25%      35.000000          77.450000\n",
       "50%      50.000000          92.270000\n",
       "75%      64.000000         115.920000\n",
       "max      82.000000         271.740000"
      ]
     },
     "execution_count": 16,
     "metadata": {},
     "output_type": "execute_result"
    }
   ],
   "source": [
    "data_adult.describe(include='float64')"
   ]
  },
  {
   "cell_type": "code",
   "execution_count": 17,
   "id": "f2337c23",
   "metadata": {
    "ExecuteTime": {
     "end_time": "2022-08-25T20:04:35.230386Z",
     "start_time": "2022-08-25T20:04:35.046255Z"
    }
   },
   "outputs": [
    {
     "data": {
      "image/png": "[encoded data removed]",
      "text/plain": [
       "<Figure size 360x360 with 1 Axes>"
      ]
     },
     "metadata": {
      "needs_background": "light"
     },
     "output_type": "display_data"
    }
   ],
   "source": [
    "data_adult['age'].hist(figsize=(5,5))\n",
    "plt.title('Distribution of age');"
   ]
  },
  {
   "cell_type": "code",
   "execution_count": 18,
   "id": "0206f9b6",
   "metadata": {
    "ExecuteTime": {
     "end_time": "2022-08-25T20:04:35.371485Z",
     "start_time": "2022-08-25T20:04:35.232387Z"
    }
   },
   "outputs": [
    {
     "data": {
      "image/png": "[encoded data removed]",
      "text/plain": [
       "<Figure size 432x288 with 1 Axes>"
      ]
     },
     "metadata": {
      "needs_background": "light"
     },
     "output_type": "display_data"
    }
   ],
   "source": [
    "count, bins_count = np.histogram(data_adult['age'], bins=10)\n",
    "pdf = count / sum(count)\n",
    "cdf = np.cumsum(pdf)\n",
    "plt.plot(bins_count[1:], pdf, color=\"red\", label=\"PDF\")\n",
    "plt.plot(bins_count[1:], cdf, label=\"CDF\")\n",
    "plt.legend();"
   ]
  },
  {
   "cell_type": "markdown",
   "id": "4694e209",
   "metadata": {},
   "source": [
    "### 'age' feature has uniform distribution."
   ]
  },
  {
   "cell_type": "code",
   "execution_count": 19,
   "id": "06f3717b",
   "metadata": {
    "ExecuteTime": {
     "end_time": "2022-08-25T20:04:35.598647Z",
     "start_time": "2022-08-25T20:04:35.375489Z"
    }
   },
   "outputs": [
    {
     "data": {
      "image/png": "[encoded data removed]",
      "text/plain": [
       "<Figure size 432x288 with 1 Axes>"
      ]
     },
     "metadata": {
      "needs_background": "light"
     },
     "output_type": "display_data"
    }
   ],
   "source": [
    "sns.boxplot(x='stroke', y='age', data=data_adult)\n",
    "plt.title('Relationship of age and stroke');"
   ]
  },
  {
   "cell_type": "code",
   "execution_count": 20,
   "id": "d3a68b36",
   "metadata": {
    "ExecuteTime": {
     "end_time": "2022-08-25T20:04:35.623664Z",
     "start_time": "2022-08-25T20:04:35.603650Z"
    }
   },
   "outputs": [],
   "source": [
    "data_adult['age_bin'] = pd.cut(data_adult['age'],\n",
    "                         [0, 18, 30, 45, 60, 80, 99])"
   ]
  },
  {
   "cell_type": "code",
   "execution_count": 21,
   "id": "d56ca6b2",
   "metadata": {
    "ExecuteTime": {
     "end_time": "2022-08-25T20:04:35.638674Z",
     "start_time": "2022-08-25T20:04:35.628670Z"
    }
   },
   "outputs": [],
   "source": [
    "data_adult = data_adult.drop(columns=['age'])"
   ]
  },
  {
   "cell_type": "code",
   "execution_count": 42,
   "id": "f35adfb4",
   "metadata": {
    "ExecuteTime": {
     "end_time": "2022-08-25T20:08:39.432546Z",
     "start_time": "2022-08-25T20:08:39.038156Z"
    }
   },
   "outputs": [
    {
     "data": {
      "image/png": "[encoded data removed]",
      "text/plain": [
       "<Figure size 432x288 with 1 Axes>"
      ]
     },
     "metadata": {
      "needs_background": "light"
     },
     "output_type": "display_data"
    }
   ],
   "source": [
    "sns.barplot(x='age_bin', y='stroke', data=data_adult)\n",
    "plt.title('Relationship of age and stroke',fontsize=15)\n",
    "plt.xlabel('Age', fontsize=15)\n",
    "plt.ylabel('Stroke', fontsize=15)\n",
    "plt.xticks(fontsize=15)\n",
    "plt.yticks(fontsize=15);"
   ]
  },
  {
   "cell_type": "markdown",
   "id": "d200ad9a",
   "metadata": {},
   "source": [
    "### The stroke occurs more often in people of higher age."
   ]
  },
  {
   "cell_type": "code",
   "execution_count": 23,
   "id": "2faf2367",
   "metadata": {
    "ExecuteTime": {
     "end_time": "2022-08-25T20:04:36.361185Z",
     "start_time": "2022-08-25T20:04:36.072982Z"
    }
   },
   "outputs": [
    {
     "data": {
      "image/png": "[encoded data removed]",
      "text/plain": [
       "<Figure size 360x360 with 1 Axes>"
      ]
     },
     "metadata": {
      "needs_background": "light"
     },
     "output_type": "display_data"
    }
   ],
   "source": [
    "data_adult['avg_glucose_level'].hist(figsize=(5,5))\n",
    "plt.title('Distribution of values of avg_glucose_level feature');"
   ]
  },
  {
   "cell_type": "code",
   "execution_count": 24,
   "id": "0ee549f9",
   "metadata": {
    "ExecuteTime": {
     "end_time": "2022-08-25T20:04:36.546317Z",
     "start_time": "2022-08-25T20:04:36.363187Z"
    }
   },
   "outputs": [
    {
     "data": {
      "image/png": "[encoded data removed]",
      "text/plain": [
       "<Figure size 432x288 with 1 Axes>"
      ]
     },
     "metadata": {
      "needs_background": "light"
     },
     "output_type": "display_data"
    }
   ],
   "source": [
    "sns.boxplot(x='stroke', y='avg_glucose_level', data=data_adult)\n",
    "plt.title('Relationship of avg_glucose_level and stroke');"
   ]
  },
  {
   "cell_type": "code",
   "execution_count": 25,
   "id": "30776a0e",
   "metadata": {
    "ExecuteTime": {
     "end_time": "2022-08-25T20:04:37.958971Z",
     "start_time": "2022-08-25T20:04:36.548317Z"
    }
   },
   "outputs": [],
   "source": [
    "for val in data_adult['avg_glucose_level']:\n",
    "    if val < 140:\n",
    "        data_adult['avg_glucose_level'].replace(to_replace=val, value='normal', inplace=True)\n",
    "    elif val >= 140 and val < 200:\n",
    "        data_adult['avg_glucose_level'].replace(to_replace=val, value='prediabetes', inplace=True)\n",
    "    elif val >= 200:\n",
    "        data_adult['avg_glucose_level'].replace(to_replace=val, value='diabetes', inplace=True)"
   ]
  },
  {
   "cell_type": "code",
   "execution_count": 26,
   "id": "7811fbc7",
   "metadata": {
    "ExecuteTime": {
     "end_time": "2022-08-25T20:04:37.974575Z",
     "start_time": "2022-08-25T20:04:37.958971Z"
    }
   },
   "outputs": [],
   "source": [
    "data_adult.rename(columns = {'avg_glucose_level':'glucose_levels'}, inplace=True)"
   ]
  },
  {
   "cell_type": "code",
   "execution_count": 27,
   "id": "77b7fec9",
   "metadata": {
    "ExecuteTime": {
     "end_time": "2022-08-25T20:04:38.202797Z",
     "start_time": "2022-08-25T20:04:37.974575Z"
    }
   },
   "outputs": [
    {
     "data": {
      "image/png": "[encoded data removed]",
      "text/plain": [
       "<Figure size 432x288 with 1 Axes>"
      ]
     },
     "metadata": {
      "needs_background": "light"
     },
     "output_type": "display_data"
    }
   ],
   "source": [
    "sns.barplot(x='glucose_levels',y='stroke',data=data_adult, order=[\"normal\", \"prediabetes\",\"diabetes\"])\n",
    "plt.title('Relationship of glucose_level categories and stroke');"
   ]
  },
  {
   "cell_type": "markdown",
   "id": "ae5d5194",
   "metadata": {},
   "source": [
    "### Demographic features: gender,age"
   ]
  },
  {
   "cell_type": "code",
   "execution_count": 43,
   "id": "36547791",
   "metadata": {
    "ExecuteTime": {
     "end_time": "2022-08-25T20:09:35.771115Z",
     "start_time": "2022-08-25T20:09:35.575983Z"
    }
   },
   "outputs": [
    {
     "data": {
      "image/png": "[encoded data removed]",
      "text/plain": [
       "<Figure size 432x288 with 1 Axes>"
      ]
     },
     "metadata": {
      "needs_background": "light"
     },
     "output_type": "display_data"
    }
   ],
   "source": [
    "#fig, axes = plt.subplots(1,2,figsize=(10, 7))\n",
    "sns.barplot(x='gender',y='stroke',data=data_adult)#ax=axes[0]\n",
    "plt.title('Relationship of gender and stroke',fontsize=15)\n",
    "plt.xlabel('Gender', fontsize=15)\n",
    "plt.ylabel('Stroke', fontsize=15)\n",
    "plt.xticks(fontsize=15)\n",
    "plt.yticks(fontsize=15);"
   ]
  },
  {
   "cell_type": "markdown",
   "id": "bfac841b",
   "metadata": {},
   "source": [
    "### Hypertension"
   ]
  },
  {
   "cell_type": "code",
   "execution_count": 29,
   "id": "f2298ce0",
   "metadata": {
    "ExecuteTime": {
     "end_time": "2022-08-25T20:04:38.887280Z",
     "start_time": "2022-08-25T20:04:38.401940Z"
    }
   },
   "outputs": [
    {
     "data": {
      "image/png": "[encoded data removed]",
      "text/plain": [
       "<Figure size 720x504 with 2 Axes>"
      ]
     },
     "metadata": {
      "needs_background": "light"
     },
     "output_type": "display_data"
    }
   ],
   "source": [
    "fig, axes = plt.subplots(1,2,figsize=(10, 7))\n",
    "sns.barplot(ax=axes[0], x='hypertension',y='stroke',data=data_adult);\n",
    "sns.barplot(ax=axes[1], x='heart_disease',y='stroke',data=data_adult);\n",
    "fig.suptitle('Relationship of heart_disease and hypertension and stroke');"
   ]
  },
  {
   "cell_type": "markdown",
   "id": "aaf5eab0",
   "metadata": {},
   "source": [
    "### Stress"
   ]
  },
  {
   "cell_type": "code",
   "execution_count": 30,
   "id": "904bb719",
   "metadata": {
    "ExecuteTime": {
     "end_time": "2022-08-25T20:04:39.508289Z",
     "start_time": "2022-08-25T20:04:38.890284Z"
    }
   },
   "outputs": [
    {
     "data": {
      "image/png": "[encoded data removed]",
      "text/plain": [
       "<Figure size 1080x504 with 3 Axes>"
      ]
     },
     "metadata": {
      "needs_background": "light"
     },
     "output_type": "display_data"
    }
   ],
   "source": [
    "fig, axes = plt.subplots(1,3,figsize=(15, 7))\n",
    "sns.barplot(ax=axes[0], x='ever_married',y='stroke',data=data_adult)\n",
    "sns.barplot(ax=axes[1], x='work_type',y='stroke',data=data_adult)\n",
    "sns.barplot(ax=axes[2], x='Residence_type',y='stroke',data=data_adult);"
   ]
  },
  {
   "cell_type": "code",
   "execution_count": 31,
   "id": "a23390c3",
   "metadata": {
    "ExecuteTime": {
     "end_time": "2022-08-25T20:04:39.720060Z",
     "start_time": "2022-08-25T20:04:39.510289Z"
    }
   },
   "outputs": [
    {
     "data": {
      "image/png": "[encoded data removed]",
      "text/plain": [
       "<Figure size 432x288 with 1 Axes>"
      ]
     },
     "metadata": {
      "needs_background": "light"
     },
     "output_type": "display_data"
    }
   ],
   "source": [
    "sns.barplot(x='ever_married',y='stroke',data=data_adult)\n",
    "plt.title('Relationship of marriage status and stroke');"
   ]
  },
  {
   "cell_type": "code",
   "execution_count": 32,
   "id": "f3bbfbf1",
   "metadata": {
    "ExecuteTime": {
     "end_time": "2022-08-25T20:04:39.960042Z",
     "start_time": "2022-08-25T20:04:39.720060Z"
    }
   },
   "outputs": [
    {
     "data": {
      "image/png": "[encoded data removed]",
      "text/plain": [
       "<Figure size 432x288 with 1 Axes>"
      ]
     },
     "metadata": {
      "needs_background": "light"
     },
     "output_type": "display_data"
    }
   ],
   "source": [
    "sns.barplot(x='work_type',y='stroke',data=data_adult)\n",
    "plt.title('Relationship of work type and stroke');"
   ]
  },
  {
   "cell_type": "code",
   "execution_count": 33,
   "id": "84f993d1",
   "metadata": {
    "ExecuteTime": {
     "end_time": "2022-08-25T20:04:40.172193Z",
     "start_time": "2022-08-25T20:04:39.962045Z"
    }
   },
   "outputs": [
    {
     "data": {
      "image/png": "[encoded data removed]",
      "text/plain": [
       "<Figure size 432x288 with 1 Axes>"
      ]
     },
     "metadata": {
      "needs_background": "light"
     },
     "output_type": "display_data"
    }
   ],
   "source": [
    "sns.barplot(x='Residence_type',y='stroke',data=data_adult)\n",
    "plt.title('Relationship of residence type and stroke');"
   ]
  },
  {
   "cell_type": "markdown",
   "id": "1465f147",
   "metadata": {},
   "source": [
    "### Smoking status"
   ]
  },
  {
   "cell_type": "code",
   "execution_count": 34,
   "id": "f5b3d8f4",
   "metadata": {
    "ExecuteTime": {
     "end_time": "2022-08-25T20:04:40.596495Z",
     "start_time": "2022-08-25T20:04:40.174196Z"
    }
   },
   "outputs": [
    {
     "data": {
      "image/png": "[encoded data removed]",
      "text/plain": [
       "<Figure size 432x288 with 1 Axes>"
      ]
     },
     "metadata": {
      "needs_background": "light"
     },
     "output_type": "display_data"
    }
   ],
   "source": [
    "sns.barplot(x='smoking_status',y='stroke',data=data_adult)\n",
    "plt.title('Relationship of smoking status and stroke');"
   ]
  },
  {
   "cell_type": "code",
   "execution_count": 128,
   "id": "14b8cfbc",
   "metadata": {
    "ExecuteTime": {
     "end_time": "2022-08-25T20:50:44.482190Z",
     "start_time": "2022-08-25T20:50:43.441440Z"
    }
   },
   "outputs": [
    {
     "data": {
      "image/png": "[encoded data removed]",
      "text/plain": [
       "<Figure size 1440x936 with 5 Axes>"
      ]
     },
     "metadata": {},
     "output_type": "display_data"
    }
   ],
   "source": [
    "fig, ax =plt.subplots(2,3)\n",
    "fig.suptitle('Relationship of health features and stroke')\n",
    "fig.subplots_adjust(top=0.95)\n",
    "sns.set_context(rc={\"font.size\":15,\"axes.titlesize\":5,\"axes.labelsize\":15,'xtick.labelsize' : 15,\n",
    "'ytick.labelsize' : 15})\n",
    "sns.barplot(x='hypertension',y='stroke',data=data_adult, ax =ax[0,0]).set(xlabel='Hypertension',ylabel='Stroke')\n",
    "sns.barplot(x='heart_disease',y='stroke',data=data_adult, ax =ax[0,1]).set(xlabel='Heart Disease',ylabel='Stroke')\n",
    "sns.barplot(x='glucose_levels',y='stroke',data=data_adult, ax =ax[0,2]).set(xlabel='Glucose level',ylabel='Stroke')\n",
    "sns.barplot(x='bmi',y='stroke',data=data_adult, ax =ax[1,0]).set(xlabel='BMI',ylabel='Stroke')\n",
    "sns.barplot(x='smoking_status',y='stroke',data=data_adult, ax =ax[1,1]).set(xlabel='Smoking Status',ylabel='Stroke')\n",
    "ax[1,1].tick_params(axis='x',labelrotation=30)\n",
    "fig.delaxes(ax=ax[1][2])\n",
    "fig.set_size_inches(20, 13);"
   ]
  },
  {
   "cell_type": "code",
   "execution_count": null,
   "id": "944d8363",
   "metadata": {
    "ExecuteTime": {
     "end_time": "2022-08-25T20:04:40.610503Z",
     "start_time": "2022-08-25T20:04:40.610503Z"
    }
   },
   "outputs": [],
   "source": [
    "fig, ax =plt.subplots(3,3)\n",
    "sns.countplot(data=data,x='gender',ax =ax[0,0])\n",
    "sns.countplot(data=data, x='ever_married',ax=ax[0,1])\n",
    "sns.countplot(data=data,x='work_type',ax=ax[0,2])\n",
    "sns.countplot(data=data,x='Residence_type',ax=ax[1,0])\n",
    "sns.countplot(data=data,x='smoking_status',ax=ax[1,1])\n",
    "sns.countplot(data=data,x='hypertension',ax=ax[1,2])\n",
    "sns.countplot(data=data,x='heart_disease',ax=ax[2,0])\n",
    "sns.countplot(data=data,x='stroke',ax=ax[2,1])\n",
    "fig.delaxes(ax=ax[2][2])\n",
    "fig.set_size_inches(18, 10)\n",
    "fig.suptitle('Distribution of categorical variables',fontsize=20)\n",
    "plt.show()"
   ]
  },
  {
   "cell_type": "markdown",
   "id": "fdd57198",
   "metadata": {},
   "source": [
    "## Inferential statistics"
   ]
  },
  {
   "cell_type": "markdown",
   "id": "2f9d4986",
   "metadata": {},
   "source": [
    "### Cramer’s V can be used to calculate the correlation between nominal categorical variables."
   ]
  },
  {
   "cell_type": "code",
   "execution_count": null,
   "id": "df456b61",
   "metadata": {
    "ExecuteTime": {
     "end_time": "2022-08-25T20:04:40.612505Z",
     "start_time": "2022-08-25T20:04:40.612505Z"
    }
   },
   "outputs": [],
   "source": [
    "# Import association_metrics  \n",
    "import association_metrics as am\n",
    "# Convert you str columns to Category columns\n",
    "df = data_adult.apply(\n",
    "        lambda x: x.astype(\"category\")) ##if x.dtype == \"O\" else x)\n",
    "#df['bmi'] = df['bmi'].astype('object')\n",
    "#df.bmi = df.bmi.fillna('unknown')\n",
    "# Initialize a CamresV object using you pandas.DataFrame\n",
    "cramersv = am.CramersV(df) \n",
    "# will return a pairwise matrix filled with Cramer's V, where columns and index are \n",
    "# the categorical variables of the passed pandas.DataFrame\n",
    "res = cramersv.fit()"
   ]
  },
  {
   "cell_type": "code",
   "execution_count": null,
   "id": "93a9a66d",
   "metadata": {
    "ExecuteTime": {
     "end_time": "2022-08-25T20:04:40.615511Z",
     "start_time": "2022-08-25T20:04:40.615511Z"
    }
   },
   "outputs": [],
   "source": [
    "res"
   ]
  },
  {
   "cell_type": "code",
   "execution_count": null,
   "id": "4726dc73",
   "metadata": {
    "ExecuteTime": {
     "end_time": "2022-08-25T20:04:40.617508Z",
     "start_time": "2022-08-25T20:04:40.617508Z"
    }
   },
   "outputs": [],
   "source": [
    "sns.heatmap(res);"
   ]
  },
  {
   "cell_type": "markdown",
   "id": "e48dc7bb",
   "metadata": {},
   "source": [
    "## As we can see 'age_bin' and marriage_status show the strongest relationship with a score of ~ 0.6. "
   ]
  },
  {
   "cell_type": "markdown",
   "id": "bbfb38f3",
   "metadata": {},
   "source": [
    "### Feature selection"
   ]
  },
  {
   "cell_type": "code",
   "execution_count": null,
   "id": "88d798ab",
   "metadata": {
    "ExecuteTime": {
     "end_time": "2022-08-25T20:04:40.620509Z",
     "start_time": "2022-08-25T20:04:40.620509Z"
    }
   },
   "outputs": [],
   "source": [
    "from sklearn.feature_selection import SelectKBest\n",
    "from sklearn.feature_selection import chi2\n",
    "from sklearn.feature_selection import f_classif\n",
    "from sklearn.feature_selection import mutual_info_classif\n",
    "from sklearn.linear_model import LogisticRegression\n",
    "from sklearn.model_selection import train_test_split\n",
    "from sklearn import metrics\n",
    "from sklearn.preprocessing import LabelEncoder\n",
    "from mlxtend.preprocessing import minmax_scaling\n",
    "import scipy.stats\n",
    "from sklearn.metrics import roc_auc_score"
   ]
  },
  {
   "cell_type": "markdown",
   "id": "0f730b40",
   "metadata": {},
   "source": [
    "## Chi square test\n",
    "### Null hypothesis: Predictor variable and target variable are independent\n",
    "### If chi square score is higher that a critical values, null hypothesis can be rejected."
   ]
  },
  {
   "cell_type": "code",
   "execution_count": null,
   "id": "8807908b",
   "metadata": {
    "ExecuteTime": {
     "end_time": "2022-08-25T20:04:40.622513Z",
     "start_time": "2022-08-25T20:04:40.622513Z"
    }
   },
   "outputs": [],
   "source": [
    "data_copy = data_adult.copy()\n",
    "for col in data_copy.columns:\n",
    "    data_copy[col] = LabelEncoder().fit_transform(data_copy[col])"
   ]
  },
  {
   "cell_type": "code",
   "execution_count": null,
   "id": "425d01bb",
   "metadata": {
    "ExecuteTime": {
     "end_time": "2022-08-25T20:04:40.624515Z",
     "start_time": "2022-08-25T20:04:40.624515Z"
    }
   },
   "outputs": [],
   "source": [
    "features = [col for col in data_copy.columns if col != 'stroke']\n",
    "X = data_copy[features]\n",
    "y = data_copy['stroke']"
   ]
  },
  {
   "cell_type": "code",
   "execution_count": null,
   "id": "5a25abf0",
   "metadata": {
    "ExecuteTime": {
     "end_time": "2022-08-25T20:04:40.626516Z",
     "start_time": "2022-08-25T20:04:40.626516Z"
    }
   },
   "outputs": [],
   "source": [
    "X_train, X_test, y_train, y_test = train_test_split(X,y,test_size=0.3,random_state=246)"
   ]
  },
  {
   "cell_type": "code",
   "execution_count": null,
   "id": "c5146c8d",
   "metadata": {
    "ExecuteTime": {
     "end_time": "2022-08-25T20:04:40.628518Z",
     "start_time": "2022-08-25T20:04:40.628518Z"
    }
   },
   "outputs": [],
   "source": [
    "p_values = {}\n",
    "for col in X_train.columns:\n",
    "    if col != 'stroke':\n",
    "        crosstab = pd.crosstab(y_train, X_train[col])\n",
    "        res = scipy.stats.chi2_contingency(crosstab)\n",
    "        p_val = res[1]\n",
    "        chi_2 = res[0]\n",
    "        p_values[col] = [p_val,chi_2]"
   ]
  },
  {
   "cell_type": "code",
   "execution_count": null,
   "id": "6f488cfe",
   "metadata": {
    "ExecuteTime": {
     "end_time": "2022-08-25T20:04:40.631519Z",
     "start_time": "2022-08-25T20:04:40.631519Z"
    }
   },
   "outputs": [],
   "source": [
    "p_values"
   ]
  },
  {
   "cell_type": "code",
   "execution_count": null,
   "id": "67e0d83b",
   "metadata": {
    "ExecuteTime": {
     "end_time": "2022-08-25T20:04:40.633522Z",
     "start_time": "2022-08-25T20:04:40.633522Z"
    }
   },
   "outputs": [],
   "source": [
    "res = pd.DataFrame(p_values).T.reset_index(level=0)"
   ]
  },
  {
   "cell_type": "code",
   "execution_count": null,
   "id": "ec67c0f3",
   "metadata": {
    "ExecuteTime": {
     "end_time": "2022-08-25T20:04:40.635522Z",
     "start_time": "2022-08-25T20:04:40.635522Z"
    }
   },
   "outputs": [],
   "source": [
    "res = res.rename(columns={'index':'feature',0:'p_value',1:'chi_2'})"
   ]
  },
  {
   "cell_type": "code",
   "execution_count": null,
   "id": "60463e5c",
   "metadata": {
    "ExecuteTime": {
     "end_time": "2022-08-25T20:04:40.637524Z",
     "start_time": "2022-08-25T20:04:40.637524Z"
    }
   },
   "outputs": [],
   "source": [
    "res = res.sort_values(by='p_value',ascending=True).reset_index(drop=True)"
   ]
  },
  {
   "cell_type": "code",
   "execution_count": null,
   "id": "eaef0994",
   "metadata": {
    "ExecuteTime": {
     "end_time": "2022-08-25T20:04:40.640524Z",
     "start_time": "2022-08-25T20:04:40.640524Z"
    },
    "scrolled": true
   },
   "outputs": [],
   "source": [
    "res[res['p_value'] <= 0.001]"
   ]
  },
  {
   "cell_type": "code",
   "execution_count": null,
   "id": "a69c6774",
   "metadata": {
    "ExecuteTime": {
     "end_time": "2022-08-25T20:04:40.641525Z",
     "start_time": "2022-08-25T20:04:40.641525Z"
    }
   },
   "outputs": [],
   "source": [
    "res"
   ]
  },
  {
   "cell_type": "code",
   "execution_count": null,
   "id": "268a1628",
   "metadata": {
    "ExecuteTime": {
     "end_time": "2022-08-25T20:04:40.643526Z",
     "start_time": "2022-08-25T20:04:40.643526Z"
    }
   },
   "outputs": [],
   "source": [
    "critical_values = {}\n",
    "for col in X_train.columns:\n",
    "    if col != 'stroke':\n",
    "        crosstab = pd.crosstab(y_train, X_train[col])\n",
    "        df = (len(crosstab.index)-1)*(len(crosstab.columns)-1) #degrees of freedom\n",
    "        crit_val = scipy.stats.chi2.ppf(0.95, df=df)\n",
    "        critical_values[col] = crit_val"
   ]
  },
  {
   "cell_type": "code",
   "execution_count": null,
   "id": "25350653",
   "metadata": {
    "ExecuteTime": {
     "end_time": "2022-08-25T20:04:40.645528Z",
     "start_time": "2022-08-25T20:04:40.645528Z"
    }
   },
   "outputs": [],
   "source": [
    "crosstab = pd.crosstab(y_train, X_train[\"glucose_levels\"].values == 1)\n",
    "res = scipy.stats.chi2_contingency(crosstab)"
   ]
  },
  {
   "cell_type": "code",
   "execution_count": null,
   "id": "6d74e0ac",
   "metadata": {
    "ExecuteTime": {
     "end_time": "2022-08-25T20:04:40.648538Z",
     "start_time": "2022-08-25T20:04:40.648538Z"
    }
   },
   "outputs": [],
   "source": [
    "data_adult.glucose_levels.value_counts()"
   ]
  },
  {
   "cell_type": "code",
   "execution_count": null,
   "id": "1c8f71db",
   "metadata": {
    "ExecuteTime": {
     "end_time": "2022-08-25T20:04:40.651532Z",
     "start_time": "2022-08-25T20:04:40.651532Z"
    }
   },
   "outputs": [],
   "source": [
    "X_train.glucose_levels.value_counts()"
   ]
  },
  {
   "cell_type": "code",
   "execution_count": null,
   "id": "c95b57bf",
   "metadata": {
    "ExecuteTime": {
     "end_time": "2022-08-25T20:04:40.653534Z",
     "start_time": "2022-08-25T20:04:40.653534Z"
    }
   },
   "outputs": [],
   "source": [
    "X_train"
   ]
  },
  {
   "cell_type": "code",
   "execution_count": null,
   "id": "a2f13b58",
   "metadata": {
    "ExecuteTime": {
     "end_time": "2022-08-25T20:04:40.655535Z",
     "start_time": "2022-08-25T20:04:40.655535Z"
    }
   },
   "outputs": [],
   "source": [
    "res"
   ]
  },
  {
   "cell_type": "code",
   "execution_count": null,
   "id": "9a62639d",
   "metadata": {
    "ExecuteTime": {
     "end_time": "2022-08-25T20:04:40.657537Z",
     "start_time": "2022-08-25T20:04:40.657537Z"
    }
   },
   "outputs": [],
   "source": [
    "crit_values = pd.DataFrame.from_dict(critical_values,orient='index')"
   ]
  },
  {
   "cell_type": "code",
   "execution_count": null,
   "id": "c9abd3cd",
   "metadata": {
    "ExecuteTime": {
     "end_time": "2022-08-25T20:04:40.659538Z",
     "start_time": "2022-08-25T20:04:40.659538Z"
    }
   },
   "outputs": [],
   "source": [
    "selection_model = SelectKBest(score_func=chi2, k=10).fit(X_train, y_train)\n",
    "feature_score = pd.DataFrame({'features': X_train.columns.values, 'scores':selection_model.scores_})"
   ]
  },
  {
   "cell_type": "code",
   "execution_count": null,
   "id": "679085f7",
   "metadata": {
    "ExecuteTime": {
     "end_time": "2022-08-25T20:04:40.661540Z",
     "start_time": "2022-08-25T20:04:40.661540Z"
    }
   },
   "outputs": [],
   "source": [
    "df = pd.merge(crit_values,feature_score,left_index=True, right_on='features')"
   ]
  },
  {
   "cell_type": "code",
   "execution_count": null,
   "id": "f8a13777",
   "metadata": {
    "ExecuteTime": {
     "end_time": "2022-08-25T20:04:40.664544Z",
     "start_time": "2022-08-25T20:04:40.664544Z"
    }
   },
   "outputs": [],
   "source": [
    "df = df.rename(columns={0:'critical value'})"
   ]
  },
  {
   "cell_type": "code",
   "execution_count": null,
   "id": "6750b9f8",
   "metadata": {
    "ExecuteTime": {
     "end_time": "2022-08-25T20:04:40.667545Z",
     "start_time": "2022-08-25T20:04:40.666543Z"
    }
   },
   "outputs": [],
   "source": [
    "df.sort_values(by='scores',ascending=False).reset_index(drop=True)"
   ]
  },
  {
   "cell_type": "code",
   "execution_count": null,
   "id": "3a01759c",
   "metadata": {
    "ExecuteTime": {
     "end_time": "2022-08-25T20:04:40.669546Z",
     "start_time": "2022-08-25T20:04:40.669546Z"
    }
   },
   "outputs": [],
   "source": [
    "feature_score.sort_values(by='scores',ascending=False).plot(x='features',kind='bar',title='Chi-squared scores');"
   ]
  },
  {
   "cell_type": "markdown",
   "id": "21144216",
   "metadata": {},
   "source": [
    "## As we can see, critical value is higher than chi square score for features 'work_type','smoking_status','Residence_type' and 'gender' indicating that these features and target feature are independent."
   ]
  },
  {
   "cell_type": "code",
   "execution_count": null,
   "id": "8759f9dc",
   "metadata": {
    "ExecuteTime": {
     "end_time": "2022-08-25T20:04:40.672548Z",
     "start_time": "2022-08-25T20:04:40.672548Z"
    }
   },
   "outputs": [],
   "source": [
    "data_adult.head()"
   ]
  },
  {
   "cell_type": "markdown",
   "id": "1827c8fe",
   "metadata": {
    "ExecuteTime": {
     "end_time": "2022-07-08T16:49:18.466684Z",
     "start_time": "2022-07-08T16:49:18.444670Z"
    }
   },
   "source": [
    "## Building a model to get feature importance"
   ]
  },
  {
   "cell_type": "code",
   "execution_count": null,
   "id": "642d1f12",
   "metadata": {
    "ExecuteTime": {
     "end_time": "2022-08-25T20:04:40.675550Z",
     "start_time": "2022-08-25T20:04:40.675550Z"
    }
   },
   "outputs": [],
   "source": [
    "features = [col for col in data_adult.columns if col != 'stroke']\n",
    "X = data_adult[features] \n",
    "y = data_adult[['stroke']] "
   ]
  },
  {
   "cell_type": "code",
   "execution_count": null,
   "id": "7f67616d",
   "metadata": {
    "ExecuteTime": {
     "end_time": "2022-08-25T20:04:40.677551Z",
     "start_time": "2022-08-25T20:04:40.677551Z"
    }
   },
   "outputs": [],
   "source": [
    "X_train, X_test, y_train, y_test = train_test_split(X,y,test_size=0.3,random_state=246)"
   ]
  },
  {
   "cell_type": "code",
   "execution_count": null,
   "id": "b95b009a",
   "metadata": {
    "ExecuteTime": {
     "end_time": "2022-08-25T20:04:40.681554Z",
     "start_time": "2022-08-25T20:04:40.681554Z"
    }
   },
   "outputs": [],
   "source": [
    "X_train_dummies = pd.get_dummies(X_train,drop_first=True)\n",
    "X_test_dummies = pd.get_dummies(X_test,drop_first=True)"
   ]
  },
  {
   "cell_type": "code",
   "execution_count": null,
   "id": "b8a5631b",
   "metadata": {
    "ExecuteTime": {
     "end_time": "2022-08-25T20:04:40.683556Z",
     "start_time": "2022-08-25T20:04:40.683556Z"
    }
   },
   "outputs": [],
   "source": [
    "import xgboost as xgb\n",
    "xgb_clf = xgb.XGBClassifier(objective= 'binary:logistic', eta=0.01, n_estimators=200, \n",
    "                        max_depth=8, colsample_bytree=0.8, seed=47, use_label_encoder=False)"
   ]
  },
  {
   "cell_type": "code",
   "execution_count": null,
   "id": "53899eae",
   "metadata": {
    "ExecuteTime": {
     "end_time": "2022-08-25T20:04:40.686560Z",
     "start_time": "2022-08-25T20:04:40.686560Z"
    }
   },
   "outputs": [],
   "source": [
    "def replace_char(df):\n",
    "    df.columns = df.columns.str.replace(\"_\", \"\")\n",
    "    df.columns = df.columns.str.replace(\",\", \"\")\n",
    "    df.columns = df.columns.str.replace(\"]\", \"\")\n",
    "    df.columns = df.columns.str.replace(\"[\", \"\")"
   ]
  },
  {
   "cell_type": "code",
   "execution_count": null,
   "id": "1fd1e6e8",
   "metadata": {
    "ExecuteTime": {
     "end_time": "2022-08-25T20:04:40.689560Z",
     "start_time": "2022-08-25T20:04:40.689560Z"
    }
   },
   "outputs": [],
   "source": [
    "replace_char(X_train_dummies)\n",
    "replace_char(X_test_dummies)"
   ]
  },
  {
   "cell_type": "code",
   "execution_count": null,
   "id": "f5e0c231",
   "metadata": {
    "ExecuteTime": {
     "end_time": "2022-08-25T20:04:40.692561Z",
     "start_time": "2022-08-25T20:04:40.692561Z"
    },
    "scrolled": true
   },
   "outputs": [],
   "source": [
    "xgb_clf.fit(X_train_dummies, y_train, verbose=True)"
   ]
  },
  {
   "cell_type": "code",
   "execution_count": null,
   "id": "b486983c",
   "metadata": {
    "ExecuteTime": {
     "end_time": "2022-08-25T20:04:40.695564Z",
     "start_time": "2022-08-25T20:04:40.695564Z"
    }
   },
   "outputs": [],
   "source": [
    "y_pred_probs = xgb_clf.predict_proba(X_train_dummies)[:,1]\n",
    "roc_auc_score(y_train.values, y_pred_probs)"
   ]
  },
  {
   "cell_type": "code",
   "execution_count": null,
   "id": "1341497b",
   "metadata": {
    "ExecuteTime": {
     "end_time": "2022-08-25T20:04:40.698567Z",
     "start_time": "2022-08-25T20:04:40.698567Z"
    }
   },
   "outputs": [],
   "source": [
    "df_feature_imp = pd.DataFrame(X_train_dummies.columns,columns=['feature'])\n",
    "df_feature_imp['importance'] = xgb_clf.feature_importances_\n",
    "df_feature_imp.sort_values(by='importance', ascending=False, inplace=True)\n",
    "df_featture_imp_top = df_feature_imp.head(20)\n",
    "\n",
    "fig, ax = plt.subplots(figsize=(8,12))\n",
    "sns.barplot(x ='importance', y='feature', data = df_featture_imp_top)\n",
    "plt.title('Feature Importance - Top 20')\n",
    "plt.show()"
   ]
  }
 ],
 "metadata": {
  "kernelspec": {
   "display_name": "Python 3 (ipykernel)",
   "language": "python",
   "name": "python3"
  },
  "language_info": {
   "codemirror_mode": {
    "name": "ipython",
    "version": 3
   },
   "file_extension": ".py",
   "mimetype": "text/x-python",
   "name": "python",
   "nbconvert_exporter": "python",
   "pygments_lexer": "ipython3",
   "version": "3.9.12"
  }
 },
 "nbformat": 4,
 "nbformat_minor": 5
}
